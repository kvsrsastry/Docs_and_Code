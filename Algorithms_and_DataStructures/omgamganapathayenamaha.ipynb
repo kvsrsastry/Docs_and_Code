{
 "cells": [
  {
   "cell_type": "code",
   "execution_count": 1,
   "metadata": {},
   "outputs": [
    {
     "name": "stdout",
     "output_type": "stream",
     "text": [
      "omgamganapathayenamaha\n"
     ]
    }
   ],
   "source": [
    "print('omgamganapathayenamaha')"
   ]
  },
  {
   "cell_type": "code",
   "execution_count": 103,
   "metadata": {},
   "outputs": [],
   "source": [
    "class node():\n",
    "    def __init__(self, data=None, next=None):\n",
    "        self.data = data\n",
    "        self.next = next"
   ]
  },
  {
   "cell_type": "code",
   "execution_count": 7,
   "metadata": {},
   "outputs": [
    {
     "name": "stdout",
     "output_type": "stream",
     "text": [
      "True\n",
      "14\n",
      "14\n",
      "13\n",
      "12\n",
      "11\n",
      "10\n",
      "True\n"
     ]
    }
   ],
   "source": [
    "class stack():\n",
    "    def __init__(self):\n",
    "        self.head = None\n",
    "    \n",
    "    def push(self, data):\n",
    "        tmp = node(data)\n",
    "        tmp.next = self.head\n",
    "        self.head = tmp\n",
    "    \n",
    "    def pop(self):\n",
    "        if self.head == None:\n",
    "            raise Exception('Stack Empty!!!')\n",
    "        else:\n",
    "            tmp = self.head\n",
    "            self.head = self.head.next\n",
    "            return tmp.data\n",
    "    \n",
    "    def top(self):\n",
    "        if self.head == None:\n",
    "            raise Exception('Stack Empty!!!')\n",
    "        else:\n",
    "            return self.head.data\n",
    "    \n",
    "    def is_empty(self):\n",
    "        return (self.head == None)\n",
    "    \n",
    "s = stack()\n",
    "print(s.is_empty())\n",
    "for item in range(10,15):\n",
    "    s.push(item)\n",
    "print(s.top())\n",
    "while not s.is_empty():\n",
    "    print(s.pop())\n",
    "print(s.is_empty())\n",
    "#print(s.pop())"
   ]
  },
  {
   "cell_type": "code",
   "execution_count": 8,
   "metadata": {},
   "outputs": [
    {
     "name": "stdout",
     "output_type": "stream",
     "text": [
      "True\n",
      "10\n",
      "11\n",
      "12\n",
      "13\n",
      "14\n",
      "True\n"
     ]
    }
   ],
   "source": [
    "class queue():\n",
    "    def __init__(self):\n",
    "        self.front = None\n",
    "        self.rear = None\n",
    "    \n",
    "    def enqueue(self, data):\n",
    "        tmp = node(data)\n",
    "        if self.front == self.rear == None:\n",
    "            self.front = self.rear = tmp\n",
    "        else:\n",
    "            self.rear.next = tmp\n",
    "            self.rear = tmp\n",
    "    \n",
    "    def dequeue(self):\n",
    "        if self.front == self.rear == None:\n",
    "            raise Exception('Queue Empty!!!')\n",
    "        elif self.front == self.rear:\n",
    "            tmp = self.front\n",
    "            self.front = self.rear = None\n",
    "            return tmp.data\n",
    "        else:\n",
    "            tmp = self.front\n",
    "            self.front = self.front.next\n",
    "            return tmp.data\n",
    "\n",
    "    def is_empty(self):\n",
    "        return self.front == self.rear == None\n",
    "    \n",
    "q = queue()\n",
    "print(q.is_empty())\n",
    "for item in range(10,15):\n",
    "    q.enqueue(item)\n",
    "while(not q.is_empty()):\n",
    "    print(q.dequeue())\n",
    "print(q.is_empty())\n",
    "#print(q.dequeue())"
   ]
  },
  {
   "cell_type": "code",
   "execution_count": 156,
   "metadata": {},
   "outputs": [
    {
     "name": "stdout",
     "output_type": "stream",
     "text": [
      "13 12 11 10 \n",
      "13 100 12 11 10 \n",
      "11\n",
      "100\n",
      "100\n",
      "100 13 11 12 10 \n",
      "100 10 13 12 11 \n",
      "None\n",
      "13\n",
      "11 12 13 10 100 \n",
      "11 13 10 100 \n",
      "100 10 13 11 \n",
      "10 13 11 \n",
      "11 13 10 \n",
      "13\n",
      "None\n",
      "<__main__.node object at 0x000002729E4B04A8>\n",
      "True\n",
      "False\n"
     ]
    }
   ],
   "source": [
    "class sll():\n",
    "    def __init__(self):\n",
    "        self.head = None\n",
    "    \n",
    "    def insert_at_beg(self, data):\n",
    "        tmp = node(data)\n",
    "        tmp.next = self.head\n",
    "        self.head = tmp\n",
    "    \n",
    "    def insert(self, pos, data):\n",
    "        if pos < 0:\n",
    "            raise Exception('Insert Position can\\'t be Negative!!!')\n",
    "        elif pos == 0:\n",
    "            self.insert_at_beg(data)\n",
    "        else:\n",
    "            cnt = 0\n",
    "            tmp = self.head\n",
    "            while cnt < pos - 1:\n",
    "                if tmp == None:\n",
    "                    raise Exception('Cannot Insert at pos {}'.format(pos))\n",
    "                tmp = tmp.next\n",
    "                cnt += 1\n",
    "            if tmp == None:\n",
    "                raise Exception('Cannot Insert at pos {}'.format(pos))\n",
    "            temp = node(data)\n",
    "            temp.next = tmp.next\n",
    "            tmp.next = temp\n",
    "    \n",
    "    def find(self, data):\n",
    "        tmp = self.head\n",
    "        while tmp != None and tmp.data != data:\n",
    "            tmp = tmp.next\n",
    "        return tmp\n",
    "    \n",
    "    def delete_at_beg(self):\n",
    "        if self.head == None:\n",
    "            raise Exception('List Empty!!!')\n",
    "        else:\n",
    "            self.head = self.head.next\n",
    "    \n",
    "    def delete(self, pos):\n",
    "        if pos < 0:\n",
    "            raise Exception('Delete Position can\\'t be Negative!!!')\n",
    "        elif pos == 0:\n",
    "            self.delete_at_beg()\n",
    "        else:\n",
    "            tmp = self.head\n",
    "            cnt = 0\n",
    "            while cnt < pos - 1:\n",
    "                if tmp == None:\n",
    "                    raise Exception('Cannot Delete at pos {}'.format(pos))\n",
    "                tmp = tmp.next\n",
    "                cnt += 1\n",
    "            if tmp == None or tmp.next == None:\n",
    "                raise Exception('Cannot Delete at pos {}'.format(pos))\n",
    "            tmp.next = tmp.next.next\n",
    "    \n",
    "    def print_list(self):\n",
    "        tmp = self.head\n",
    "        while tmp != None:\n",
    "            print(tmp.data, end = ' ')\n",
    "            tmp = tmp.next\n",
    "        print()\n",
    "    \n",
    "    def reverse(self):\n",
    "        prev = None\n",
    "        cur = self.head\n",
    "        while cur != None:\n",
    "            nxt = cur.next\n",
    "            cur.next = prev\n",
    "            prev = cur\n",
    "            cur = nxt\n",
    "        self.head = prev\n",
    "\n",
    "    def kth_from_last(self, k):\n",
    "        if k <= 0: return None\n",
    "        slowptr = self.head\n",
    "        fastptr = self.head\n",
    "        cnt = k\n",
    "        while fastptr != None and cnt > 0:\n",
    "            fastptr = fastptr.next\n",
    "            cnt -= 1\n",
    "        if cnt == 0:\n",
    "            while fastptr != None:\n",
    "                fastptr = fastptr.next\n",
    "                slowptr = slowptr.next\n",
    "            return slowptr.data\n",
    "        else:\n",
    "            return None\n",
    "    \n",
    "    def find_middle(self):\n",
    "        fastptr = slowptr = self.head\n",
    "        while fastptr != None:\n",
    "            fastptr = fastptr.next\n",
    "            if fastptr == None:\n",
    "                return slowptr\n",
    "            fastptr = fastptr.next\n",
    "            if fastptr == None:\n",
    "                return slowptr\n",
    "            slowptr = slowptr.next\n",
    "        return slowptr\n",
    "\n",
    "    def loop_exists(self):\n",
    "        slowptr = fastptr = self.head\n",
    "        while fastptr != None:\n",
    "            fastptr = fastptr.next\n",
    "            if fastptr == slowptr:\n",
    "                return True\n",
    "            if fastptr == None:\n",
    "                return False\n",
    "            fastptr = fastptr.next\n",
    "            if fastptr == slowptr:\n",
    "                return True\n",
    "            if fastptr == None:\n",
    "                return False\n",
    "            slowptr = slowptr.next\n",
    "        return False\n",
    "\n",
    "    def reverse_start_end(self, start, end):\n",
    "        prev = None\n",
    "        cur = start\n",
    "        while cur != end:\n",
    "            nxt = cur.next\n",
    "            cur.next = prev\n",
    "            prev = cur\n",
    "            cur = nxt\n",
    "        cur.next = prev\n",
    "\n",
    "    def reverse_block_of_k_nodes(self, k):\n",
    "        if k <= 1: return\n",
    "        tmp = node()\n",
    "        tmp.next = self.head\n",
    "        prev = tmp\n",
    "        while True:\n",
    "            end = prev\n",
    "            start = prev.next\n",
    "            cnt = 0\n",
    "            while cnt < k:\n",
    "                end = end.next\n",
    "                if end == None:\n",
    "                    self.head = tmp.next\n",
    "                    return\n",
    "                cnt += 1\n",
    "            nb = end.next\n",
    "            self.reverse_start_end(start, end)\n",
    "            start.next = nb\n",
    "            prev.next = end\n",
    "            prev = start\n",
    "\n",
    "    def reorder_list(self):\n",
    "        stack = []\n",
    "        tmp = self.head\n",
    "        while tmp != None:\n",
    "            stack.append(tmp)\n",
    "            tmp = tmp.next\n",
    "        fromstack = True\n",
    "        fromhead = self.head\n",
    "        newlist = self.head\n",
    "        while((fromstack and newlist != stack[-1]) or (not fromstack and newlist != fromhead)):\n",
    "            if fromstack:\n",
    "                fromhead = fromhead.next\n",
    "                newlist.next = stack.pop()\n",
    "                fromstack = False\n",
    "            else:\n",
    "                newlist.next = fromhead\n",
    "                fromstack = True\n",
    "            newlist = newlist.next\n",
    "        newlist.next = None\n",
    "\n",
    "    def modnode(self, k):\n",
    "        modnode = None\n",
    "        cnt = 1\n",
    "        tmp = self.head\n",
    "        while tmp != None:\n",
    "            if cnt % k == 0:\n",
    "                modnode = tmp\n",
    "            tmp = tmp.next\n",
    "            cnt += 1\n",
    "        if modnode == None: return None\n",
    "        else: return modnode.data\n",
    "    \n",
    "    def fractional_node(self, k):\n",
    "        cnt = 1\n",
    "        tmp = self.head\n",
    "        dnode = None\n",
    "        while tmp != None:\n",
    "            if cnt % k == 0:\n",
    "                if dnode == None: dnode = self.head\n",
    "                else: dnode = dnode.next\n",
    "            tmp = tmp.next\n",
    "            cnt += 1\n",
    "        if dnode == None: return None\n",
    "        else: return dnode.data\n",
    "\n",
    "    def sqrt_node(self):\n",
    "        cnt = 1\n",
    "        tmp = self.head\n",
    "        dnode = None\n",
    "        while tmp != None:\n",
    "            temp = cnt ** 0.5\n",
    "            if temp == int(temp):\n",
    "                if dnode == None:\n",
    "                    dnode = self.head\n",
    "                else:\n",
    "                    dnode = dnode.next\n",
    "            cnt += 1\n",
    "            tmp = tmp.next\n",
    "        if dnode == None: return None\n",
    "        else: return dnode.data\n",
    "        \n",
    "l = sll()\n",
    "#l.delete(3)\n",
    "for item in range(10,14):\n",
    "    l.insert(0, item)\n",
    "l.print_list()\n",
    "l.insert(1, 100)\n",
    "l.print_list()\n",
    "print(l.modnode(2))\n",
    "print(l.fractional_node(2))\n",
    "print(l.sqrt_node())\n",
    "l.reverse_block_of_k_nodes(2)\n",
    "l.print_list()\n",
    "l.reorder_list()\n",
    "l.print_list()\n",
    "print(l.kth_from_last(10))\n",
    "print(l.find_middle().data)\n",
    "l.reverse()\n",
    "l.print_list()\n",
    "l.delete(1)\n",
    "l.print_list()\n",
    "l.reverse()\n",
    "l.print_list()\n",
    "l.delete(0)\n",
    "l.print_list()\n",
    "l.reverse()\n",
    "l.print_list()\n",
    "print(l.find_middle().data)\n",
    "print(l.find(333))\n",
    "print(l.find(10))\n",
    "# Create a loop\n",
    "n1 = node(1)\n",
    "n2 = node(2)\n",
    "n1.next = n2\n",
    "n3 = node(3)\n",
    "n2.next = n3\n",
    "n4 = node(4)\n",
    "n3.next = n4\n",
    "n5 = node(5)\n",
    "n4.next = n5\n",
    "n5.next = n3\n",
    "ll = sll()\n",
    "ll.head = n1\n",
    "print(ll.loop_exists())\n",
    "print(l.loop_exists())"
   ]
  },
  {
   "cell_type": "code",
   "execution_count": 60,
   "metadata": {},
   "outputs": [
    {
     "name": "stdout",
     "output_type": "stream",
     "text": [
      "23 \n",
      "23 14 13 12 11 10 \n",
      "23 14 13 12 11 10 21 \n",
      "14\n",
      "14 13 12 11 10 21 \n",
      "14 13 12 11 10 \n",
      "14 12 10 \n",
      "12\n"
     ]
    }
   ],
   "source": [
    "class dnode():\n",
    "    def __init__(self, data=None, next=None, prev=None):\n",
    "        self.data = data\n",
    "        self.next = next\n",
    "        self.prev = None\n",
    "\n",
    "class dll():\n",
    "    def __init__(self):\n",
    "        self.head = None\n",
    "    \n",
    "    def insert_at_beg(self, data):\n",
    "        tmp = dnode(data)\n",
    "        tmp.next = self.head\n",
    "        if self.head != None:\n",
    "            self.head.prev = tmp\n",
    "        self.head = tmp\n",
    "\n",
    "    def insert(self, pos, data):\n",
    "        if pos < 0:\n",
    "            raise Exception('Insert Position can\\'t be Negative!!!')\n",
    "        elif pos == 0:\n",
    "            self.insert_at_beg(data)\n",
    "        else:\n",
    "            cnt = 0\n",
    "            tmp = self.head\n",
    "            while cnt < pos - 1:\n",
    "                if tmp == None:\n",
    "                    raise Exception('Cannot Insert at pos {}'.format(pos))\n",
    "                cnt += 1\n",
    "                tmp = tmp.next\n",
    "            if tmp == None:\n",
    "                raise Exception('Cannot Insert at pos {}'.format(pos))\n",
    "            nnode = dnode(data)\n",
    "            nnode.next = tmp.next\n",
    "            if tmp.next != None:\n",
    "                tmp.next.prev = nnode\n",
    "            tmp.next = nnode\n",
    "            nnode.prev = tmp\n",
    "    \n",
    "    def print_list(self):\n",
    "        tmp = self.head\n",
    "        while tmp != None:\n",
    "            print(tmp.data, end = ' ')\n",
    "            tmp = tmp.next\n",
    "        print()\n",
    "\n",
    "    def delete_at_beg(self):\n",
    "        if self.head == None:\n",
    "            raise Exception('List Empty!!!')\n",
    "        else:\n",
    "            self.head = self.head.next\n",
    "            if self.head != None:\n",
    "                self.head.prev = None\n",
    "    \n",
    "    def delete(self, pos):\n",
    "        if pos < 0:\n",
    "            raise Exception('Delete Position can\\'t be Negative!!!')\n",
    "        elif pos == 0:\n",
    "            self.delete_at_beg()\n",
    "        else:\n",
    "            tmp = self.head\n",
    "            cnt = 0\n",
    "            while cnt < pos - 1:\n",
    "                if tmp == None:\n",
    "                    raise Exception('Cannot Delete at pos {}'.format(pos))\n",
    "                tmp = tmp.next\n",
    "                cnt += 1\n",
    "            if tmp == None or tmp.next == None:\n",
    "                raise Exception('Cannot Delete at pos {}'.format(pos))\n",
    "            dnode = tmp.next\n",
    "            if dnode.next != None:\n",
    "                dnode.next.prev = tmp\n",
    "            tmp.next = dnode.next\n",
    "            del dnode\n",
    "            \n",
    "dl = dll()\n",
    "dl.insert(0, 23)\n",
    "dl.print_list()\n",
    "for item in range(10,15):\n",
    "    dl.insert(1,item)\n",
    "dl.print_list()\n",
    "dl.insert(6,21)\n",
    "dl.print_list()\n",
    "print(dl.head.next.next.prev.data)\n",
    "dl.delete(0)\n",
    "dl.print_list()\n",
    "dl.delete(5)\n",
    "dl.print_list()\n",
    "dl.delete(3)\n",
    "dl.delete(1)\n",
    "dl.print_list()\n",
    "print(dl.head.next.next.prev.data)"
   ]
  },
  {
   "cell_type": "code",
   "execution_count": 26,
   "metadata": {},
   "outputs": [
    {
     "name": "stdout",
     "output_type": "stream",
     "text": [
      "[11, 22, 33]\n",
      "[99, 77, 66]\n",
      "11 22 33 44 55 66 77 99 \n",
      "[33, 11, 66, 44, 99, 22, 77]\n",
      "[-99, -77, -66]\n",
      "[-11, -22, -33]\n",
      "99 77 66 55 44 33 22 11 \n",
      "[33, 11, 66, 44, 99, 22, 77]\n"
     ]
    }
   ],
   "source": [
    "from heapq import heapify, heappush, heappop\n",
    "def create_min_heap(arr):\n",
    "    heapify(arr)\n",
    "    heappush(arr, 55)\n",
    "    print(heapq.nsmallest(3, arr))\n",
    "    print(heapq.nlargest(3, arr))\n",
    "    while len(arr) > 0:\n",
    "        print(heappop(arr), end = ' ')\n",
    "    print()\n",
    "\n",
    "def create_max_heap(arr):\n",
    "    arr = [item*-1 for item in arr]\n",
    "    heapify(arr)\n",
    "    heappush(arr, -55)\n",
    "    print(heapq.nsmallest(3, arr))\n",
    "    print(heapq.nlargest(3, arr))\n",
    "    while len(arr) > 0:\n",
    "        print(heappop(arr) * -1, end = ' ')\n",
    "    print()\n",
    "\n",
    "arr = [33, 11, 66, 44, 99, 22, 77]\n",
    "create_min_heap(arr.copy())\n",
    "print(arr)\n",
    "create_max_heap(arr.copy())\n",
    "print(arr)"
   ]
  },
  {
   "cell_type": "code",
   "execution_count": 2,
   "metadata": {},
   "outputs": [],
   "source": [
    "class bnode():\n",
    "    def __init__(self, data=None, left=None, right=None):\n",
    "        self.data = data\n",
    "        self.left = left\n",
    "        self.right = right"
   ]
  },
  {
   "cell_type": "code",
   "execution_count": 73,
   "metadata": {},
   "outputs": [
    {
     "name": "stdout",
     "output_type": "stream",
     "text": [
      "<class '__main__.bst'>\n",
      "None\n",
      "11 33 44 55 77 99 \n",
      "77 33 11 55 44 99 \n",
      "11 44 55 33 99 77 \n",
      "77 33 99 11 55 44 \n",
      "11\n",
      "99\n",
      "True\n",
      "False\n",
      "11 33 44 55 99 \n",
      "11 33 44 99 \n",
      "33 44 99 \n",
      "99 33 44 \n",
      "44 33 99 \n",
      "99 33 44 \n"
     ]
    }
   ],
   "source": [
    "class bst():\n",
    "    def __init__(self):\n",
    "        self.root = None\n",
    "\n",
    "    def insert(self, data):\n",
    "        self.root = self.inserth(self.root, data)\n",
    "    \n",
    "    def inserth(self, t, data):\n",
    "        if t == None:\n",
    "            t = bnode(data)\n",
    "        elif data < t.data:\n",
    "            t.left = self.inserth(t.left, data)\n",
    "        elif data > t.data:\n",
    "            t.right = self.inserth(t.right, data)\n",
    "\n",
    "        return t\n",
    "    \n",
    "    def delete(self, data):\n",
    "        self.root = self.deleteh(self.root, data)\n",
    "    \n",
    "    def deleteh(self, t, data):\n",
    "        if t == None:\n",
    "            return t\n",
    "        elif data == t.data:\n",
    "            if t.left and t.right:\n",
    "                tmp = self.find_min(t.right)\n",
    "                t.data = tmp\n",
    "                t.right = self.deleteh(t.right, tmp)\n",
    "            else:\n",
    "                return t.left if t.left else t.right\n",
    "        elif data < t.data:\n",
    "            t.left = self.deleteh(t.left, data)\n",
    "        elif data > t.data:\n",
    "            t.right = self.deleteh(t.right, data)\n",
    "        return t\n",
    "    \n",
    "    def find_min(self, t=None):\n",
    "        if t == None:\n",
    "            t = self.root\n",
    "        if t == None:\n",
    "            return t\n",
    "        while t.left != None:\n",
    "            t = t.left\n",
    "        return t.data\n",
    "\n",
    "    def find_max(self, t = None):\n",
    "        if t == None:\n",
    "            t = self.root\n",
    "        if t == None:\n",
    "            return t\n",
    "        while t.right != None:\n",
    "            t = t.right\n",
    "        return t.data\n",
    "\n",
    "    def inorder(self):\n",
    "        self.inorderh(self.root)\n",
    "        print()\n",
    "    \n",
    "    def inorderh(self, t):\n",
    "        if t:\n",
    "            self.inorderh(t.left)\n",
    "            print(t.data, end = ' ')\n",
    "            self.inorderh(t.right)\n",
    "\n",
    "    def preorder(self):\n",
    "        self.preorderh(self.root)\n",
    "        print()\n",
    "    \n",
    "    def preorderh(self, t):\n",
    "        if t:\n",
    "            print(t.data, end = ' ')\n",
    "            self.preorderh(t.left)\n",
    "            self.preorderh(t.right)\n",
    "\n",
    "    def postorder(self):\n",
    "        self.postorderh(self.root)\n",
    "        print()\n",
    "    \n",
    "    def postorderh(self, t):\n",
    "        if t:\n",
    "            self.postorderh(t.left)\n",
    "            self.postorderh(t.right)\n",
    "            print(t.data, end = ' ')\n",
    "\n",
    "    def levelorder(self):\n",
    "        t = self.root\n",
    "        if t == None:\n",
    "            return\n",
    "        from queue import Queue\n",
    "        q = Queue()\n",
    "        q.put(t)\n",
    "        while not q.empty():\n",
    "            tmp = q.get()\n",
    "            print(tmp.data, end = ' ')\n",
    "            if tmp.left:\n",
    "                q.put(tmp.left)\n",
    "            if tmp.right:\n",
    "                q.put(tmp.right)\n",
    "        print()\n",
    "\n",
    "    def find(self, data):\n",
    "        return self.findh(self.root, data)\n",
    "\n",
    "    def findh(self, t, data):\n",
    "        if t == None:\n",
    "            return False\n",
    "        elif data == t.data:\n",
    "            return True\n",
    "        elif data < t.data:\n",
    "            return self.findh(t.left, data)\n",
    "        elif data > t.data:\n",
    "            return self.findh(t.right, data)\n",
    "t = bst()\n",
    "print(type(t))\n",
    "print(t.root)\n",
    "for item in [77, 33, 55, 99, 44, 11]:\n",
    "    t.insert(item)\n",
    "\n",
    "t.inorder()\n",
    "t.preorder()\n",
    "t.postorder()\n",
    "t.levelorder()\n",
    "print(t.find_min())\n",
    "print(t.find_max())\n",
    "print(t.find(11))\n",
    "print(t.find(100))\n",
    "t.delete(77)\n",
    "t.inorder()\n",
    "t.delete(55)\n",
    "t.inorder()\n",
    "t.delete(11)\n",
    "t.inorder()\n",
    "t.preorder()\n",
    "t.postorder()\n",
    "t.levelorder()"
   ]
  },
  {
   "cell_type": "code",
   "execution_count": 10,
   "metadata": {},
   "outputs": [
    {
     "name": "stdout",
     "output_type": "stream",
     "text": [
      "<class '__main__.bt'>\n",
      "77 33 55 99 44 11 \n",
      "55 33 99 77 11 44 \n",
      "55 99 33 11 44 77 \n",
      "77 33 44 55 99 11 \n",
      "77 33 55 99 11 \n",
      "55 33 99 77 11 \n",
      "55 99 33 11 77 \n",
      "77 33 11 55 99 \n",
      "33\n",
      "None\n",
      "99\n",
      "LCA 33\n",
      "99\n",
      "5\n",
      "2\n",
      "3\n",
      "3\n",
      "1\n",
      "55 11 33 77 \n",
      "77 11 33 55 \n",
      "None\n"
     ]
    }
   ],
   "source": [
    "class bt():\n",
    "    def __init__(self):\n",
    "        self.root = None\n",
    "    \n",
    "    def insert(self, data):\n",
    "        t = self.root\n",
    "        if t == None:\n",
    "            self.root = bnode(data)\n",
    "            return\n",
    "        from queue import Queue\n",
    "        q = Queue()\n",
    "        q.put(t)\n",
    "        while not q.empty():\n",
    "            tmp = q.get()\n",
    "            if tmp.left != None:\n",
    "                q.put(tmp.left)\n",
    "            else:\n",
    "                tmp.left = bnode(data)\n",
    "                break\n",
    "            if tmp.right != None:\n",
    "                q.put(tmp.right)\n",
    "            else:\n",
    "                tmp.right = bnode(data)\n",
    "                break\n",
    "    \n",
    "    def find(self, data):\n",
    "        return self.findh(self.root, data)\n",
    "    \n",
    "    def findh(self, t, data):\n",
    "        if t == None:\n",
    "            return None\n",
    "        elif data == t.data:\n",
    "            return t\n",
    "        else:\n",
    "            left = self.findh(t.left, data)\n",
    "            if left != None:\n",
    "                return left\n",
    "            return self.findh(t.right, data)\n",
    "\n",
    "    def find_leaf_node(self, t):\n",
    "        if t == None:\n",
    "            return None\n",
    "        elif t.left == None and t.right == None:\n",
    "            return t\n",
    "        else:\n",
    "            left = self.find_leaf_node(t.left)\n",
    "            if left != None:\n",
    "                return left\n",
    "            return self.find_leaf_node(t.right)\n",
    "\n",
    "    def deleteh(self, t, data):\n",
    "        if t == None:\n",
    "            return None\n",
    "        elif data == t.data:\n",
    "            if t.left != None and t.right != None:\n",
    "                leaf_node = self.find_leaf_node(t.right)\n",
    "                t.data = leaf_node.data\n",
    "                t.right = self.deleteh(t.right, t.data)\n",
    "            else:\n",
    "                return t.left if t.left else t.right\n",
    "        else:\n",
    "            t.left = self.deleteh(t.left, data)\n",
    "            t.right = self.deleteh(t.right, data)\n",
    "        return t\n",
    "\n",
    "    def delete(self, data):\n",
    "        self.root = self.deleteh(self.root, data)\n",
    "\n",
    "    def inorder(self):\n",
    "        self.inorderh(self.root)\n",
    "        print()\n",
    "    \n",
    "    def inorderh(self, t):\n",
    "        if t:\n",
    "            self.inorderh(t.left)\n",
    "            print(t.data, end = ' ')\n",
    "            self.inorderh(t.right)\n",
    "\n",
    "    def preorder(self):\n",
    "        self.preorderh(self.root)\n",
    "        print()\n",
    "    \n",
    "    def preorderh(self, t):\n",
    "        if t:\n",
    "            print(t.data, end = ' ')\n",
    "            self.preorderh(t.left)\n",
    "            self.preorderh(t.right)\n",
    "\n",
    "    def postorder(self):\n",
    "        self.postorderh(self.root)\n",
    "        print()\n",
    "    \n",
    "    def postorderh(self, t):\n",
    "        if t:\n",
    "            self.postorderh(t.left)\n",
    "            self.postorderh(t.right)\n",
    "            print(t.data, end = ' ')\n",
    "\n",
    "    def levelorder(self):\n",
    "        t = self.root\n",
    "        if t == None:\n",
    "            return\n",
    "        from queue import Queue\n",
    "        q = Queue()\n",
    "        q.put(t)\n",
    "        while not q.empty():\n",
    "            tmp = q.get()\n",
    "            print(tmp.data, end = ' ')\n",
    "            if tmp.left:\n",
    "                q.put(tmp.left)\n",
    "            if tmp.right:\n",
    "                q.put(tmp.right)\n",
    "        print()\n",
    "\n",
    "    def lcah(self, t, a, b):\n",
    "        if t == None:\n",
    "            return None\n",
    "        elif t.data == a or t.data == b:\n",
    "            return t\n",
    "        else:\n",
    "            left = self.lcah(t.left, a, b)\n",
    "            right = self.lcah(t.right, a, b)\n",
    "            if left and right: return t\n",
    "            else: return left if left else right\n",
    "\n",
    "    def lca(self, a, b):\n",
    "        return self.lcah(self.root, a, b)\n",
    "    \n",
    "    def maxi(self):\n",
    "        return self.maxih(self.root)\n",
    "    \n",
    "    def maxih(self, t):\n",
    "        if t == None:\n",
    "            return float(\"-inf\")\n",
    "        else: return max([t.data, self.maxih(t.left), self.maxih(t.right)])\n",
    "\n",
    "    def size(self):\n",
    "        return self.sizeh(self.root)\n",
    "    \n",
    "    def sizeh(self, t):\n",
    "        if t == None:\n",
    "            return 0\n",
    "        else: return 1 + self.sizeh(t.left) + self.sizeh(t.right)\n",
    "\n",
    "    def height(self):\n",
    "        return self.heighth(self.root)\n",
    "\n",
    "    def heighth(self, t):\n",
    "        if t == None:\n",
    "            return -1\n",
    "        else:\n",
    "            return 1 + max(self.heighth(t.left), self.heighth(t.right))\n",
    "\n",
    "    def num_leaves(self):\n",
    "        return self.num_leavesh(self.root)\n",
    "    \n",
    "    def num_leavesh(self, t):\n",
    "        if t == None:\n",
    "            return 0\n",
    "        elif t.left == None and t.right == None:\n",
    "            return 1\n",
    "        else:\n",
    "            return self.num_leavesh(t.left) + self.num_leavesh(t.right)\n",
    "\n",
    "    def full_nodes(self):\n",
    "        return self.full_nodesh(self.root)\n",
    "    \n",
    "    def full_nodesh(self, t):\n",
    "        if t == None:\n",
    "            return 0\n",
    "        elif t.left == None and t.right == None:\n",
    "            return 1\n",
    "        elif t.left and t.right:\n",
    "            return 1 + self.full_nodesh(t.left) + self.full_nodesh(t.right)\n",
    "        else:\n",
    "            return self.full_nodesh(t.left) + self.full_nodesh(t.right)\n",
    "\n",
    "    def half_nodes(self):\n",
    "        return self.half_nodesh(self.root)\n",
    "    \n",
    "    def half_nodesh(self, t):\n",
    "        if t == None:\n",
    "            return 0\n",
    "        elif t.left == None and t.right == None:\n",
    "            return 0\n",
    "        elif t.left and t.right:\n",
    "            return self.half_nodesh(t.left) + self.half_nodesh(t.right)\n",
    "        else:\n",
    "            return 1 + self.half_nodesh(t.left) + self.half_nodesh(t.right)\n",
    "\n",
    "    def level_order_reverse(self):\n",
    "        t = self.root\n",
    "        if t == None:\n",
    "            return\n",
    "        from queue import Queue\n",
    "        q = Queue()\n",
    "        q.put(t)\n",
    "        stack = list()\n",
    "        while not q.empty():\n",
    "            tmp = q.get()\n",
    "            stack.append(tmp.data)\n",
    "            if tmp.left != None:\n",
    "                q.put(tmp.left)\n",
    "            if tmp.right != None:\n",
    "                q.put(tmp.right)\n",
    "        while len(stack) > 0:\n",
    "            print(stack.pop(), end = ' ')\n",
    "        print()\n",
    "\n",
    "    def level_order_alternate(self):\n",
    "        t = self.root\n",
    "        if t == None:\n",
    "            return\n",
    "        from queue import Queue\n",
    "        q = Queue()\n",
    "        q.put(t)\n",
    "        q.put(None)\n",
    "        alt = 1\n",
    "        while not q.empty():\n",
    "            tmp = q.get()\n",
    "            if tmp == None:\n",
    "                alt = 1 - alt\n",
    "                if not q.empty(): q.put(None)\n",
    "                continue\n",
    "            print(tmp.data, end = ' ')\n",
    "            if alt == 0:\n",
    "                if tmp.left != None:\n",
    "                    q.put(tmp.left)\n",
    "                if tmp.right != None:\n",
    "                    q.put(tmp.right)\n",
    "            else:\n",
    "                if tmp.right != None:\n",
    "                    q.put(tmp.right)\n",
    "                if tmp.left != None:\n",
    "                    q.put(tmp.left)\n",
    "        print()\n",
    "\n",
    "    def delete_tree(self):\n",
    "            self.root = self.delete_treeh(self.root)\n",
    "        \n",
    "    def delete_treeh(self, t):\n",
    "            if t == None:\n",
    "                return None\n",
    "            t.left = self.delete_treeh(t.left)\n",
    "            t.right = self.delete_treeh(t.right)\n",
    "            del t\n",
    "            return None\n",
    "\n",
    "t = bt()\n",
    "print(type(t))\n",
    "t.insert(77)\n",
    "t.insert(33)\n",
    "t.insert(44)\n",
    "t.insert(55)\n",
    "t.insert(99)\n",
    "t.insert(11)\n",
    "t.preorder()\n",
    "t.inorder()\n",
    "t.postorder()\n",
    "t.levelorder()\n",
    "t.delete(44)\n",
    "#t.delete(77)\n",
    "#t.delete(33)\n",
    "#t.delete(55)\n",
    "#t.delete(11)\n",
    "#t.delete(99)\n",
    "t.preorder()\n",
    "t.inorder()\n",
    "t.postorder()\n",
    "t.levelorder()\n",
    "print(t.find(33).data)\n",
    "print(t.find(100))\n",
    "print(t.find(99).data)\n",
    "\n",
    "print('LCA ' + str(t.lca(55,33).data))\n",
    "print(t.maxi())\n",
    "print(t.size())\n",
    "print(t.height())\n",
    "print(t.num_leaves())\n",
    "t.delete(99)\n",
    "print(t.full_nodes())\n",
    "print(t.half_nodes())\n",
    "t.level_order_reverse()\n",
    "t.level_order_alternate()\n",
    "t.delete_tree()\n",
    "print(t.root)"
   ]
  },
  {
   "cell_type": "code",
   "execution_count": 91,
   "metadata": {},
   "outputs": [
    {
     "name": "stdout",
     "output_type": "stream",
     "text": [
      "<class '__main__.avl'>\n",
      "<__main__.avl object at 0x000001A9A45FF710>\n",
      "11 33 44 55 77 99 \n",
      "55 33 11 44 77 99 \n",
      "11 44 33 99 77 55 \n",
      "55 33 77 11 44 99 \n",
      "2\n",
      "55\n"
     ]
    }
   ],
   "source": [
    "class avl_node():\n",
    "    def __init__(self, data=None, left=None, right=None, height=0):\n",
    "        self.data = data\n",
    "        self.left = left\n",
    "        self.right = right\n",
    "        self.height = 0\n",
    "\n",
    "class avl():\n",
    "    def __init__(self):\n",
    "        self.root = None\n",
    "\n",
    "    def find_min(self, t=None):\n",
    "        if t == None:\n",
    "            t = self.root\n",
    "        if t == None:\n",
    "            return t\n",
    "        while t.left != None:\n",
    "            t = t.left\n",
    "        return t.data\n",
    "\n",
    "    def find_max(self, t = None):\n",
    "        if t == None:\n",
    "            t = self.root\n",
    "        if t == None:\n",
    "            return t\n",
    "        while t.right != None:\n",
    "            t = t.right\n",
    "        return t.data\n",
    "\n",
    "    def inorder(self):\n",
    "        self.inorderh(self.root)\n",
    "        print()\n",
    "    \n",
    "    def inorderh(self, t):\n",
    "        if t:\n",
    "            self.inorderh(t.left)\n",
    "            print(t.data, end = ' ')\n",
    "            self.inorderh(t.right)\n",
    "\n",
    "    def preorder(self):\n",
    "        self.preorderh(self.root)\n",
    "        print()\n",
    "    \n",
    "    def preorderh(self, t):\n",
    "        if t:\n",
    "            print(t.data, end = ' ')\n",
    "            self.preorderh(t.left)\n",
    "            self.preorderh(t.right)\n",
    "\n",
    "    def postorder(self):\n",
    "        self.postorderh(self.root)\n",
    "        print()\n",
    "    \n",
    "    def postorderh(self, t):\n",
    "        if t:\n",
    "            self.postorderh(t.left)\n",
    "            self.postorderh(t.right)\n",
    "            print(t.data, end = ' ')\n",
    "\n",
    "    def levelorder(self):\n",
    "        t = self.root\n",
    "        if t == None:\n",
    "            return\n",
    "        from queue import Queue\n",
    "        q = Queue()\n",
    "        q.put(t)\n",
    "        while not q.empty():\n",
    "            tmp = q.get()\n",
    "            print(tmp.data, end = ' ')\n",
    "            if tmp.left:\n",
    "                q.put(tmp.left)\n",
    "            if tmp.right:\n",
    "                q.put(tmp.right)\n",
    "        print()\n",
    "\n",
    "    def find(self, data):\n",
    "        return self.findh(self.root, data)\n",
    "\n",
    "    def findh(self, t, data):\n",
    "        if t == None:\n",
    "            return False\n",
    "        elif data == t.data:\n",
    "            return True\n",
    "        elif data < t.data:\n",
    "            return self.findh(t.left, data)\n",
    "        elif data > t.data:\n",
    "            return self.findh(t.right, data)\n",
    "    \n",
    "    def height(self, t):\n",
    "        if t == None:\n",
    "            return -1\n",
    "        else:\n",
    "            return t.height\n",
    "\n",
    "    def insert(self, data):\n",
    "        self.root = self.inserth(self.root, data)\n",
    "    \n",
    "    def inserth(self, t, data):\n",
    "        if t == None:\n",
    "            t = avl_node(data)\n",
    "        elif data < t.data:\n",
    "            t.left = self.inserth(t.left, data)\n",
    "            if self.height(t.left) - self.height(t.right) == 2:\n",
    "                if data < t.left.data:\n",
    "                    t = self.single_rotate_left(t)\n",
    "                else:\n",
    "                    t = self.double_rotate_left(t)\n",
    "        elif data > t.data:\n",
    "            t.right = self.inserth(t.right, data)\n",
    "            if self.height(t.right) - self.height(t.left) == 2:\n",
    "                if data > t.right.data:\n",
    "                    t = self.single_rotate_right(t)\n",
    "                else:\n",
    "                    t = self.double_rotate_right(t)\n",
    "\n",
    "        t.height = max(self.height(t.left), self.height(t.right)) + 1\n",
    "        return t\n",
    "\n",
    "    def single_rotate_left(self, t):\n",
    "        y = t.left\n",
    "        t.left = y.right\n",
    "        y.right = t\n",
    "        t.height = max(self.height(t.left), self.height(t.right)) + 1\n",
    "        y.height = max(self.height(y.left), self.height(y.right)) + 1\n",
    "        return y\n",
    "    \n",
    "    def single_rotate_right(self, t):\n",
    "        y = t.right\n",
    "        t.right = y.left\n",
    "        y.left = t\n",
    "        t.height = max(self.height(t.left), self.height(t.right)) + 1\n",
    "        y.height = max(self.height(y.left), self.height(y.right)) + 1\n",
    "        return y\n",
    "\n",
    "    def double_rotate_left(self, t):\n",
    "        t.left = self.single_rotate_right(t.left)\n",
    "        return self.single_rotate_left(t)\n",
    "    \n",
    "    def double_rotate_right(self, t):\n",
    "        t.right = self.single_rotate_left(t.right)\n",
    "        return self.single_rotate_right(t)\n",
    "\n",
    "t = avl()\n",
    "print(type(t))\n",
    "print(t)\n",
    "for item in [77, 33, 55, 99, 44, 11]:\n",
    "    t.insert(item)\n",
    "t.inorder()\n",
    "t.preorder()\n",
    "t.postorder()\n",
    "t.levelorder()\n",
    "print(t.height(t.root))\n",
    "print(t.root.data)"
   ]
  },
  {
   "cell_type": "code",
   "execution_count": 97,
   "metadata": {},
   "outputs": [
    {
     "name": "stdout",
     "output_type": "stream",
     "text": [
      "4\n"
     ]
    }
   ],
   "source": [
    "def find_substr(s, p):\n",
    "    n = len(s)\n",
    "    m = len(p)\n",
    "    for i in range(0, n-m+1):\n",
    "        for j in range(0, m):\n",
    "            if s[i+j] != p[j]:\n",
    "                break\n",
    "        else:\n",
    "            return i\n",
    "    return -1\n",
    "\n",
    "s = 'ganesh'\n",
    "p = 'sh'\n",
    "print(find_substr(s, p))"
   ]
  },
  {
   "cell_type": "code",
   "execution_count": 103,
   "metadata": {},
   "outputs": [
    {
     "name": "stdout",
     "output_type": "stream",
     "text": [
      "[0, 0, 1, 2, 3, 0, 1]\n",
      "6\n"
     ]
    }
   ],
   "source": [
    "def prefix_table(p):\n",
    "    m = len(p)\n",
    "    f = [0 for _ in range(m)]\n",
    "    j = 0\n",
    "    for i in range(1,m):\n",
    "        while j > 0 and p[i] != p[j]:\n",
    "            j = f[j-1]\n",
    "        if p[i] == p[j]:\n",
    "            j += 1\n",
    "        f[i] = j\n",
    "    return f\n",
    "\n",
    "def kmp(s, p, f):\n",
    "    n = len(s)\n",
    "    m = len(p)\n",
    "    j = 0\n",
    "    for i in range(0, n):\n",
    "        while j > 0 and s[i] != p[j]:\n",
    "            j = f[j-1]\n",
    "        if s[i] == p[j]:\n",
    "            if j == m-1: return i-m+1\n",
    "            j += 1\n",
    "    return -1\n",
    "\n",
    "p = 'ababaca'\n",
    "f = prefix_table(p)\n",
    "print(f)\n",
    "s = 'bacbabababacaca'\n",
    "print(kmp(s, p, f))"
   ]
  },
  {
   "cell_type": "code",
   "execution_count": 133,
   "metadata": {},
   "outputs": [
    {
     "name": "stdout",
     "output_type": "stream",
     "text": [
      "234\n",
      "1023\n",
      "234\n",
      "1\n"
     ]
    }
   ],
   "source": [
    "def hashval(p):\n",
    "    hval = 0\n",
    "    for i in range(0, len(p)):\n",
    "        hval = hval * 10 + int(p[i])\n",
    "    return hval\n",
    "\n",
    "def rabin_karp(s, p):\n",
    "    n = len(s)\n",
    "    m = len(p)\n",
    "    phash = hashval(p)\n",
    "    print(phash)\n",
    "    part = s[0:m]\n",
    "    parthash = hashval(part)\n",
    "    print(parthash)\n",
    "    if phash == parthash:\n",
    "        return 0\n",
    "    for i in range(1, n-m+1):\n",
    "        parthash = ((parthash % (10 ** (m-1))) * 10) + int(s[i+m-1])\n",
    "        print(parthash)\n",
    "        if phash == parthash:\n",
    "            return i\n",
    "    return -1\n",
    "\n",
    "s = '102345'\n",
    "p = '0234'\n",
    "print(rabin_karp(s, p))"
   ]
  },
  {
   "cell_type": "code",
   "execution_count": 140,
   "metadata": {},
   "outputs": [
    {
     "name": "stdout",
     "output_type": "stream",
     "text": [
      "82\n",
      "1\n",
      "28\n",
      "55\n",
      "82\n",
      "3\n"
     ]
    }
   ],
   "source": [
    "def hashval(p):\n",
    "    hval = 0\n",
    "    for i in range(0, len(p)):\n",
    "        hval = hval * 26 + ord(p[i]) - ord('a')\n",
    "    return hval\n",
    "\n",
    "def rabin_karp(s, p):\n",
    "    n = len(s)\n",
    "    m = len(p)\n",
    "    phash = hashval(p)\n",
    "    print(phash)\n",
    "    part = s[0:m]\n",
    "    parthash = hashval(part)\n",
    "    print(parthash)\n",
    "    if phash == parthash:\n",
    "        return 0\n",
    "    for i in range(1, n-m+1):\n",
    "        parthash = ((parthash % (26 ** (m-1))) * 26) + ord(s[i+m-1]) - ord('a')\n",
    "        print(parthash)\n",
    "        if phash == parthash:\n",
    "            return i\n",
    "    return -1\n",
    "\n",
    "s = 'abcde'\n",
    "p = 'de'\n",
    "print(rabin_karp(s, p))"
   ]
  },
  {
   "cell_type": "code",
   "execution_count": 154,
   "metadata": {},
   "outputs": [
    {
     "name": "stdout",
     "output_type": "stream",
     "text": [
      "3548\n",
      "3725\n",
      "3801\n",
      "3877\n",
      "3953\n",
      "3976\n",
      "77\n",
      "150\n",
      "3\n",
      "246\n",
      "1622\n",
      "3548\n",
      "10\n"
     ]
    }
   ],
   "source": [
    "# How I arrived at BASE = 75?\n",
    "# Ascii('z') = 122 and Ascii('0') = 48\n",
    "# 122 - 48 + 1 (This logic covers all the charcters between Ascii_48 and Ascii_122)\n",
    "BASE = 75\n",
    "def hashval(p):\n",
    "    hval = 0\n",
    "    for i in range(0, len(p)):\n",
    "        hval = hval * BASE + ord(p[i]) - ord('0')\n",
    "    return hval\n",
    "\n",
    "def rabin_karp(s, p):\n",
    "    n = len(s)\n",
    "    m = len(p)\n",
    "    phash = hashval(p)\n",
    "    print(phash)\n",
    "    part = s[0:m]\n",
    "    parthash = hashval(part)\n",
    "    print(parthash)\n",
    "    if phash == parthash:\n",
    "        return 0\n",
    "    for i in range(1, n-m+1):\n",
    "        parthash = ((parthash % (BASE ** (m-1))) * BASE) + ord(s[i+m-1]) - ord('0')\n",
    "        print(parthash)\n",
    "        if phash == parthash:\n",
    "            return i\n",
    "    return -1\n",
    "\n",
    "s = 'abcde1203E_G'\n",
    "p = '_G'\n",
    "print(rabin_karp(s, p))"
   ]
  },
  {
   "cell_type": "code",
   "execution_count": 169,
   "metadata": {},
   "outputs": [
    {
     "name": "stdout",
     "output_type": "stream",
     "text": [
      "['gan', 'ganesh', 'god', 'lalitha']\n",
      "True\n",
      "False\n",
      "['lalitha']\n",
      "['ganesh', 'god', 'lalitha']\n",
      "['ganesh', 'lalitha']\n",
      "['ganesh', 'god', 'lalitha']\n"
     ]
    }
   ],
   "source": [
    "class tst_node():\n",
    "    def __init__(self, data=None, left=None, right=None, center=None):\n",
    "        self.data = data\n",
    "        self.left = left\n",
    "        self.right = right\n",
    "        self.center = center\n",
    "        self.eos = 0\n",
    "\n",
    "class tst(): # Ternary Search Tree\n",
    "    def __init__(self):\n",
    "        self.root = None\n",
    "    \n",
    "    def insert(self, s):\n",
    "        self.root = self.inserth(self.root, s)\n",
    "    \n",
    "    def inserth(self, t, s):\n",
    "        if len(s) == 0:\n",
    "            return\n",
    "        if t == None:\n",
    "            t = tst_node(s[0])\n",
    "            s = s[1:]\n",
    "            if len(s) == 0:\n",
    "                t.eos = 1\n",
    "            else:\n",
    "                t.center = self.inserth(t.center, s)\n",
    "        elif s[0] == t.data:\n",
    "            s = s[1:]\n",
    "            if len(s) == 0:\n",
    "                t.eos = 1\n",
    "            else:\n",
    "                t.center = self.inserth(t.center, s)\n",
    "        elif s[0] < t.data:\n",
    "            t.left = self.inserth(t.left, s)\n",
    "        elif s[0] > t.data:\n",
    "            t.right = self.inserth(t.right, s)\n",
    "        return t\n",
    "    \n",
    "    def print_all_words(self, t=None):\n",
    "        word = ''\n",
    "        words = []\n",
    "        if t == None:\n",
    "            t = self.root\n",
    "        self.pawh(t, word, words)\n",
    "        return words\n",
    "    \n",
    "    def pawh(self, t, word, words):\n",
    "        if t == None:\n",
    "            return\n",
    "        else:\n",
    "            self.pawh(t.left, word, words)\n",
    "            word = word + t.data\n",
    "            if t.eos == 1:\n",
    "                words.append(word)\n",
    "            self.pawh(t.center, word, words)\n",
    "            word = word[0:-1]\n",
    "            self.pawh(t.right, word, words)\n",
    "\n",
    "    def find(self, s):\n",
    "        return self.findh(self.root, s)\n",
    "    \n",
    "    def findh(self, t, s):\n",
    "        if len(s) == 0:\n",
    "            return False\n",
    "        if t == None:\n",
    "            return False\n",
    "        elif s[0] < t.data:\n",
    "            return self.findh(t.left, s)\n",
    "        elif s[0] > t.data:\n",
    "            return self.findh(t.right, s)\n",
    "        elif s[0] == t.data:\n",
    "            s = s[1:]\n",
    "            if len(s) == 0:\n",
    "                if t.eos == 1:\n",
    "                    return True\n",
    "                else:\n",
    "                    return False\n",
    "            else:\n",
    "                return self.findh(t.center, s)\n",
    "\n",
    "    def pawsw(self, s, t):\n",
    "        if len(s) == 0:\n",
    "            return []\n",
    "        if t == None:\n",
    "            return []\n",
    "        elif s[0] == t.data:\n",
    "            s = s[1:]\n",
    "            if len(s) == 0:\n",
    "                return self.print_all_words(t.center)\n",
    "            else:\n",
    "                return self.pawsw(s, t.center)\n",
    "        elif s[0] < t.data:\n",
    "            return self.pawsw(s, t.left)\n",
    "        elif s[0] > t.data:\n",
    "            return self.pawsw(s, t.right)\n",
    "\n",
    "    def print_all_words_starting_with(self, s):\n",
    "        words = self.pawsw(s, self.root)\n",
    "        out = []\n",
    "        for item in words:\n",
    "            out.append(s + item)\n",
    "        return out\n",
    "\n",
    "    def delete(self, s):\n",
    "        self.deleteh(self.root, s)\n",
    "    \n",
    "    def deleteh(self, t, s):\n",
    "        if len(s) == 0:\n",
    "            return\n",
    "        if t == None:\n",
    "            return\n",
    "        if s[0] == t.data:\n",
    "            s = s[1:]\n",
    "            if len(s) == 0:\n",
    "                if t.eos == 1:\n",
    "                    t.eos = 0\n",
    "            else:\n",
    "                self.center = self.deleteh(t.center, s)\n",
    "        elif s[0] < t.data:\n",
    "            self.left = self.deleteh(t.left, s)\n",
    "        elif s[0] > t.data:\n",
    "            self.right = self.deleteh(t.right, s)\n",
    "        return t\n",
    "\n",
    "t = tst()\n",
    "t.insert('ganesh')\n",
    "t.insert('god')\n",
    "t.insert('lalitha')\n",
    "t.insert('gan')\n",
    "print(t.print_all_words())\n",
    "print(t.find('ganesh'))\n",
    "print(t.find('ganesa'))\n",
    "print(t.print_all_words_starting_with('l'))\n",
    "t.delete('gan')\n",
    "print(t.print_all_words())\n",
    "t.delete('god')\n",
    "print(t.print_all_words())\n",
    "t.insert('god')\n",
    "print(t.print_all_words())"
   ]
  },
  {
   "cell_type": "code",
   "execution_count": 192,
   "metadata": {},
   "outputs": [
    {
     "name": "stdout",
     "output_type": "stream",
     "text": [
      "[-inf, ['ganesh', 100], -inf, ['kvsr', 99], -inf, -inf, ['lalithamba', 200]]\n",
      "3\n",
      "200\n",
      "[-inf, ['ganesh', 100], -inf, -inf, -inf, -inf, ['lalithamba', 200]]\n",
      "[-inf, ['ganesh', 100], -inf, -inf, -inf, ['abc', 333], ['lalithamba', 200]]\n",
      "[-inf, -inf, -inf, -inf, -inf, ['abc', 333], ['lalithamba', 200]]\n",
      "[-inf, -inf, -inf, -inf, -inf, ['abc', 333], ['lalithamba', 200]]\n",
      "[-inf, ['ganesh', 555], -inf, -inf, -inf, -inf, ['lalithamba', 200]]\n",
      "2\n",
      "[-inf, ['ganesh', 777], -inf, -inf, -inf, -inf, ['lalithamba', 200]]\n",
      "2\n",
      "[-inf, ['102', 102], -inf, -inf, -inf, -inf, ['100', 100], ['104', 104], ['ganesh', 777], -inf, -inf, -inf, -inf, -inf, -inf, -inf, -inf, -inf, -inf, -inf, ['101', 101], -inf, -inf, ['103', 103], -inf, -inf, -inf, ['lalithamba', 200]]\n",
      "7\n"
     ]
    }
   ],
   "source": [
    "HTABLE_SIZE = 7\n",
    "LOAD_FACTOR = 0.7\n",
    "class hashe():\n",
    "    def __init__(self):\n",
    "        self.table = [float(\"-inf\") for _ in range(HTABLE_SIZE)]\n",
    "        self.size = HTABLE_SIZE\n",
    "        self.cnt = 0\n",
    "    \n",
    "    def hashval(self, key):\n",
    "        import hashlib\n",
    "        h = hashlib.sha256(key.encode('ascii'))\n",
    "        return int(h.hexdigest(), base = 16) % self.size\n",
    "\n",
    "    def get_next_hashval(self, hashval):\n",
    "        hashval = (hashval + 1) % self.size\n",
    "        return hashval\n",
    "\n",
    "    def rehash(self):\n",
    "        oldtable = self.table.copy()\n",
    "        oldsize = self.size\n",
    "        oldcnt = self.cnt\n",
    "        self.size = self.size * 2\n",
    "        self.table = [float(\"-inf\") for _ in range(self.size)]\n",
    "        for item in oldtable:\n",
    "            if item != float(\"-inf\"):\n",
    "                self.__setitem__(item[0], item[1])\n",
    "        self.cnt = oldcnt\n",
    "\n",
    "    def __setitem__(self, key, val):\n",
    "        key = str(key)\n",
    "        hashval = self.hashval(key)\n",
    "        if self.table[hashval] == float(\"-inf\"):\n",
    "            self.table[hashval] = [key, val]\n",
    "            self.cnt += 1\n",
    "        else:\n",
    "            k, v = self.table[hashval]\n",
    "            while k != key and v != float(\"-inf\"):\n",
    "                hashval = self.get_next_hashval(hashval)\n",
    "                tup = self.table[hashval]\n",
    "                if tup != float(\"-inf\"):\n",
    "                    k, v = tup\n",
    "                else:\n",
    "                    v = float(\"-inf\")\n",
    "                    k = None\n",
    "            if k == key:\n",
    "                self.table[hashval] = [key, val]\n",
    "            elif v == float(\"-inf\"):\n",
    "                self.table[hashval] = [key, val]\n",
    "                self.cnt += 1\n",
    "        if (self.cnt / self.size) > LOAD_FACTOR:\n",
    "            self.rehash()\n",
    "\n",
    "    def __getitem__(self, key):\n",
    "        key = str(key)\n",
    "        hashval = self.hashval(key)\n",
    "        if self.table[hashval] == float(\"-inf\"):\n",
    "            return None\n",
    "        else:\n",
    "            k, v = self.table[hashval]\n",
    "            while k != key and v != float(\"-inf\"):\n",
    "                hashval = self.get_next_hashval(hashval)\n",
    "                if self.table[hashval] != float(\"-inf\"):\n",
    "                    k, v = self.table[hashval]\n",
    "                else:\n",
    "                    v = float(\"-inf\")\n",
    "                    k = None\n",
    "            if v == float(\"-inf\"): return None\n",
    "            if k == key: return v\n",
    "\n",
    "    def __delitem__(self, key):\n",
    "        key = str(key)\n",
    "        hashval = self.hashval(key)\n",
    "        if self.table[hashval] == float(\"-inf\"):\n",
    "            return\n",
    "        else:\n",
    "            k, v = self.table[hashval]\n",
    "            while k != key and v != float(\"-inf\"):\n",
    "                hashval = self.get_next_hashval(hashval)\n",
    "                tup = self.table[hashval]\n",
    "                if tup != float(\"-inf\"):\n",
    "                    k, v = tup\n",
    "                else:\n",
    "                    v = float(\"-inf\")\n",
    "                    k = None\n",
    "            if k == key:\n",
    "                self.table[hashval] = float(\"-inf\")\n",
    "                self.cnt -= 1\n",
    "\n",
    "h = hashe()\n",
    "h['ganesh'] = 100\n",
    "h['lalithamba'] = 200\n",
    "h['kvsr'] = 99\n",
    "print(h.table)\n",
    "print(h.cnt)\n",
    "print(h['lalithamba'])\n",
    "del h['kvsr']\n",
    "print(h.table)\n",
    "h['abc'] = 333\n",
    "print(h.table)\n",
    "del h['lalitha']\n",
    "del h['ganesh']\n",
    "print(h.table)\n",
    "del h['asdf']\n",
    "print(h.table)\n",
    "del h['abc']\n",
    "h['ganesh'] = 555\n",
    "print(h.table)\n",
    "print(h.cnt)\n",
    "h['ganesh'] = 777\n",
    "print(h.table)\n",
    "print(h.cnt)\n",
    "for item in range(100,105):\n",
    "    h[item] = item\n",
    "print(h.table)\n",
    "print(h.cnt)"
   ]
  },
  {
   "cell_type": "code",
   "execution_count": 194,
   "metadata": {},
   "outputs": [
    {
     "name": "stdout",
     "output_type": "stream",
     "text": [
      "3\n",
      "5\n",
      "5\n",
      "5\n",
      "6\n",
      "6\n",
      "5\n",
      "5\n",
      "[-1, 6, -1, 5, -1, -4, 5]\n",
      "[-1, 6, -1, 5, -1, -4, 5]\n"
     ]
    }
   ],
   "source": [
    "#omgamganapathayenamaha\n",
    "class dset():\n",
    "    def __init__(self, n):\n",
    "        self.arr = [-1 for _ in range(n)]\n",
    "        self.size = n\n",
    "    \n",
    "    def find(self, data):\n",
    "        while self.arr[data] >= 0:\n",
    "            data = self.arr[data]\n",
    "        return data\n",
    "    \n",
    "    def union(self, a, b):\n",
    "        aroot = self.find(a)\n",
    "        broot = self.find(b)\n",
    "        if aroot != broot:\n",
    "            if self.arr[aroot] < self.arr[broot]:\n",
    "                self.arr[aroot] += self.arr[broot]\n",
    "                self.arr[broot] = aroot\n",
    "            else:\n",
    "                self.arr[broot] += self.arr[aroot]\n",
    "                self.arr[aroot] = broot\n",
    "    \n",
    "ds = dset(7)\n",
    "print(ds.find(3))\n",
    "print(ds.find(5))\n",
    "ds.union(3,5)\n",
    "ds.union(1,6)\n",
    "print(ds.find(3))\n",
    "print(ds.find(5))\n",
    "print(ds.find(6))\n",
    "print(ds.find(1))\n",
    "ds.union(1,3)\n",
    "print(ds.find(1))\n",
    "print(ds.find(3))\n",
    "print(ds.arr)\n",
    "ds.union(3,1)\n",
    "print(ds.arr)"
   ]
  },
  {
   "cell_type": "code",
   "execution_count": 228,
   "metadata": {},
   "outputs": [
    {
     "name": "stdout",
     "output_type": "stream",
     "text": [
      "[-500, -100, -3, 11, 12, 22, 33, 44, 55, 66, 77, 99, 123, 333, 345, 543, 1000]\n",
      "[[33, 11, 22, 77, 55], [99, 66, 44, -100, 333], [12, -3, 123, 543, 345], [1000, -500]]\n",
      "[33, 66, 123, 1000]\n",
      "[[77, 99, 333, 123, 543], [345, 1000]]\n",
      "[123, 1000]\n",
      "99\n"
     ]
    }
   ],
   "source": [
    "CHUNK_SIZE = 5\n",
    "def get_chunks(a):\n",
    "    chunks = []\n",
    "    for bs in range(0,len(a),CHUNK_SIZE):\n",
    "        chunk = a[bs:bs+CHUNK_SIZE]\n",
    "        chunks.append(chunk.copy())\n",
    "    return chunks\n",
    "\n",
    "def mom(a, k):\n",
    "    n = len(a)\n",
    "    if k > n or k <= 0:\n",
    "        return None\n",
    "\n",
    "    if n <= CHUNK_SIZE:\n",
    "        a.sort()\n",
    "        return a[k-1]\n",
    "    \n",
    "    chunks = get_chunks(a)\n",
    "    print(chunks)\n",
    "    \n",
    "    meds = []\n",
    "    for chunk in chunks:\n",
    "        chunk.sort()\n",
    "        meds.append(chunk[len(chunk) // 2])\n",
    "    \n",
    "    print(meds)\n",
    "\n",
    "    med_of_med = mom(meds, len(meds) // 2)\n",
    "    \n",
    "    low = []\n",
    "    high = []\n",
    "    for ele in a:\n",
    "        if ele < med_of_med: low.append(ele)\n",
    "        elif ele > med_of_med: high.append(ele)\n",
    "    \n",
    "    low_size = len(low)\n",
    "    if k == low_size + 1: return med_of_med\n",
    "    elif k <= low_size: return mom(low, k)\n",
    "    else: return mom(high, k-low_size-1)\n",
    "    \n",
    "arr = [33,11,22,77,55,99,66,44,-100,333,12,-3,123,543,345,1000,-500]\n",
    "print(sorted(arr))\n",
    "print(mom(arr, 12))"
   ]
  },
  {
   "cell_type": "code",
   "execution_count": 230,
   "metadata": {},
   "outputs": [
    {
     "name": "stdout",
     "output_type": "stream",
     "text": [
      "[33, 11, 44, 77, 22, 99, 66, 55]\n",
      "[11, 22, 33, 44, 55, 66, 77, 99]\n"
     ]
    }
   ],
   "source": [
    "def insertion_sort(a):\n",
    "    n = len(a)\n",
    "    for j in range(1,n):\n",
    "        tmp = a[j]\n",
    "        while j > 0 and a[j-1] > tmp:\n",
    "            a[j] = a[j-1]\n",
    "            j -= 1\n",
    "        a[j] = tmp\n",
    "\n",
    "a = [33,11,44,77,22,99,66,55]\n",
    "print(a)\n",
    "insertion_sort(a)\n",
    "print(a)"
   ]
  },
  {
   "cell_type": "code",
   "execution_count": 234,
   "metadata": {},
   "outputs": [
    {
     "name": "stdout",
     "output_type": "stream",
     "text": [
      "[33, 11, 44, 77, 22, 99, 66, 55]\n",
      "After h = 4: [22, 11, 44, 55, 33, 99, 66, 77]\n",
      "After h = 2: [22, 11, 33, 55, 44, 77, 66, 99]\n",
      "After h = 1: [11, 22, 33, 44, 55, 66, 77, 99]\n",
      "[11, 22, 33, 44, 55, 66, 77, 99]\n"
     ]
    }
   ],
   "source": [
    "def shell_sort(a):\n",
    "    n = len(a)\n",
    "    h = n // 2\n",
    "    while h >= 1:\n",
    "        for j in range(1,n):\n",
    "            tmp = a[j]\n",
    "            while j >= h and a[j-h] > tmp:\n",
    "                a[j] = a[j-h]\n",
    "                j -= h\n",
    "            a[j] = tmp\n",
    "        print('After h = {}: {}'.format(h, a))\n",
    "        h = h // 2\n",
    "\n",
    "a = [33,11,44,77,22,99,66,55]\n",
    "print(a)\n",
    "shell_sort(a)\n",
    "print(a)"
   ]
  },
  {
   "cell_type": "code",
   "execution_count": 237,
   "metadata": {},
   "outputs": [
    {
     "name": "stdout",
     "output_type": "stream",
     "text": [
      "[33, 11, 44, 77, 22, 99, 66, 55]\n",
      "[11, 22, 33, 44, 55, 66, 77, 99]\n"
     ]
    }
   ],
   "source": [
    "def selection_sort(a):\n",
    "    n = len(a)\n",
    "    for i in range(n):\n",
    "        small = i\n",
    "        for j in range(i+1, n):\n",
    "            if a[j] < a[small]:\n",
    "                small = j\n",
    "        a[i], a[small] = a[small], a[i]\n",
    "\n",
    "a = [33,11,44,77,22,99,66,55]\n",
    "print(a)\n",
    "selection_sort(a)\n",
    "print(a)"
   ]
  },
  {
   "cell_type": "code",
   "execution_count": 239,
   "metadata": {},
   "outputs": [
    {
     "name": "stdout",
     "output_type": "stream",
     "text": [
      "[33, 11, 44, 77, 22, 99, 66, 55]\n",
      "[11, 22, 33, 44, 55, 66, 77, 99]\n"
     ]
    }
   ],
   "source": [
    "def bubble_sort(a):\n",
    "    n = len(a)\n",
    "    for i in range(n-1, 0, -1):\n",
    "        for j in range(i-1, -1, -1):\n",
    "            if a[i] < a[j]:\n",
    "                a[i], a[j] = a[j], a[i]\n",
    "\n",
    "a = [33,11,44,77,22,99,66,55]\n",
    "print(a)\n",
    "bubble_sort(a)\n",
    "print(a)"
   ]
  },
  {
   "cell_type": "code",
   "execution_count": 246,
   "metadata": {},
   "outputs": [
    {
     "name": "stdout",
     "output_type": "stream",
     "text": [
      "[33, 11, 44, 77, 22, 99, 66, 55]\n",
      "[11, 22, 33, 44, 55, 66, 77, 99]\n"
     ]
    }
   ],
   "source": [
    "def merge_sort(a, low, high):\n",
    "    if low < high:\n",
    "        mid = low + (high - low) // 2\n",
    "        merge_sort(a, low, mid)\n",
    "        merge_sort(a, mid+1, high)\n",
    "        tmp = [0 for _ in range(high-low+1)]\n",
    "        i = low\n",
    "        j = mid+1\n",
    "        k = 0\n",
    "        while i <= mid and j <= high:\n",
    "            if a[i] < a[j]:\n",
    "                tmp[k] = a[i]\n",
    "                k += 1\n",
    "                i += 1\n",
    "            else:\n",
    "                tmp[k] = a[j]\n",
    "                k += 1\n",
    "                j += 1\n",
    "        while i <= mid:\n",
    "            tmp[k] = a[i]\n",
    "            k += 1\n",
    "            i += 1\n",
    "        while j <= high:\n",
    "            tmp[k] = a[j]\n",
    "            k += 1\n",
    "            j += 1\n",
    "        k = 0\n",
    "        j = low\n",
    "        while k < high - low + 1:\n",
    "            a[j] = tmp[k]\n",
    "            k += 1\n",
    "            j += 1\n",
    "        #print(a)\n",
    "\n",
    "a = [33,11,44,77,22,99,66,55]\n",
    "print(a)\n",
    "merge_sort(a, 0, len(a) - 1)\n",
    "print(a)"
   ]
  },
  {
   "cell_type": "code",
   "execution_count": 6,
   "metadata": {},
   "outputs": [
    {
     "name": "stdout",
     "output_type": "stream",
     "text": [
      "[77, 33, 55, 22, 44, 11, 99, -99, 100]\n",
      "[-99, 11, 22, 33, 44, 55, 77, 99, 100]\n"
     ]
    }
   ],
   "source": [
    "def quick_sort(a, low, high):\n",
    "    n = high - low + 1\n",
    "    if n <= 1:\n",
    "        return\n",
    "    pivot = a[low]\n",
    "    a[low], a[high] = a[high], a[low]\n",
    "    i = low\n",
    "    j = high\n",
    "    while i < j:\n",
    "        while a[i] <= pivot and i < high:\n",
    "            i += 1\n",
    "        while a[j] >= pivot and j > low:\n",
    "            j -= 1\n",
    "        if i < j:\n",
    "            a[i], a[j] = a[j], a[i]\n",
    "\n",
    "    a[i], a[high] = a[high], a[i]\n",
    "    #print(pivot)\n",
    "    #print(a)\n",
    "    quick_sort(a, low, i-1)\n",
    "    quick_sort(a, i+1, high)\n",
    "\n",
    "a = [77,33,55,22,44,11,99,-99,100]\n",
    "print(a)\n",
    "quick_sort(a, 0, len(a) - 1)\n",
    "print(a)"
   ]
  },
  {
   "cell_type": "code",
   "execution_count": 1,
   "metadata": {},
   "outputs": [
    {
     "name": "stdout",
     "output_type": "stream",
     "text": [
      "omgamganapathayenamaha\n"
     ]
    }
   ],
   "source": [
    "print('omgamganapathayenamaha')"
   ]
  },
  {
   "cell_type": "code",
   "execution_count": 3,
   "metadata": {},
   "outputs": [
    {
     "name": "stdout",
     "output_type": "stream",
     "text": [
      "8\n",
      "1\n",
      "-1\n"
     ]
    }
   ],
   "source": [
    "def linear_search(a, data):\n",
    "    n = len(a)\n",
    "    for i in range(n):\n",
    "        if a[i] == data:\n",
    "            return i\n",
    "    return -1\n",
    "\n",
    "a = [77, 33, 55, 22, 44, 11, 99, -99, 100]\n",
    "print(linear_search(a, 100))\n",
    "print(linear_search(a, 33))\n",
    "print(linear_search(a, -100))"
   ]
  },
  {
   "cell_type": "code",
   "execution_count": 10,
   "metadata": {},
   "outputs": [
    {
     "name": "stdout",
     "output_type": "stream",
     "text": [
      "[-99, 11, 22, 33, 44, 55, 77, 99, 100]\n",
      "8\n",
      "0\n",
      "2\n",
      "-1\n",
      "-1\n"
     ]
    }
   ],
   "source": [
    "def binary_search(a, low, high, data):\n",
    "    if low <= high:\n",
    "        mid = low + (high - low) // 2\n",
    "        if a[mid] == data:\n",
    "            return mid\n",
    "        elif data < a[mid]:\n",
    "            return binary_search(a, low, mid - 1, data)\n",
    "        elif data > a[mid]:\n",
    "            return binary_search(a, mid + 1, high, data)\n",
    "    return -1\n",
    "\n",
    "a = [77, 33, 55, 22, 44, 11, 99, -99, 100]\n",
    "a.sort()\n",
    "print(a)\n",
    "print(binary_search(a, 0, len(a) - 1, 100))\n",
    "print(binary_search(a, 0, len(a) - 1, -99))\n",
    "print(binary_search(a, 0, len(a) - 1, 22))\n",
    "print(binary_search(a, 0, len(a) - 1, 2000))\n",
    "print(binary_search(a, 0, len(a) - 1, -1000))"
   ]
  },
  {
   "cell_type": "code",
   "execution_count": 7,
   "metadata": {},
   "outputs": [
    {
     "name": "stdout",
     "output_type": "stream",
     "text": [
      "[-99, 11, 22, 33, 44, 55, 77, 99, 100]\n",
      "8\n",
      "0\n",
      "-1\n",
      "-1\n",
      "2\n"
     ]
    }
   ],
   "source": [
    "def interpolation_search(a, low, high, data):\n",
    "    if low <= high:\n",
    "        if data > a[high] or data < a[low]: return -1\n",
    "        mid = int((low + high) * ((data - a[low]) / (a[high] - a[low])))\n",
    "        if a [mid] == data:\n",
    "            return mid\n",
    "        elif data < a[mid]:\n",
    "            return interpolation_search(a, low, mid - 1, data)\n",
    "        elif data > a[mid]:\n",
    "            return interpolation_search(a, mid + 1, high, data)\n",
    "    return -1\n",
    "\n",
    "a = [77, 33, 55, 22, 44, 11, 99, -99, 100]\n",
    "a.sort()\n",
    "print(a)\n",
    "print(interpolation_search(a, 0, len(a)-1, 100))\n",
    "print(interpolation_search(a, 0, len(a)-1, -99))\n",
    "print(interpolation_search(a, 0, len(a)-1, 1000))\n",
    "print(interpolation_search(a, 0, len(a)-1, -1000))\n",
    "print(interpolation_search(a, 0, len(a)-1, 22))"
   ]
  },
  {
   "cell_type": "code",
   "execution_count": 39,
   "metadata": {},
   "outputs": [
    {
     "name": "stdout",
     "output_type": "stream",
     "text": [
      "A B C E H F G D \n",
      "A B C H E D F G \n",
      "{'A': 0, 'B': 1, 'C': 2, 'D': 3, 'E': 3, 'F': 4, 'G': 4, 'H': 2}\n",
      "{'A': 'A', 'B': 'A', 'C': 'B', 'H': 'B', 'E': 'C', 'D': 'C', 'F': 'E', 'G': 'E'}\n",
      "{'A': 0, 'C': 1, 'B': 3, 'D': 5, 'E': 7}\n",
      "{'A': 'A', 'C': 'A', 'B': 'C', 'D': 'C', 'E': 'B'}\n",
      "{'A': inf, 'C': 0, 'B': 2, 'D': 4, 'E': 6}\n",
      "{'C': 'C', 'B': 'C', 'D': 'C', 'E': 'B'}\n",
      "{'A': 0, 'C': 1, 'B': 3, 'D': 5, 'E': 7}\n",
      "{'A': 'A', 'C': 'A', 'B': 'C', 'D': 'C', 'E': 'B'}\n",
      "[['A', 'D'], ['D', 'F'], ['A', 'C'], ['C', 'E'], ['E', 'B'], ['E', 'G']]\n",
      "[['A', 'D'], ['E', 'B'], ['D', 'F'], ['A', 'C'], ['C', 'E'], ['E', 'G']]\n",
      "{'A': {'A': 0, 'C': 1, 'B': 3, 'D': 5, 'E': 7}, 'C': {'A': inf, 'C': 0, 'B': 2, 'D': 4, 'E': 6}, 'B': {'A': inf, 'C': inf, 'B': 0, 'D': inf, 'E': 4}, 'D': {'A': inf, 'C': inf, 'B': inf, 'D': 0, 'E': 4}, 'E': {'A': inf, 'C': inf, 'B': inf, 'D': inf, 'E': 0}}\n"
     ]
    }
   ],
   "source": [
    "class graph():\n",
    "    def __init__(self, n, mat):\n",
    "        self.n = n\n",
    "        self.mat = mat.copy()\n",
    "    \n",
    "    def dfs(self):\n",
    "        visited = dict()\n",
    "        for vertex in self.mat:\n",
    "            if vertex not in visited:\n",
    "                self.dfs_traversal(vertex, visited)\n",
    "        print()\n",
    "\n",
    "    def dfs_traversal(self, vertex, visited):\n",
    "        visited[vertex] = 1\n",
    "        print(vertex, end = ' ')\n",
    "        for conn in self.mat[vertex]:\n",
    "            if conn not in visited:\n",
    "                self.dfs_traversal(conn, visited)\n",
    "\n",
    "    def bfs(self, src):\n",
    "        visited = dict()\n",
    "        from queue import Queue\n",
    "        q = Queue()\n",
    "        q.put(src)\n",
    "        while not q.empty():\n",
    "            tmp = q.get()\n",
    "            if tmp not in visited:\n",
    "                visited[tmp] = 1\n",
    "                print(tmp, end = ' ')\n",
    "                for conn in self.mat[tmp]:\n",
    "                    if conn not in visited:\n",
    "                        q.put(conn)\n",
    "        print()\n",
    "    \n",
    "    def dist_from_src_unweighted_graph(self, src):\n",
    "        dist = dict()\n",
    "        for vertex in self.mat:\n",
    "            dist[vertex] = float(\"inf\")\n",
    "        dist[src] = 0\n",
    "        visited = dict()\n",
    "        via = dict()\n",
    "        via[src] = src\n",
    "        from queue import Queue\n",
    "        q = Queue()\n",
    "        q.put(src)\n",
    "        while not q.empty():\n",
    "            tmp = q.get()\n",
    "            if tmp not in visited:\n",
    "                visited[tmp] = 1\n",
    "                for conn in self.mat[tmp]:\n",
    "                    if conn not in visited:\n",
    "                        if dist[conn] > dist[tmp] + self.mat[tmp][conn]:\n",
    "                            dist[conn] = dist[tmp] + self.mat[tmp][conn]\n",
    "                            via[conn] = tmp\n",
    "                        q.put(conn)\n",
    "        print(dist)\n",
    "        print(via)\n",
    "    \n",
    "    def dist_from_src_pos_weighted_graph(self, src):\n",
    "        dist = dict()\n",
    "        for vertex in self.mat:\n",
    "            dist[vertex] = float(\"inf\")\n",
    "        dist[src] = 0\n",
    "        via = dict()\n",
    "        via[src] = src\n",
    "        visited = dict()\n",
    "        from heapq import heapify, heappush, heappop\n",
    "        arr = [[dist[src], src]]\n",
    "        heapify(arr)\n",
    "        while len(arr) > 0:\n",
    "            tmp = heappop(arr)\n",
    "            if tmp[1] not in visited:\n",
    "                visited[tmp[1]] = 1\n",
    "                for conn in self.mat[tmp[1]]:\n",
    "                    if conn not in visited:\n",
    "                        if dist[conn] > dist[tmp[1]] + self.mat[tmp[1]][conn]:\n",
    "                            dist[conn] = dist[tmp[1]] + self.mat[tmp[1]][conn]\n",
    "                            via[conn] = tmp[1]\n",
    "                            heappush(arr, [dist[conn], conn])\n",
    "        print(dist)\n",
    "        print(via)\n",
    "\n",
    "    def bellman_ford(self, src):\n",
    "        dist = dict()\n",
    "        for vertex in self.mat:\n",
    "            dist[vertex] = float(\"inf\")\n",
    "        dist[src] = 0\n",
    "        via = dict()\n",
    "        via[src] = src\n",
    "        for _ in range(len(self.mat.keys())):\n",
    "            for k in self.mat:\n",
    "                for conn in self.mat[k]:\n",
    "                    if dist[conn] > dist[k] + self.mat[k][conn]:\n",
    "                        dist[conn] = dist[k] + self.mat[k][conn]\n",
    "                        via[conn] = k\n",
    "        print(dist)\n",
    "        print(via)\n",
    "    \n",
    "    def prim(self, src):\n",
    "        dist = dict()\n",
    "        via = dict()\n",
    "        for vertex in self.mat:\n",
    "            dist[vertex] = float(\"inf\")\n",
    "            via[vertex] = None\n",
    "        dist[src] = 0\n",
    "        visited = dict()\n",
    "        from heapq import heapify, heappush, heappop\n",
    "        arr = [[dist[src], src]]\n",
    "        heapify(arr)\n",
    "        edges = []\n",
    "        while len(arr) > 0:\n",
    "            tmp = heappop(arr)\n",
    "            if tmp[1] not in visited:\n",
    "                visited[tmp[1]] = 1\n",
    "                if via[tmp[1]] != None:\n",
    "                    edges.append([via[tmp[1]], tmp[1]])\n",
    "                for conn in self.mat[tmp[1]]:\n",
    "                    if conn not in visited:\n",
    "                        if dist[conn] > self.mat[tmp[1]][conn]:\n",
    "                            dist[conn] = self.mat[tmp[1]][conn]\n",
    "                            via[conn] = tmp[1]\n",
    "                            heappush(arr, [dist[conn], conn])\n",
    "        print(edges)\n",
    "    \n",
    "    def kruskal(self):\n",
    "        edges = []\n",
    "        for u in self.mat:\n",
    "            for v in self.mat[u]:\n",
    "                edges.append([self.mat[u][v], u, v])\n",
    "        vertices = self.mat.keys()\n",
    "        ds = disj_set(vertices)\n",
    "        #print(ds.arr)\n",
    "        result_set = []\n",
    "        for edge in sorted(edges, key=lambda x: x[0]):\n",
    "            if ds.find(edge[1]) == ds.find(edge[2]):\n",
    "                continue\n",
    "            result_set.append([edge[1], edge[2]])\n",
    "            #print(ds.arr)\n",
    "            #print(edge[1], edge[2])\n",
    "            ds.union(edge[1], edge[2])\n",
    "        print(result_set)\n",
    "    \n",
    "    def all_pairs_shortest_dist(self):\n",
    "        dist = dict()\n",
    "        for u in self.mat:\n",
    "            dist[u] = dict()\n",
    "            for v in self.mat:\n",
    "                if u == v: dist[u][v] = 0\n",
    "                elif v in self.mat[u]: dist[u][v] = self.mat[u][v]\n",
    "                else: dist[u][v] = float(\"inf\")\n",
    "\n",
    "        for k in self.mat:\n",
    "            for u in self.mat:\n",
    "                for v in self.mat:\n",
    "                    if dist[u][v] > dist[u][k] + dist[k][v]:\n",
    "                        dist[u][v] = dist[u][k] + dist[k][v]\n",
    "        \n",
    "        print(dist)\n",
    "\n",
    "n = 8\n",
    "mat = {\n",
    "    'A': {'B': 1},\n",
    "    'B': {'A': 1, 'C':1, 'H': 1},\n",
    "    'C': {'B': 1, 'E': 1, 'D': 1},\n",
    "    'D': {'C': 1},\n",
    "    'E': {'C': 1, 'H': 1, 'F': 1, 'G': 1},\n",
    "    'F': {'E': 1},\n",
    "    'G': {'E': 1},\n",
    "    'H': {'B': 1, 'E': 1}\n",
    "}\n",
    "g = graph(n, mat)\n",
    "g.dfs()\n",
    "g.bfs('A')\n",
    "g.dist_from_src_unweighted_graph('A')\n",
    "pos_wgt_graph = {\n",
    "    'A': {'C': 1, 'B': 4},\n",
    "    'C': {'B': 2, 'D': 4},\n",
    "    'B': {'E': 4},\n",
    "    'D': {'E': 4},\n",
    "    'E': {}\n",
    "}\n",
    "g1 = graph(5, pos_wgt_graph)\n",
    "g1.dist_from_src_pos_weighted_graph('A')\n",
    "g1.dist_from_src_pos_weighted_graph('C')\n",
    "g1.bellman_ford('A')\n",
    "spanning_tree_graph = {\n",
    "    'A': {'C': 7, 'D': 5},\n",
    "    'D': {'A': 5, 'C': 9, 'F': 6, 'E': 15},\n",
    "    'C': {'A': 7, 'D': 9, 'B': 8, 'E': 7},\n",
    "    'F': {'D': 6, 'E': 8, 'G': 11},\n",
    "    'E': {'C': 7, 'D': 15, 'F': 8, 'G': 9, 'B': 5},\n",
    "    'B': {'C': 8, 'E': 5},\n",
    "    'G': {'F': 11, 'E': 9}\n",
    "}\n",
    "g2 = graph(7, spanning_tree_graph)\n",
    "g2.prim('A')\n",
    "g2.kruskal()\n",
    "g1.all_pairs_shortest_dist()"
   ]
  },
  {
   "cell_type": "code",
   "execution_count": 34,
   "metadata": {},
   "outputs": [
    {
     "name": "stdout",
     "output_type": "stream",
     "text": [
      "3\n",
      "5\n",
      "3\n",
      "5\n",
      "6\n",
      "1\n",
      "1\n",
      "3\n",
      "{0: -1, 1: 3, 2: -1, 3: 11, 4: -1, 5: -2, 6: -2}\n",
      "{0: -1, 1: 14, 2: -1, 3: 1, 4: -1, 5: -2, 6: -2}\n"
     ]
    }
   ],
   "source": [
    "#omgamganapathayenamaha\n",
    "class disj_set():\n",
    "    def __init__(self, lis):\n",
    "        self.arr = dict()\n",
    "        for item in lis:\n",
    "            self.arr[item] = -1\n",
    "        self.size = n\n",
    "\n",
    "    def find(self, data):\n",
    "        while type(self.arr[data]) is str:\n",
    "            data = self.arr[data]\n",
    "        return data\n",
    "    \n",
    "    def union(self, a, b):\n",
    "        aroot = self.find(a)\n",
    "        broot = self.find(b)\n",
    "        if aroot != broot:\n",
    "            if self.arr[aroot] < self.arr[broot]:\n",
    "                self.arr[aroot] += self.arr[broot]\n",
    "                self.arr[broot] = aroot\n",
    "            else:\n",
    "                self.arr[broot] += self.arr[aroot]\n",
    "                self.arr[aroot] = broot\n",
    "    \n",
    "ds = disj_set(list(range(7)))\n",
    "print(ds.find(3))\n",
    "print(ds.find(5))\n",
    "ds.union(3,5)\n",
    "ds.union(1,6)\n",
    "print(ds.find(3))\n",
    "print(ds.find(5))\n",
    "print(ds.find(6))\n",
    "print(ds.find(1))\n",
    "ds.union(1,3)\n",
    "print(ds.find(1))\n",
    "print(ds.find(3))\n",
    "print(ds.arr)\n",
    "ds.union(3,1)\n",
    "print(ds.arr)"
   ]
  },
  {
   "cell_type": "code",
   "execution_count": 60,
   "metadata": {},
   "outputs": [
    {
     "name": "stdout",
     "output_type": "stream",
     "text": [
      "6\n",
      "['abc', 'acb', 'bac', 'bca', 'cba', 'cab']\n"
     ]
    }
   ],
   "source": [
    "def perm(a, i, n, res):\n",
    "    if i == n:\n",
    "        res.append(''.join(a.copy()))\n",
    "    else:\n",
    "        for k in range(i, n):\n",
    "            a[i], a[k] = a[k], a[i]\n",
    "            perm(a, i+1, n, res)\n",
    "            a[i], a[k] = a[k], a[i]\n",
    "\n",
    "s = 'abc'\n",
    "res = []\n",
    "perm(list(s), 0, len(s), res)\n",
    "print(len(res))\n",
    "print(res)"
   ]
  },
  {
   "cell_type": "code",
   "execution_count": 57,
   "metadata": {},
   "outputs": [
    {
     "name": "stdout",
     "output_type": "stream",
     "text": [
      "31\n",
      "['a', 'b', 'c', 'd', 'e', 'de', 'cd', 'ce', 'cde', 'bc', 'bd', 'be', 'bde', 'bcd', 'bce', 'bcde', 'ab', 'ac', 'ad', 'ae', 'ade', 'acd', 'ace', 'acde', 'abc', 'abd', 'abe', 'abde', 'abcd', 'abce', 'abcde']\n"
     ]
    }
   ],
   "source": [
    "def comb(a):\n",
    "    if len(a) == 0:\n",
    "        return []\n",
    "    elif len(a) == 1:\n",
    "        return a\n",
    "    else:\n",
    "        res = []\n",
    "        res.append(a[0])\n",
    "        out = comb(a[1:])\n",
    "        res.extend(out)\n",
    "        for ele in out:\n",
    "            res.append(a[0] + ele)\n",
    "        return res\n",
    "\n",
    "s = 'abcde'\n",
    "res = comb(list(s))\n",
    "print(len(res))\n",
    "print(res)"
   ]
  },
  {
   "cell_type": "code",
   "execution_count": 65,
   "metadata": {},
   "outputs": [
    {
     "name": "stdout",
     "output_type": "stream",
     "text": [
      "16\n",
      "['0000', '0001', '0010', '0011', '0100', '0101', '0110', '0111', '1000', '1001', '1010', '1011', '1100', '1101', '1110', '1111']\n"
     ]
    }
   ],
   "source": [
    "def binary_strings(n):\n",
    "    if n == 0:\n",
    "        return []\n",
    "    elif n == 1:\n",
    "        return ['0', '1']\n",
    "    else:\n",
    "        res = []\n",
    "        for ele in binary_strings(n-1):\n",
    "            for item in ['0', '1']:\n",
    "                res.append(ele + item)\n",
    "        return res\n",
    "\n",
    "res = binary_strings(4)\n",
    "print(len(res))\n",
    "print(res)"
   ]
  },
  {
   "cell_type": "code",
   "execution_count": 70,
   "metadata": {},
   "outputs": [
    {
     "name": "stdout",
     "output_type": "stream",
     "text": [
      "81\n",
      "['aaaa', 'aaab', 'aaac', 'aaba', 'aabb', 'aabc', 'aaca', 'aacb', 'aacc', 'abaa', 'abab', 'abac', 'abba', 'abbb', 'abbc', 'abca', 'abcb', 'abcc', 'acaa', 'acab', 'acac', 'acba', 'acbb', 'acbc', 'acca', 'accb', 'accc', 'baaa', 'baab', 'baac', 'baba', 'babb', 'babc', 'baca', 'bacb', 'bacc', 'bbaa', 'bbab', 'bbac', 'bbba', 'bbbb', 'bbbc', 'bbca', 'bbcb', 'bbcc', 'bcaa', 'bcab', 'bcac', 'bcba', 'bcbb', 'bcbc', 'bcca', 'bccb', 'bccc', 'caaa', 'caab', 'caac', 'caba', 'cabb', 'cabc', 'caca', 'cacb', 'cacc', 'cbaa', 'cbab', 'cbac', 'cbba', 'cbbb', 'cbbc', 'cbca', 'cbcb', 'cbcc', 'ccaa', 'ccab', 'ccac', 'ccba', 'ccbb', 'ccbc', 'ccca', 'cccb', 'cccc']\n"
     ]
    }
   ],
   "source": [
    "def kary_strings(n, k):\n",
    "    if n == 0:\n",
    "        return []\n",
    "    elif n == 1:\n",
    "        return k\n",
    "    else:\n",
    "        res = []\n",
    "        for item in kary_strings(n-1, k):\n",
    "            for ele in k:\n",
    "                res.append(item + ele)\n",
    "        return res\n",
    "\n",
    "res = kary_strings(4, ['a', 'b', 'c'])\n",
    "print(len(res))\n",
    "print(res)"
   ]
  },
  {
   "cell_type": "code",
   "execution_count": 73,
   "metadata": {},
   "outputs": [
    {
     "name": "stdout",
     "output_type": "stream",
     "text": [
      "Moving Disk 1 from a to b\n",
      "Moving Disk 2 from a to c\n",
      "Moving Disk 1 from b to c\n",
      "Moving Disk 3 from a to b\n",
      "Moving Disk 1 from c to a\n",
      "Moving Disk 2 from c to b\n",
      "Moving Disk 1 from a to b\n",
      "Moving Disk 4 from a to c\n",
      "Moving Disk 1 from b to c\n",
      "Moving Disk 2 from b to a\n",
      "Moving Disk 1 from c to a\n",
      "Moving Disk 3 from b to c\n",
      "Moving Disk 1 from a to b\n",
      "Moving Disk 2 from a to c\n",
      "Moving Disk 1 from b to c\n"
     ]
    }
   ],
   "source": [
    "def towers_of_hanoi(n, src, tmp, dest):\n",
    "    if n > 0:\n",
    "        towers_of_hanoi(n-1, src, dest, tmp)\n",
    "        print('Moving Disk {} from {} to {}'.format(n, src, dest))\n",
    "        towers_of_hanoi(n-1, tmp, src, dest)\n",
    "\n",
    "towers_of_hanoi(4, 'a', 'b', 'c')"
   ]
  },
  {
   "cell_type": "code",
   "execution_count": 80,
   "metadata": {},
   "outputs": [
    {
     "name": "stdout",
     "output_type": "stream",
     "text": [
      "81\n",
      "512\n"
     ]
    }
   ],
   "source": [
    "def power(k, n):\n",
    "    if n == 0:\n",
    "        return 1\n",
    "    elif n == 1:\n",
    "        return k\n",
    "    else:\n",
    "        res = power(k, n//2)\n",
    "        if n % 2 == 1: return (res ** 2) * k\n",
    "        else: return res ** 2\n",
    "\n",
    "print(power(3, 4))\n",
    "print(power(2, 9))"
   ]
  },
  {
   "cell_type": "code",
   "execution_count": 89,
   "metadata": {},
   "outputs": [],
   "source": [
    "# clear() method is present in List, Set, Dict, deque but not in tuple"
   ]
  },
  {
   "cell_type": "code",
   "execution_count": 88,
   "metadata": {},
   "outputs": [
    {
     "name": "stdout",
     "output_type": "stream",
     "text": [
      "{'a': 100, 'b': 200}\n",
      "<class 'dict'>\n",
      "{}\n"
     ]
    }
   ],
   "source": [
    "d = dict({'a': 100, 'b': 200})\n",
    "print(d)\n",
    "print(type(d))\n",
    "d.clear()\n",
    "print(d)"
   ]
  },
  {
   "cell_type": "code",
   "execution_count": 92,
   "metadata": {},
   "outputs": [
    {
     "name": "stdout",
     "output_type": "stream",
     "text": [
      "[[1, 4], [2, 5]]\n"
     ]
    }
   ],
   "source": [
    "# Matrix Multiplication\n",
    "def mat_mul(a, b):\n",
    "    p = len(a)\n",
    "    q = len(a[0])\n",
    "    r = len(b[0])\n",
    "    c = [[0 for _ in range(r)] for _ in range(p)]\n",
    "    for k in range(q):\n",
    "        for i in range(p):\n",
    "            for j in range(r):\n",
    "                c[i][j] += a[i][k] * b[k][j]\n",
    "    return c\n",
    "\n",
    "a = [[1,2,0],[2,1,0]]\n",
    "b = [[1,2],[0,1],[2,0]]\n",
    "c = mat_mul(a,b)\n",
    "print(c)"
   ]
  },
  {
   "cell_type": "code",
   "execution_count": 93,
   "metadata": {},
   "outputs": [
    {
     "name": "stdout",
     "output_type": "stream",
     "text": [
      "True\n",
      "False\n"
     ]
    }
   ],
   "source": [
    "# is_prime\n",
    "def is_prime(n):\n",
    "    for i in range(2, int(n ** 0.5) + 1):\n",
    "        if n % i == 0:\n",
    "            return False\n",
    "    return True\n",
    "\n",
    "print(is_prime(17))\n",
    "print(is_prime(16))"
   ]
  },
  {
   "cell_type": "code",
   "execution_count": 97,
   "metadata": {},
   "outputs": [
    {
     "name": "stdout",
     "output_type": "stream",
     "text": [
      "[0, 1, 2, 3, 5, 7, 11, 13, 17, 19, 23, 29, 31]\n"
     ]
    }
   ],
   "source": [
    "# Sieve of Erastothenes\n",
    "def find_primes(n):\n",
    "    arr = [0 for _ in range(n+1)]\n",
    "    for i in range(2, int(n ** 0.5) + 1):\n",
    "        for j in range(2*i, n+1, i):\n",
    "            arr[j] = 1\n",
    "    res = []\n",
    "    for item in range(n+1):\n",
    "        if arr[item] == 0:\n",
    "            res.append(item)\n",
    "    return res\n",
    "\n",
    "res = find_primes(36)\n",
    "print(res)"
   ]
  },
  {
   "cell_type": "code",
   "execution_count": 101,
   "metadata": {},
   "outputs": [
    {
     "name": "stdout",
     "output_type": "stream",
     "text": [
      "True\n",
      "False\n",
      "True\n",
      "True\n",
      "False\n",
      "True\n"
     ]
    }
   ],
   "source": [
    "def is_array_sorted(a):\n",
    "    n = len(a)\n",
    "    if n == 0 or n == 1:\n",
    "        return True\n",
    "    for i in range(1, n):\n",
    "        if a[i] < a[i-1]:\n",
    "            return False\n",
    "    return True\n",
    "\n",
    "def is_array_sorted_recur(a, n):\n",
    "    if n == 0:\n",
    "        return True\n",
    "    elif n == 1:\n",
    "        return True\n",
    "    else:\n",
    "        return a[0] <= a[1] and is_array_sorted_recur(a[1:], n-1)\n",
    "\n",
    "a = [11,22,44,55,77,99]\n",
    "b = [1,2,3,5,4,6,7]\n",
    "c = [99,77,55,33,11]\n",
    "print(is_array_sorted(a))\n",
    "print(is_array_sorted(b))\n",
    "print(is_array_sorted(list(reversed(c))))\n",
    "print(is_array_sorted_recur(a, len(a)))\n",
    "print(is_array_sorted_recur(b, len(b)))\n",
    "print(is_array_sorted_recur(list(reversed(c)), len(c)))"
   ]
  },
  {
   "cell_type": "code",
   "execution_count": 5,
   "metadata": {},
   "outputs": [
    {
     "name": "stdout",
     "output_type": "stream",
     "text": [
      "0.03316330799999889\n",
      "8.445618721000002\n"
     ]
    }
   ],
   "source": [
    "def find_spans(a):\n",
    "    s = [0 for _ in range(len(a))]\n",
    "    s[0] = 1\n",
    "    for i in range(1,len(a)):\n",
    "        j = i\n",
    "        while j >= 0 and a[j] <= a[i]:\n",
    "            s[i] += 1\n",
    "            j = j - 1\n",
    "    return s\n",
    "\n",
    "import timeit\n",
    "print(timeit.timeit('find_spans([5,1,2,3,2])', setup = 'from __main__ import find_spans', number = 10000))\n",
    "print(timeit.timeit('find_spans(list(range(1000)))', setup = 'from __main__ import find_spans', number = 100))"
   ]
  },
  {
   "cell_type": "code",
   "execution_count": 6,
   "metadata": {},
   "outputs": [
    {
     "name": "stdout",
     "output_type": "stream",
     "text": [
      "0.05031114599999853\n",
      "0.08035412600000313\n"
     ]
    }
   ],
   "source": [
    "def find_spans_opt(a):\n",
    "    stack = list()\n",
    "    s = [0 for _ in range(len(a))]\n",
    "    for i in range(len(a)):\n",
    "        while len(stack) > 0 and a[stack[-1]] <= a[i]:\n",
    "            stack.pop()\n",
    "        if len(stack) == 0: j = -1\n",
    "        else: j = stack[-1]\n",
    "        s[i] = i - j\n",
    "        stack.append(i)\n",
    "\n",
    "    return s\n",
    "\n",
    "import timeit\n",
    "print(timeit.timeit('find_spans_opt([5,1,2,3,2])', setup = 'from __main__ import find_spans_opt', number = 10000))\n",
    "print(timeit.timeit('find_spans_opt(list(range(1000)))', setup = 'from __main__ import find_spans_opt', number = 100))"
   ]
  },
  {
   "cell_type": "code",
   "execution_count": 18,
   "metadata": {},
   "outputs": [
    {
     "name": "stdout",
     "output_type": "stream",
     "text": [
      "camonk\n",
      "m\n",
      "\n",
      "g\n"
     ]
    }
   ],
   "source": [
    "def remove_adj_duplicates(a):\n",
    "    j = 0\n",
    "    i = 1\n",
    "    n = len(a)\n",
    "    while i < n:\n",
    "        if a[i] != a[j]:\n",
    "            j += 1\n",
    "            a[j] = a[i]\n",
    "            i += 1\n",
    "        else:\n",
    "            del a[i]\n",
    "            del a[j]\n",
    "            n = n - 2\n",
    "            if j > 0:\n",
    "                j -= 1\n",
    "                i -= 1\n",
    "    return a\n",
    "\n",
    "print(''.join(remove_adj_duplicates(list('careermonk'))))\n",
    "print(''.join(remove_adj_duplicates(list('mississippi'))))\n",
    "print(''.join(remove_adj_duplicates(list('aabb'))))\n",
    "print(''.join(remove_adj_duplicates(list('g'))))"
   ]
  },
  {
   "cell_type": "code",
   "execution_count": 20,
   "metadata": {},
   "outputs": [
    {
     "name": "stdout",
     "output_type": "stream",
     "text": [
      "NNG of 11 is 44\n",
      "NNG of 33 is 44\n",
      "NNG of 22 is 27\n",
      "NNG of 27 is INF\n",
      "NNG of 44 is INF\n",
      "\n",
      "NNG of 6 is 12\n",
      "NNG of 1 is 2\n",
      "NNG of 2 is 111\n",
      "NNG of 4 is 111\n",
      "NNG of 12 is 111\n",
      "NNG of 2 is 10\n",
      "NNG of 2 is 10\n",
      "NNG of 10 is INF\n",
      "NNG of 111 is INF\n"
     ]
    }
   ],
   "source": [
    "def nngreater(a):\n",
    "    stack = list()\n",
    "    for i in range(0, len(a)):\n",
    "        while len(stack) > 0 and a[i] > a[stack[-1]]:\n",
    "            print('NNG of {} is {}'.format(a[stack[-1]], a[i]))\n",
    "            stack.pop()\n",
    "        stack.append(i)\n",
    "\n",
    "    while len(stack) > 0:\n",
    "        print('NNG of {} is {}'.format(a[stack[-1]], 'INF'))\n",
    "        stack.pop()\n",
    "\n",
    "nngreater([33,11,44,22,27])\n",
    "print()\n",
    "nngreater([6,12,4,1,2,111,2,2,10])"
   ]
  },
  {
   "cell_type": "code",
   "execution_count": 29,
   "metadata": {},
   "outputs": [
    {
     "name": "stdout",
     "output_type": "stream",
     "text": [
      "14\n"
     ]
    }
   ],
   "source": [
    "def maxarea(a):\n",
    "    stack = list()\n",
    "    maxa = 0\n",
    "    i = 0\n",
    "    while i < len(a):\n",
    "        if len(stack) == 0 or a[i] > a[stack[-1]]:\n",
    "            stack.append(i)\n",
    "        else:\n",
    "            j = stack.pop()\n",
    "            width = i if len(stack) == 0 else i - stack[-1] - 1\n",
    "            area = width * a[j]\n",
    "            #print(area)\n",
    "            if area > maxa: maxa = area\n",
    "            i -= 1\n",
    "        i += 1\n",
    "    \n",
    "    while len(stack) > 0:\n",
    "        j = stack.pop()\n",
    "        width = len(a) if len(stack) == 0 else len(a) - stack[-1] - 1\n",
    "        area = a[j] * width\n",
    "        #print(area)\n",
    "        if area > maxa: maxa = area\n",
    "\n",
    "    return maxa\n",
    "\n",
    "print(maxarea([3,2,5,6,2,4,4]))"
   ]
  },
  {
   "cell_type": "code",
   "execution_count": 36,
   "metadata": {},
   "outputs": [
    {
     "name": "stdout",
     "output_type": "stream",
     "text": [
      "[11, 12, 13, 14, 15, 16, 17]\n",
      "[11, 15, 12, 16, 13, 17, 14]\n",
      "[11, 17, 12, 16, 13, 15, 14]\n",
      "\n",
      "[11, 12, 13, 14, 15, 16, 17, 18]\n",
      "[11, 15, 12, 16, 13, 17, 14, 18]\n",
      "[11, 18, 12, 17, 13, 16, 14, 15]\n"
     ]
    }
   ],
   "source": [
    "def reorder_list_1(a):\n",
    "    n = len(a)\n",
    "    from queue import Queue\n",
    "    q = Queue()\n",
    "    import math\n",
    "    half = math.ceil(n / 2)\n",
    "    for _ in range(half):\n",
    "        q.put(a.pop(0))\n",
    "    while not q.empty():\n",
    "        a.append(q.get())\n",
    "        if not (q.empty() and n % 2 == 1):\n",
    "            a.append(a.pop(0))\n",
    "\n",
    "def reorder_list_2(a):\n",
    "    for i in range(1,len(a),2):\n",
    "        a.insert(i,a.pop())\n",
    "\n",
    "lis = [11,12,13,14,15,16,17]\n",
    "print(lis)\n",
    "reorder_list_1(lis)\n",
    "print(lis)\n",
    "lis = [11,12,13,14,15,16,17]\n",
    "reorder_list_2(lis)\n",
    "print(lis)\n",
    "print()\n",
    "lis = [11,12,13,14,15,16,17,18]\n",
    "print(lis)\n",
    "reorder_list_1(lis)\n",
    "print(lis)\n",
    "lis = [11,12,13,14,15,16,17,18]\n",
    "reorder_list_2(lis)\n",
    "print(lis)"
   ]
  },
  {
   "cell_type": "code",
   "execution_count": 49,
   "metadata": {},
   "outputs": [
    {
     "name": "stdout",
     "output_type": "stream",
     "text": [
      "[1, 4, 5, 6, 7, 8, 14, 20]\n",
      "6.5\n"
     ]
    }
   ],
   "source": [
    "def median_of_2_sorted_lists(a, b):\n",
    "    #print(a)\n",
    "    #print(b)\n",
    "    na = len(a)\n",
    "    nb = len(b)\n",
    "    lowa = 0\n",
    "    higha = na - 1\n",
    "    lowb = 0\n",
    "    highb = nb - 1\n",
    "    if na + nb == 0: return None\n",
    "    elif na + nb == 2: return (a[0] + b[0]) / 2\n",
    "    elif na + nb == 4: return (max(a[0], b[0]) + min(a[1], b[1])) / 2\n",
    "    else:\n",
    "        import math\n",
    "        mida = math.floor((lowa + higha) / 2)\n",
    "        midb = math.ceil((lowb + highb) / 2)\n",
    "        if a[mida] <= b[midb]:\n",
    "            a = a[mida:higha + 1]\n",
    "            b = b[lowb:midb + 1]\n",
    "        else:\n",
    "            a = a[lowa:mida + 1]\n",
    "            b = b[midb:highb + 1]\n",
    "        return median_of_2_sorted_lists(a, b)\n",
    "\n",
    "a = [4,8,14,20]\n",
    "b = [1,5,6,7]\n",
    "c = a + b\n",
    "c.sort()\n",
    "print(c)\n",
    "print(median_of_2_sorted_lists(a,b))"
   ]
  },
  {
   "cell_type": "code",
   "execution_count": 66,
   "metadata": {},
   "outputs": [
    {
     "name": "stdout",
     "output_type": "stream",
     "text": [
      "1 5 2 6 3 7 4 \n",
      "1 7 2 6 3 5 4 "
     ]
    }
   ],
   "source": [
    "def reorder_queue_1(q):\n",
    "    n = q.qsize()\n",
    "    import math\n",
    "    half = math.ceil(n / 2)\n",
    "    tmpq = Queue()\n",
    "    for _ in range(half):\n",
    "        tmpq.put(q.get())\n",
    "    while not tmpq.empty():\n",
    "        q.put(tmpq.get())\n",
    "        if not(tmpq.empty() and n % 2 == 1):\n",
    "            q.put(q.get())\n",
    "    \n",
    "    return q\n",
    "\n",
    "def reorder_queue_2(q):\n",
    "    n = q.qsize()\n",
    "    import math\n",
    "    half = math.ceil(n / 2)\n",
    "    tmpq = Queue()\n",
    "    for _ in range(half):\n",
    "        tmpq.put(q.get())\n",
    "    stack = list()\n",
    "    while not q.empty():\n",
    "        stack.append(q.get())\n",
    "    while len(stack) > 0:\n",
    "        q.put(stack.pop())\n",
    "    while not tmpq.empty():\n",
    "        q.put(tmpq.get())\n",
    "        if not(tmpq.empty() and n % 2 == 1):\n",
    "            q.put(q.get())\n",
    "\n",
    "    return q\n",
    "\n",
    "from queue import Queue\n",
    "q = Queue()\n",
    "for item in range(1,8):\n",
    "    q.put(item)\n",
    "q = reorder_queue_1(q)\n",
    "while not q.empty():\n",
    "    print(q.get(), end = ' ')\n",
    "print()\n",
    "for item in range(1,8):\n",
    "    q.put(item)\n",
    "q = reorder_queue_2(q)\n",
    "while not q.empty():\n",
    "    print(q.get(), end = ' ')"
   ]
  },
  {
   "cell_type": "code",
   "execution_count": 6,
   "metadata": {},
   "outputs": [
    {
     "name": "stdout",
     "output_type": "stream",
     "text": [
      "<__main__.singleton object at 0x0000018833B599B0>\n",
      "<__main__.singleton object at 0x0000018833B599B0>\n",
      "<__main__.singleton object at 0x0000018833B599B0>\n",
      "<__main__.singleton object at 0x0000018833B599B0>\n",
      "<__main__.singleton object at 0x0000018833B599B0>\n"
     ]
    }
   ],
   "source": [
    "class singleton():\n",
    "    # Class attribute\n",
    "    _instance = None\n",
    "    def __init__(self):\n",
    "        if singleton._instance == None:\n",
    "            singleton._instance = self\n",
    "        else:\n",
    "            raise Exception('This is a singleton class. Cannot create more than one instance.')\n",
    "    \n",
    "    # Class Method. Note the lack of 'self' argument in the definition below\n",
    "    def get_instance():\n",
    "        if singleton._instance == None:\n",
    "            singleton._instance = singleton()\n",
    "        return singleton._instance\n",
    "\n",
    "s = singleton()\n",
    "print(s)\n",
    "s1 = singleton.get_instance()\n",
    "print(s1)\n",
    "s2 = singleton.get_instance()\n",
    "print(s2)\n",
    "s3 = singleton._instance\n",
    "print(s3)\n",
    "print(s3._instance)"
   ]
  },
  {
   "cell_type": "code",
   "execution_count": 10,
   "metadata": {},
   "outputs": [
    {
     "name": "stdout",
     "output_type": "stream",
     "text": [
      "mech - 120\n",
      "sw - 100\n",
      "chem - 80\n"
     ]
    }
   ],
   "source": [
    "class engineer():\n",
    "    def get_sal(self):\n",
    "        return self.sal\n",
    "\n",
    "class sw_engineer(engineer):\n",
    "    def __init__(self):\n",
    "        self.sal = 100\n",
    "\n",
    "class mech_engineer(engineer):\n",
    "    def __init__(self):\n",
    "        self.sal = 120\n",
    "\n",
    "class chem_engineer(engineer):\n",
    "    def __init__(self):\n",
    "        self.sal = 80\n",
    "\n",
    "class eng_factory():\n",
    "    def get_obj(self, key):\n",
    "        key = key + '_engineer'\n",
    "        return globals()[key]()\n",
    "\n",
    "creator = eng_factory()\n",
    "for item in ('mech', 'sw', 'chem'):\n",
    "    print('{} - {}'.format(item, creator.get_obj(item).get_sal()))"
   ]
  },
  {
   "cell_type": "code",
   "execution_count": 16,
   "metadata": {},
   "outputs": [
    {
     "name": "stdout",
     "output_type": "stream",
     "text": [
      "<class 'dict'>\n",
      "<class '__main__.sw_engineer'>\n"
     ]
    }
   ],
   "source": [
    "print(type(globals()))\n",
    "print(globals()['sw_engineer'])"
   ]
  },
  {
   "cell_type": "code",
   "execution_count": 10,
   "metadata": {},
   "outputs": [
    {
     "name": "stdout",
     "output_type": "stream",
     "text": [
      "6\n",
      "[35, 33, 33, 100, 200, 1200]\n"
     ]
    }
   ],
   "source": [
    "# Max Number in the sliding window\n",
    "def max_num_in_sliding_window(a, k):\n",
    "    m = list()\n",
    "    from collections import deque\n",
    "    d = deque()\n",
    "    for pos, val in enumerate(a):\n",
    "        while d and d[-1][0] <= a[pos]:\n",
    "            d.pop()\n",
    "        d.append([val, pos + k - 1])\n",
    "        if pos >= k-1: m.append(d[0][0])\n",
    "        if pos == d[0][1]: d.popleft()\n",
    "        #print(pos, val, d, m)\n",
    "    return m\n",
    "\n",
    "a = [35, -1, 33, 22, -10, -100, 100, 200, 1200]\n",
    "m = max_num_in_sliding_window(a, 4)\n",
    "print(len(m))\n",
    "print(m)"
   ]
  },
  {
   "cell_type": "code",
   "execution_count": 19,
   "metadata": {},
   "outputs": [
    {
     "name": "stdout",
     "output_type": "stream",
     "text": [
      "zacbdaacdbaxy\n"
     ]
    }
   ],
   "source": [
    "# Minimum window in the Input String containing all the characters in the pattern\n",
    "def min_window(inp, pat):\n",
    "    if inp == '' or pat == '': return \"\"\n",
    "    s = set(pat)\n",
    "    #print(s)\n",
    "    d = dict()\n",
    "    start = 0\n",
    "    end = len(inp) - 1\n",
    "    for pos, val in enumerate(inp):\n",
    "        if val not in s: continue\n",
    "        d[val] = pos\n",
    "        if len(d) == len(s):\n",
    "            min_val = min(d.values())\n",
    "            if pos - min_val + 1 < end - start + 1:\n",
    "                start = min_val\n",
    "                end = pos\n",
    "    if len(d) < len(s): return \"\"\n",
    "    return inp[start:end+1]\n",
    "\n",
    "print(min_window('zacbdaacdbaxy', 'abxcyz'))"
   ]
  },
  {
   "cell_type": "code",
   "execution_count": 36,
   "metadata": {},
   "outputs": [
    {
     "name": "stdout",
     "output_type": "stream",
     "text": [
      "33\n",
      "55.0\n",
      "33\n",
      "55.0\n",
      "33\n",
      "55.0\n",
      "33\n",
      "55.0\n"
     ]
    }
   ],
   "source": [
    "# Median Heap\n",
    "from heapq import heapify, heappush, heappop, nlargest, nsmallest\n",
    "\n",
    "class median_heap():\n",
    "    def __init__(self):\n",
    "        self.n = 0\n",
    "        self.nmaxa = 0\n",
    "        self.nmina = 0\n",
    "        self.maxa = []\n",
    "        self.mina = []\n",
    "        heapify(self.maxa)\n",
    "        heapify(self.mina)\n",
    "    \n",
    "    def insert(self, ele):\n",
    "        if (self.nmaxa == 0 and self.nmina == 0):\n",
    "            heappush(self.maxa, ele * -1)\n",
    "            self.nmaxa += 1\n",
    "            self.n += 1\n",
    "\n",
    "        elif self.nmaxa == self.nmina + 1:\n",
    "            if ele > ((nsmallest(1, self.maxa)[0]) * -1):\n",
    "                heappush(self.mina, ele)\n",
    "            else:\n",
    "                heappush(self.mina, heappop(self.maxa) * -1)\n",
    "                heappush(self.maxa, ele * -1)\n",
    "            self.nmina += 1\n",
    "            self.n += 1\n",
    "\n",
    "        elif self.nmaxa == self.nmina:\n",
    "            if ele > ((nsmallest(1, self.maxa)[0]) * -1):\n",
    "                heappush(self.maxa, heappop(self.mina) * -1)\n",
    "                heappush(self.mina, ele)\n",
    "            else:\n",
    "                heappush(self.maxa, ele * -1)\n",
    "            self.nmaxa += 1\n",
    "            self.n += 1\n",
    "        #print(self.n, self.nmaxa, self.nmina, self.maxa, self.mina)\n",
    "\n",
    "    def get_median(self):\n",
    "        if self.n == 0:\n",
    "            return None\n",
    "        elif self.nmaxa == self.nmina + 1:\n",
    "            return nsmallest(1, self.maxa)[0] * -1\n",
    "        elif self.nmaxa == self.nmina:\n",
    "            return (nsmallest(1, self.maxa)[0] * -1 + nsmallest(1, self.mina)[0]) / 2\n",
    "\n",
    "m = median_heap()\n",
    "for item in [33,77,11,99,22,100,-100,1000]:\n",
    "    m.insert(item)\n",
    "    print(m.get_median())"
   ]
  },
  {
   "cell_type": "code",
   "execution_count": 43,
   "metadata": {},
   "outputs": [
    {
     "name": "stdout",
     "output_type": "stream",
     "text": [
      "220\n",
      "Sea Grey\n",
      "22 22 22 22 \n"
     ]
    }
   ],
   "source": [
    "# Builder Pattern\n",
    "class director():\n",
    "    def __init__(self):\n",
    "        self.builder = None\n",
    "\n",
    "    def set_builder(self, builder):\n",
    "        self.builder = builder\n",
    "\n",
    "    def get_car(self):\n",
    "        car = Car()\n",
    "        car.set_engine(self.builder.get_engine())\n",
    "        car.set_body(self.builder.get_body())\n",
    "        car.set_tyres(self.builder.get_tyres())\n",
    "        return car\n",
    "\n",
    "class Car():\n",
    "    def __init__(self):\n",
    "        self.engine = None\n",
    "        self.body = None\n",
    "        self.tyres = None\n",
    "\n",
    "    def set_engine(self, obj):\n",
    "        self.engine = obj\n",
    "    \n",
    "    def set_body(self, obj):\n",
    "        self.body = obj\n",
    "    \n",
    "    def set_tyres(self, obj_list):\n",
    "        self.tyres = obj_list.copy()\n",
    "\n",
    "class builder():\n",
    "    pass\n",
    "\n",
    "class car_builder(builder):\n",
    "    def get_engine(self):\n",
    "        obj = engine()\n",
    "        obj.hp = 220\n",
    "        return obj\n",
    "    \n",
    "    def get_body(self):\n",
    "        obj = body()\n",
    "        obj.color = 'Sea Grey'\n",
    "        return obj\n",
    "    \n",
    "    def get_tyres(self):\n",
    "        tyres = []\n",
    "        for _ in range(4):\n",
    "            obj = tyre()\n",
    "            obj.size = 22\n",
    "            tyres.append(obj)\n",
    "        return tyres\n",
    "\n",
    "class engine():\n",
    "    def __init__(self):\n",
    "        self.hp = None\n",
    "\n",
    "class body():\n",
    "    def __init__(self):\n",
    "        self.color = None\n",
    "\n",
    "class tyre():\n",
    "    def __init__(self):\n",
    "        self.size = None\n",
    "\n",
    "cb = car_builder()\n",
    "d = director()\n",
    "d.set_builder(cb)\n",
    "car = d.get_car()\n",
    "print(car.engine.hp)\n",
    "print(car.body.color)\n",
    "for obj in car.tyres:\n",
    "    print(obj.size, end = ' ')\n",
    "print()"
   ]
  },
  {
   "cell_type": "code",
   "execution_count": 44,
   "metadata": {},
   "outputs": [
    {
     "name": "stdout",
     "output_type": "stream",
     "text": [
      "The Zen of Python, by Tim Peters\n",
      "\n",
      "Beautiful is better than ugly.\n",
      "Explicit is better than implicit.\n",
      "Simple is better than complex.\n",
      "Complex is better than complicated.\n",
      "Flat is better than nested.\n",
      "Sparse is better than dense.\n",
      "Readability counts.\n",
      "Special cases aren't special enough to break the rules.\n",
      "Although practicality beats purity.\n",
      "Errors should never pass silently.\n",
      "Unless explicitly silenced.\n",
      "In the face of ambiguity, refuse the temptation to guess.\n",
      "There should be one-- and preferably only one --obvious way to do it.\n",
      "Although that way may not be obvious at first unless you're Dutch.\n",
      "Now is better than never.\n",
      "Although never is often better than *right* now.\n",
      "If the implementation is hard to explain, it's a bad idea.\n",
      "If the implementation is easy to explain, it may be a good idea.\n",
      "Namespaces are one honking great idea -- let's do more of those!\n"
     ]
    }
   ],
   "source": [
    "import this"
   ]
  },
  {
   "cell_type": "code",
   "execution_count": 59,
   "metadata": {},
   "outputs": [
    {
     "name": "stdout",
     "output_type": "stream",
     "text": [
      "put\n",
      "qsize\n",
      "1\n",
      "get\n",
      "33\n",
      "qsize\n",
      "0\n",
      "<bound method Queue.get of <queue.Queue object at 0x00000223122DA2E8>>\n",
      "qsize\n",
      "<bound method Queue.qsize of <queue.Queue object at 0x00000223122728D0>>\n"
     ]
    }
   ],
   "source": [
    "class qclass():\n",
    "    def __init__(self, cla):\n",
    "        self.cla = cla\n",
    "\n",
    "    def __getattr__(self, attr):\n",
    "        print(attr)\n",
    "        return getattr(self.cla, attr)\n",
    "\n",
    "from queue import Queue\n",
    "qc = qclass(Queue())\n",
    "qc.put(33)\n",
    "print(qc.qsize())\n",
    "print(qc.get())\n",
    "print(qc.qsize())\n",
    "q = Queue()\n",
    "print(getattr(q, 'get'))\n",
    "print(getattr(qc, 'qsize'))"
   ]
  },
  {
   "cell_type": "code",
   "execution_count": 302,
   "metadata": {},
   "outputs": [
    {
     "name": "stdout",
     "output_type": "stream",
     "text": [
      "Authorization\n",
      "Authentication\n",
      "Authentication Successful.\n",
      "<function action at 0x000001F7915226A8>\n",
      "<function authorized_only.<locals>.decorated at 0x000001F791522488>\n",
      "Authorization Successful.\n",
      "<function action at 0x000001F7915226A8>\n",
      "<function execute at 0x000001F791522598>\n",
      "777\n"
     ]
    }
   ],
   "source": [
    "def action():\n",
    "    return 777\n",
    "\n",
    "def authenticated_only(method):\n",
    "    print('Authentication')\n",
    "    def decorated(action, *args, **kwargs):\n",
    "        if kwargs['user'] == 'ganesh':\n",
    "            print('Authentication Successful.')\n",
    "            print(action)\n",
    "            print(method)\n",
    "            return method(action, *args, **kwargs )\n",
    "        else:\n",
    "            raise UnauthenticatedError\n",
    "    return decorated\n",
    "\n",
    "def authorized_only(method):\n",
    "    print('Authorization')\n",
    "    def decorated(action, *args, **kwargs):\n",
    "        if kwargs['user'] == 'ganesh' and kwargs['act'] == 'act':\n",
    "            print('Authorization Successful.')\n",
    "            print(action)\n",
    "            print(method)\n",
    "            return method(action, *args, **kwargs)\n",
    "        else:\n",
    "            raise UnauthorizedError\n",
    "    return decorated\n",
    "\n",
    "@authenticated_only\n",
    "@authorized_only\n",
    "def execute(action, *args, **kwargs):\n",
    "    return action()\n",
    "\n",
    "print(execute(action, user='ganesh', act='act'))"
   ]
  },
  {
   "cell_type": "code",
   "execution_count": 18,
   "metadata": {},
   "outputs": [
    {
     "name": "stdout",
     "output_type": "stream",
     "text": [
      "8\n"
     ]
    }
   ],
   "source": [
    "def find_in_rotated_sorted_array(a, low, high, data):\n",
    "    while low <= high:\n",
    "        mid = (low + high) // 2\n",
    "        if data == a[mid]:\n",
    "            return mid\n",
    "        elif a[mid] >= a[low]:\n",
    "            if a[low] <= data < a[mid]:\n",
    "                high = mid - 1\n",
    "            else:\n",
    "                low = mid + 1\n",
    "        else:\n",
    "            if a[mid] < data <= a[high]:\n",
    "                low = mid + 1\n",
    "            else:\n",
    "                high = mid - 1\n",
    "\n",
    "    return -1\n",
    "\n",
    "a = [66,77,88,99,11,22,33,44,55]\n",
    "print(find_in_rotated_sorted_array(a, 0, len(a) - 1, 55))"
   ]
  },
  {
   "cell_type": "code",
   "execution_count": 19,
   "metadata": {},
   "outputs": [
    {
     "name": "stdout",
     "output_type": "stream",
     "text": [
      "[2, -20, 22]\n"
     ]
    }
   ],
   "source": [
    "def find_two_elements_sum_close_to_zero(a):\n",
    "    a.sort()\n",
    "    i = 0\n",
    "    j = len(a) - 1\n",
    "    min_sum = float(\"inf\")\n",
    "    x = None\n",
    "    y = None\n",
    "    while i < j:\n",
    "        s = a[i] + a[j]\n",
    "        if abs(s) < abs(min_sum):\n",
    "            min_sum = s\n",
    "            x = a[i]\n",
    "            y = a[j]\n",
    "        if s < 0:\n",
    "            i += 1\n",
    "        else:\n",
    "            j -= 1\n",
    "\n",
    "    return [min_sum, x, y]\n",
    "\n",
    "a = [11, 22, -4, -55, -20, -5, 33, 100, -30]\n",
    "print(find_two_elements_sum_close_to_zero(a))"
   ]
  },
  {
   "cell_type": "code",
   "execution_count": 22,
   "metadata": {},
   "outputs": [
    {
     "name": "stdout",
     "output_type": "stream",
     "text": [
      "[0, 22, 33, -55]\n"
     ]
    }
   ],
   "source": [
    "def find_three_elements_sum_close_to_zero(a):\n",
    "    a.sort()\n",
    "    min_sum = float(\"inf\")\n",
    "    x = None\n",
    "    y = None\n",
    "    z = None\n",
    "    for k in range(0, len(a)):\n",
    "        i = k + 1\n",
    "        j = len(a) - 1\n",
    "        while i < j:\n",
    "            s = a[i] + a[j] + a[k]\n",
    "            if abs(s) < abs(min_sum):\n",
    "                min_sum = s\n",
    "                x = a[i]\n",
    "                y = a[j]\n",
    "                z = a[k]\n",
    "            if s < 0:\n",
    "                i += 1\n",
    "            else:\n",
    "                j -= 1\n",
    "\n",
    "    return [min_sum, x, y, z]\n",
    "\n",
    "a = [11, 22, -4, -55, -20, -5, 33, 100, -30]\n",
    "print(find_three_elements_sum_close_to_zero(a))"
   ]
  },
  {
   "cell_type": "code",
   "execution_count": 37,
   "metadata": {},
   "outputs": [
    {
     "name": "stdout",
     "output_type": "stream",
     "text": [
      "3\n"
     ]
    }
   ],
   "source": [
    "def find_first_occurrence(a, data, low, high):\n",
    "    while low <= high:\n",
    "        mid = (low + high) // 2\n",
    "        if (data == a[mid] and mid == low) or (data == a[mid] and a[mid-1] < data):\n",
    "            return mid\n",
    "        elif data == a[mid]:\n",
    "            high = mid - 1\n",
    "        elif data > a[mid]:\n",
    "            low = mid + 1\n",
    "        else:\n",
    "            high = mid - 1\n",
    "\n",
    "    return -1\n",
    "\n",
    "a = [11, 11, 22, 33, 33, 33, 44, 55, 66, 77, 77]\n",
    "print(find_first_occurrence(a, 33, 0, len(a) - 1))"
   ]
  },
  {
   "cell_type": "code",
   "execution_count": 38,
   "metadata": {},
   "outputs": [
    {
     "name": "stdout",
     "output_type": "stream",
     "text": [
      "5\n"
     ]
    }
   ],
   "source": [
    "def find_last_occurrence(a, data, low, high):\n",
    "    while low <= high:\n",
    "        mid = (low + high) // 2\n",
    "        if (data == a[mid] and mid == high) or (data == a[mid] and a[mid+1] > data):\n",
    "            return mid\n",
    "        elif data == a[mid]:\n",
    "            low = mid + 1\n",
    "        elif data > a[mid]:\n",
    "            low = mid + 1\n",
    "        else:\n",
    "            high = mid - 1\n",
    "\n",
    "    return -1\n",
    "\n",
    "a = [11, 11, 22, 33, 33, 33, 44, 55, 66, 77, 77]\n",
    "print(find_last_occurrence(a, 33, 0, len(a) - 1))"
   ]
  },
  {
   "cell_type": "code",
   "execution_count": 45,
   "metadata": {},
   "outputs": [
    {
     "name": "stdout",
     "output_type": "stream",
     "text": [
      "11\n",
      "3\n",
      "-1\n"
     ]
    }
   ],
   "source": [
    "def find_first_positive_in_monotonically_increasing_numbers(a, low, high):\n",
    "    while low <= high:\n",
    "        mid = (low + high) // 2\n",
    "        if a[mid] >= 0:\n",
    "            if a[mid-1] < 0:\n",
    "                return a[mid]\n",
    "            else:\n",
    "                high = mid - 1\n",
    "        else:\n",
    "            low = mid + 1\n",
    "\n",
    "    return -1\n",
    "\n",
    "a = [-100, -87, -34, -23, -3, 11, 33, 44, 55, 77, 99]\n",
    "a1 = [-10, 3]\n",
    "a2 = [1]\n",
    "print(find_first_positive_in_monotonically_increasing_numbers(a, 0, len(a) - 1))\n",
    "print(find_first_positive_in_monotonically_increasing_numbers(a1, 0, len(a1) - 1))\n",
    "print(find_first_positive_in_monotonically_increasing_numbers(a2, 0, len(a2) - 1))"
   ]
  },
  {
   "cell_type": "code",
   "execution_count": 11,
   "metadata": {},
   "outputs": [
    {
     "name": "stdout",
     "output_type": "stream",
     "text": [
      "4\n",
      "1\n",
      "4\n"
     ]
    }
   ],
   "source": [
    "def peak_in_bitonic_array(a, low, high):\n",
    "    while low <= high:\n",
    "        mid = (low + high) // 2\n",
    "        if mid != 0 and mid != len(a) - 1 and a[mid-1] <= a[mid] >= a[mid+1]:\n",
    "            return mid\n",
    "        elif mid == 0:\n",
    "            low = mid + 1\n",
    "        elif mid == len(a) - 1:\n",
    "            high = mid - 1\n",
    "        elif a[mid+1] > a[mid]:\n",
    "            low = mid + 1\n",
    "        elif a[mid-1] > a[mid]:\n",
    "            high = mid - 1\n",
    "\n",
    "    return -1\n",
    "\n",
    "a = [11, 22, 33, 44, 55, 44, 33, 22, 11]\n",
    "a1 = [11, 55, 22, 10, 1]\n",
    "a2 = [11, 22, 33, 44, 55, 10]\n",
    "print(peak_in_bitonic_array(a, 0, len(a) - 1))\n",
    "print(peak_in_bitonic_array(a1, 0, len(a1)- 1))\n",
    "print(peak_in_bitonic_array(a2, 0, len(a2)- 1))"
   ]
  },
  {
   "cell_type": "code",
   "execution_count": 13,
   "metadata": {},
   "outputs": [
    {
     "name": "stdout",
     "output_type": "stream",
     "text": [
      "2\n",
      "1\n",
      "5\n"
     ]
    }
   ],
   "source": [
    "def find_in_bitonic_array(a, low, high, data):\n",
    "    peak_pos = peak_in_bitonic_array(a, low, high)\n",
    "    if a[peak_pos] == data:\n",
    "        return peak_pos\n",
    "    left = binary_search(a, low, peak_pos - 1, data)\n",
    "    if left != -1:\n",
    "        return left\n",
    "    return binary_search(a, peak_pos + 1, high, data)\n",
    "\n",
    "a = [11, 22, 33, 44, 55, 44, 33, 22, 11]\n",
    "a1 = [11, 55, 22, 10, 1]\n",
    "a2 = [11, 22, 33, 44, 55, 10]\n",
    "print(find_in_bitonic_array(a, 0, len(a) - 1, 33))\n",
    "print(find_in_bitonic_array(a1, 0, len(a1)- 1, 55))\n",
    "print(find_in_bitonic_array(a2, 0, len(a2)- 1, 10))"
   ]
  },
  {
   "cell_type": "code",
   "execution_count": 58,
   "metadata": {},
   "outputs": [
    {
     "name": "stdout",
     "output_type": "stream",
     "text": [
      "550.0\n",
      "550.0\n"
     ]
    }
   ],
   "source": [
    "import math\n",
    "def median_in_sorted_arrays(a, b):\n",
    "    lowa = 0\n",
    "    higha = len(a) - 1\n",
    "    lowb = 0\n",
    "    highb = len(b) - 1\n",
    "    n = higha - lowa + 1 + highb - lowb + 1\n",
    "    if n == 0:\n",
    "        return None\n",
    "    elif n == 2:\n",
    "        return (a[0] + b[0]) / 2\n",
    "    elif n == 4:\n",
    "        return (max(a[0], b[0]) + min(a[1], b[1])) / 2\n",
    "    else:\n",
    "        meda = math.floor((lowa + higha) / 2)\n",
    "        medb = math.ceil((lowb + highb) / 2)\n",
    "        if a[meda] == b[medb]:\n",
    "            return a[meda]\n",
    "        elif a[meda] < b[medb]:\n",
    "            return median_in_sorted_arrays(a[meda:higha+1], b[lowb:medb+1])\n",
    "        else:\n",
    "            return median_in_sorted_arrays(a[lowa:meda+1], b[medb:highb+1])\n",
    "\n",
    "a = [11,99,500,700,900]\n",
    "b = [20,44,600,804,1000]\n",
    "print(median_in_sorted_arrays(a,b))\n",
    "print((kth_smallest_in_sorted_arrays(a, b, (len(a) + len(b)) // 2) + kth_smallest_in_sorted_arrays(a, b, (len(a) + len(b)) // 2 + 1)) / 2)"
   ]
  },
  {
   "cell_type": "code",
   "execution_count": 59,
   "metadata": {},
   "outputs": [
    {
     "name": "stdout",
     "output_type": "stream",
     "text": [
      "700\n",
      "500\n"
     ]
    }
   ],
   "source": [
    "import math\n",
    "def kth_smallest_in_sorted_arrays(a, b, k):\n",
    "    lena = len(a)\n",
    "    lenb = len(b)\n",
    "    if k > (lena + lenb): return None\n",
    "    if lenb < lena:\n",
    "        a, b = b, a\n",
    "    stepsa = (min(len(a), k) - 1) // 2\n",
    "    stepsb = k - stepsa - 2\n",
    "    if stepsb > lenb - 1: stepsb = lenb - 1\n",
    "    #print(k, stepsa, stepsb)\n",
    "    if len(a) == 0: return b[k-1]\n",
    "    elif k == 1: return min(a[0], b[0])\n",
    "    elif a[stepsa] == b[stepsb]: return a[stepsa]\n",
    "    elif a[stepsa] > b[stepsb]: return kth_smallest_in_sorted_arrays(a, b[stepsb+1:], k-stepsb-1)\n",
    "    else: return kth_smallest_in_sorted_arrays(a[stepsa+1:], b, k-stepsa-1)\n",
    "\n",
    "a = [11,99,500,700,900]\n",
    "b = [20,44,600,804]\n",
    "print(kth_smallest_in_sorted_arrays(a,b,7))\n",
    "print(kth_smallest_in_sorted_arrays(a, b, (len(a) + len(b)) // 2 + 1))"
   ]
  },
  {
   "cell_type": "code",
   "execution_count": 68,
   "metadata": {},
   "outputs": [
    {
     "name": "stdout",
     "output_type": "stream",
     "text": [
      "{'t': 5, 'h': 2, 'i': 5, 's': 6, ' ': 7, 'a': 3, 'm': 2, 'l': 3, 'r': 3, 'n': 3, 'g': 3, 'f': 2, 'o': 2, 'e': 2}\n",
      "i - 000\n",
      "o - 0010\n",
      "a - 0011\n",
      "t - 010\n",
      "g - 0110\n",
      "l - 0111\n",
      "n - 1000\n",
      "r - 1001\n",
      "s - 101\n",
      "  - 110\n",
      "e - 11100\n",
      "f - 11101\n",
      "h - 11110\n",
      "m - 11111\n"
     ]
    }
   ],
   "source": [
    "def huffman_compression(s):\n",
    "    freq = dict()\n",
    "    for ch in s:\n",
    "        if ch not in freq:\n",
    "            freq[ch] = 1\n",
    "        freq[ch] += 1\n",
    "    print(freq)\n",
    "    from heapq import heapify, heappush, heappop\n",
    "    lis = [[freq[k], [k, \"\"]] for k in freq]\n",
    "    #print(lis)\n",
    "    heapify(lis)\n",
    "    while len(lis) > 1:\n",
    "        left = heappop(lis)\n",
    "        right = heappop(lis)\n",
    "        for item in left[1:]:\n",
    "            item[1] = \"0\" + item[1]\n",
    "        for item in right[1:]:\n",
    "            item[1] = \"1\" + item[1]\n",
    "        tmp = [left[0] + right[0], *(left[1:] + right[1:])]\n",
    "        heappush(lis, tmp)\n",
    "    lis = lis[0]\n",
    "    for item in lis[1:]:\n",
    "        print('{} - {}'.format(item[0], item[1]))\n",
    "\n",
    "s = \"this is a small string for testing\"\n",
    "huffman_compression(s)"
   ]
  },
  {
   "cell_type": "code",
   "execution_count": 7,
   "metadata": {},
   "outputs": [
    {
     "name": "stdout",
     "output_type": "stream",
     "text": [
      "<class 'generator'>\n",
      "0\n",
      "1\n",
      "2\n",
      "<class 'generator'>\n",
      "0\n",
      "1\n",
      "<class 'range'>\n",
      "10\n"
     ]
    }
   ],
   "source": [
    "# Iterator - Behavioral Pattern\n",
    "# Memory friendly pattern and helps in saving the memory by not \n",
    "# generating huge number of objects and storing them in memory. Instead, the objects are \n",
    "# generated and released one by one when needed !!!\n",
    "def generate_list():\n",
    "    for item in range(7):\n",
    "        yield(item)\n",
    "\n",
    "g = generate_list()\n",
    "print(type(g))\n",
    "print(next(g))\n",
    "print(next(g))\n",
    "print(next(g))\n",
    "g1 = generate_list()\n",
    "print(type(g1))\n",
    "print(next(g1))\n",
    "print(next(g1))\n",
    "r1 = range(10,13)\n",
    "print(type(r1))\n",
    "r1 = iter(r1)\n",
    "print(next(r1))"
   ]
  },
  {
   "cell_type": "code",
   "execution_count": 13,
   "metadata": {},
   "outputs": [
    {
     "name": "stdout",
     "output_type": "stream",
     "text": [
      "[[5, -1, 6], 0.6666666666666666]\n"
     ]
    }
   ],
   "source": [
    "# Decorator - Structural Pattern\n",
    "# Extend functionality of a function without changing the tried and tested function\n",
    "def decorator2(fn):\n",
    "    def ret_fn(a, b):\n",
    "        asm_list = fn(a, b)\n",
    "        divb = a / b\n",
    "        return [asm_list, divb]\n",
    "    return ret_fn\n",
    "\n",
    "def decorator1(fn):\n",
    "    def ret_fn(a, b):\n",
    "        addv = fn(a, b)\n",
    "        subv = a - b\n",
    "        mulv = a * b\n",
    "        return [addv, subv, mulv]\n",
    "    return ret_fn\n",
    "\n",
    "@decorator2\n",
    "@decorator1\n",
    "def add(a, b):\n",
    "    return a + b\n",
    "\n",
    "print(add(2,3))"
   ]
  },
  {
   "cell_type": "code",
   "execution_count": 147,
   "metadata": {},
   "outputs": [
    {
     "name": "stdout",
     "output_type": "stream",
     "text": [
      "100 110 120 130 140 150 160 170 180 190 \n"
     ]
    }
   ],
   "source": [
    "# Favor Composition over Inheritance\n",
    "# This has the advantage of restricting the methods we expose to the client and also has the advantage of \n",
    "# dynamically choosing the class we want to use. Below we have used 'Queue' class. If need be, we can use \n",
    "# class 'list' dynamically and also the methods we can pass dynamically. Below we have hard coded the methods for \n",
    "# Queue but we can make them dynamic too\n",
    "from queue import Queue\n",
    "class my_queue():\n",
    "    _methods = ['get', 'put', 'empty']\n",
    "    def __init__(self, obj):\n",
    "        self.obj = obj\n",
    "    def __getattr__(self, meth):\n",
    "        if meth in my_queue._methods:\n",
    "            return getattr(self.obj, meth)\n",
    "        else:\n",
    "            raise Exception('Not allowed to call the method {}'.format(meth))\n",
    "\n",
    "q = my_queue(Queue())\n",
    "for item in range(100,200,10):\n",
    "    q.put(item)\n",
    "#print(q.qsize())\n",
    "while(not q.empty()):\n",
    "    print(q.get(), end=' ')\n",
    "print()"
   ]
  },
  {
   "cell_type": "code",
   "execution_count": 151,
   "metadata": {},
   "outputs": [
    {
     "name": "stdout",
     "output_type": "stream",
     "text": [
      "Applied ads_filter on the Content ...\n",
      "Applied offensive_words_filter on the Content ...\n",
      "Applied porno_video_filter on the Content ...\n"
     ]
    }
   ],
   "source": [
    "# Chain of Responsibility\n",
    "# A given task/request should be handled by different methods by each one handling a part of the task\n",
    "class content_filter():\n",
    "    def __init__(self, filter_list=None):\n",
    "        self.filters = list()\n",
    "        if filter_list is not None:\n",
    "            self.filters += filter_list\n",
    "    \n",
    "    def filter(self, content):\n",
    "        for fitem in self.filters:\n",
    "            content = fitem(content)\n",
    "        return content\n",
    "\n",
    "def ads_filter(content):\n",
    "    print('Applied ads_filter on the Content ...')\n",
    "\n",
    "def offensive_words_filter(content):\n",
    "    print('Applied offensive_words_filter on the Content ...')\n",
    "\n",
    "def porno_video_filter(content):\n",
    "    print('Applied porno_video_filter on the Content ...')\n",
    "\n",
    "cf = content_filter([ads_filter, offensive_words_filter, porno_video_filter])\n",
    "content = cf.filter('')"
   ]
  },
  {
   "cell_type": "code",
   "execution_count": 153,
   "metadata": {},
   "outputs": [
    {
     "name": "stdout",
     "output_type": "stream",
     "text": [
      "True\n",
      "True\n",
      "Should I proceed? \n",
      "True\n",
      "False\n"
     ]
    }
   ],
   "source": [
    "# Command Pattern\n",
    "# Before executing the actions/commands, preparing for execution by storing the details of the actions/commands will help \n",
    "# in adding additional functionalities like undo, redo etc. as shown below\n",
    "import os\n",
    "class rename_file():\n",
    "    def __init__(self, src, dest):\n",
    "        self.src = src\n",
    "        self.dest = dest\n",
    "    \n",
    "    def execute(self):\n",
    "        os.rename(self.src, self.dest)\n",
    "    \n",
    "    def undo(self):\n",
    "        os.rename(self.dest, self.src)\n",
    "\n",
    "class history():\n",
    "    def __init__(self):\n",
    "        self.commands = list()\n",
    "    \n",
    "    def execute(self, obj):\n",
    "        self.commands.append(obj)\n",
    "        obj.execute()\n",
    "    \n",
    "    def undo(self):\n",
    "        obj = self.commands.pop()\n",
    "        obj.undo()\n",
    "\n",
    "h = history()\n",
    "print(os.path.exists('trtr.txt'))\n",
    "h.execute(rename_file('trtr.txt', 'trtr_pattern.txt'))\n",
    "print(os.path.exists('trtr_pattern.txt'))\n",
    "input('Should I proceed? ')\n",
    "h.undo()\n",
    "print(os.path.exists('trtr.txt'))\n",
    "print(os.path.exists('trtr_pattern.txt'))"
   ]
  },
  {
   "cell_type": "code",
   "execution_count": 157,
   "metadata": {},
   "outputs": [
    {
     "name": "stdout",
     "output_type": "stream",
     "text": [
      "Authentication1 Done ...\n",
      "Authorization1 Done ...\n",
      "File deleted ...\n"
     ]
    }
   ],
   "source": [
    "# Dependency Injection\n",
    "# Create an abstraction so that the class just have to call the interface passed and don't have to really\n",
    "# understand the implementation details. Below, class don't have to understand what type of authentication \n",
    "# and authorization we are using. On the other hand, we can pass different authenticate and authorization methods \n",
    "# and the class doesn't have to think/worry about it\n",
    "class execute_command():\n",
    "    def __init__(self, authenticate, authorize):\n",
    "        self.authenticate = authenticate\n",
    "        self.authorize = authorize\n",
    "    \n",
    "    def execute(self, cmd):\n",
    "        self.authenticate()\n",
    "        self.authorize(cmd)\n",
    "        cmd()\n",
    "    \n",
    "def auth():\n",
    "    print('Authentication Done ...')\n",
    "\n",
    "def aut(cmd):\n",
    "    print('Authorization Done ...')\n",
    "\n",
    "def auth1():\n",
    "    print('Authentication1 Done ...')\n",
    "\n",
    "def aut1(cmd):\n",
    "    print('Authorization1 Done ...')\n",
    "\n",
    "def delete_file():\n",
    "    print('File deleted ...')\n",
    "\n",
    "ex = execute_command(auth1, aut1)\n",
    "ex.execute(delete_file)"
   ]
  },
  {
   "cell_type": "code",
   "execution_count": 159,
   "metadata": {},
   "outputs": [
    {
     "name": "stdout",
     "output_type": "stream",
     "text": [
      "220\n",
      "black\n",
      "[34, 34, 34, 34]\n"
     ]
    }
   ],
   "source": [
    "# Facade Pattern - Interface Simplification\n",
    "# Expose to Client only well-thought and useful APIs .. don't expose every API available to the Client !!!\n",
    "class car():\n",
    "    def __init__(self):\n",
    "        self.engine = engine()\n",
    "        self.body = body()\n",
    "        self.tyres = list()\n",
    "        for i in range(4):\n",
    "            self.tyres.append(tyre())\n",
    "    \n",
    "    def engine_hp(self):\n",
    "        return self.engine.hp\n",
    "    \n",
    "    def body_color(self):\n",
    "        return self.body.color\n",
    "    \n",
    "    def tyre_pressure(self):\n",
    "        return [self.tyres[i].pressure for i in range(len(self.tyres))]\n",
    "\n",
    "class engine():\n",
    "    def __init__(self):\n",
    "        self.hp = 220\n",
    "\n",
    "class body():\n",
    "    def __init__(self):\n",
    "        self.color = 'black'\n",
    "\n",
    "class tyre():\n",
    "    def __init__(self):\n",
    "        self.pressure = 34\n",
    "\n",
    "c = car()\n",
    "print(c.engine_hp())\n",
    "print(c.body_color())\n",
    "print(c.tyre_pressure())"
   ]
  },
  {
   "cell_type": "code",
   "execution_count": 161,
   "metadata": {},
   "outputs": [
    {
     "name": "stdout",
     "output_type": "stream",
     "text": [
      "6\n",
      "8\n"
     ]
    }
   ],
   "source": [
    "# Adapter Pattern\n",
    "# Don't change the tried and tested interface. Instead, create an Adapter !!!\n",
    "class A():\n",
    "    def __init__(self, s):\n",
    "        self.s = s\n",
    "    \n",
    "    def length(self):\n",
    "        return len(self.s)\n",
    "\n",
    "class B():\n",
    "    def __init__(self, l):\n",
    "        self.l = l\n",
    "    \n",
    "    def length(self):\n",
    "        return len(self.l)\n",
    "    \n",
    "def length(obj):\n",
    "    return obj.length()\n",
    "\n",
    "a = A('ganesa')\n",
    "print(length(a))\n",
    "b = B([1,2,3,4,5,6,7,8])\n",
    "print(length(b))"
   ]
  },
  {
   "cell_type": "code",
   "execution_count": 162,
   "metadata": {},
   "outputs": [
    {
     "name": "stdout",
     "output_type": "stream",
     "text": [
      "Displaying image from abc/def.gif\n"
     ]
    }
   ],
   "source": [
    "# Proxy Pattern\n",
    "# Create a substitute for the real object. Return the proxy object to client and as we maintain \n",
    "# same interface for proxy and real_object, client won't be able to distinguish. Proxy will inturn \n",
    "# call the methods of real_object via the real_object. This will be help in adding additional functionality \n",
    "# in the proxy methods like authentication, authorization etc. Helps in distributed processing as well\n",
    "class abstract_base_class():\n",
    "    def __init__(self):\n",
    "        raise Exception('Cannot instantiate Abstract Base Class ...')\n",
    "    def display_image(self):\n",
    "        raise Exception('This is an Abstract Method. Define in it in Derived Classes ...')\n",
    "\n",
    "class image(abstract_base_class):\n",
    "    def __init__(self, path):\n",
    "        self.path = path\n",
    "\n",
    "    def display_image(self):\n",
    "        print('Displaying image from {}'.format(self.path))\n",
    "\n",
    "class proxy(abstract_base_class):\n",
    "    def __init__(self, obj):\n",
    "        self.obj = obj\n",
    "    \n",
    "    def display_image(self):\n",
    "        self.obj.display_image()\n",
    "\n",
    "p = proxy(image('abc/def.gif'))\n",
    "p.display_image()"
   ]
  },
  {
   "cell_type": "code",
   "execution_count": 164,
   "metadata": {},
   "outputs": [
    {
     "name": "stdout",
     "output_type": "stream",
     "text": [
      "Performing operation related to A\n",
      "Performing operation related to B\n"
     ]
    }
   ],
   "source": [
    "# Bridge Pattern\n",
    "# Decoupling interface from implementation so that they can grow independently\n",
    "class interface():\n",
    "    def __init__(self, obj):\n",
    "        self.obj = obj\n",
    "    \n",
    "    def perform_operation(self):\n",
    "        self.obj.operation()\n",
    "\n",
    "class abstract_implementation_class():\n",
    "    def __init__(self):\n",
    "        raise Exception('Cannot instantiate Abstract Base Class ...')\n",
    "\n",
    "    def operation(self):\n",
    "        raise Exception('This is an Abstract Method. Define in it in Derived Classes ...')\n",
    "\n",
    "class concrete_implementation_class_A(abstract_base_class):\n",
    "    def __init__(self):\n",
    "        pass\n",
    "\n",
    "    def operation(self):\n",
    "        print('Performing operation related to A')\n",
    "\n",
    "class concrete_implementation_class_B(abstract_base_class):\n",
    "    def __init__(self):\n",
    "        pass\n",
    "    \n",
    "    def operation(self):\n",
    "        print('Performing operation related to B')\n",
    "\n",
    "a = interface(concrete_implementation_class_A())\n",
    "b = interface(concrete_implementation_class_B())\n",
    "a.perform_operation()\n",
    "b.perform_operation()"
   ]
  },
  {
   "cell_type": "code",
   "execution_count": 182,
   "metadata": {},
   "outputs": [
    {
     "name": "stdout",
     "output_type": "stream",
     "text": [
      "30\n",
      "40\n",
      "20\n",
      "<__main__.idly object at 0x000001F79109F4A8>\n",
      "<__main__.idly object at 0x000001F7910402E8>\n"
     ]
    }
   ],
   "source": [
    "# Prototype - Creational Pattern\n",
    "# Maintain a registry of prototype objects in an object factory and \n",
    "# client will call the factory method whenever he needs a specific object and \n",
    "# the factory method will clone the relevant object and returns the object.\n",
    "# This saves a lot of time and resources in creating new objects\n",
    "import copy\n",
    "class tiffin():\n",
    "    def __init__(self):\n",
    "        raise Exception('Cannot instantiate Abstract Base Class ...')\n",
    "\n",
    "    def clone(self):\n",
    "        raise Exception('This is an Abstract Method. Define in it in Derived Classes ...')\n",
    "\n",
    "class idly(tiffin):\n",
    "    def __init__(self):\n",
    "        self.price = 20\n",
    "        self.key = 'idly'\n",
    "\n",
    "    def clone(self):\n",
    "        return copy.deepcopy(self)\n",
    "    \n",
    "    def register():\n",
    "        tiffin_factory.registry['idly'] = idly()\n",
    "\n",
    "class dosa(tiffin):\n",
    "    def __init__(self):\n",
    "        self.price = 30\n",
    "        self.key = 'dosa'\n",
    "\n",
    "    def clone(self):\n",
    "        return copy.deepcopy(self)\n",
    "\n",
    "    def register():\n",
    "        tiffin_factory.registry['dosa'] = dosa()\n",
    "\n",
    "class poori(tiffin):\n",
    "    def __init__(self):\n",
    "        self.price = 40\n",
    "        self.key = 'poori'\n",
    "\n",
    "    def clone(self):\n",
    "        return copy.deepcopy(self)\n",
    "\n",
    "    def register():\n",
    "        tiffin_factory.registry['poori'] = poori()\n",
    "\n",
    "class tiffin_factory():\n",
    "    registry = dict()\n",
    "    def get_obj(self, key):\n",
    "        if key in tiffin_factory.registry:\n",
    "            return tiffin_factory.registry[key].clone()\n",
    "        else:\n",
    "            raise Exception('\"{}\" not found in the factory registry. Register First'.format(key))\n",
    "\n",
    "idly.register()\n",
    "dosa.register()\n",
    "t = tiffin_factory()\n",
    "d = t.get_obj('dosa')\n",
    "print(d.price)\n",
    "poori.register()\n",
    "p = t.get_obj('poori')\n",
    "print(p.price)\n",
    "i = t.get_obj('idly')\n",
    "print(i.price)"
   ]
  },
  {
   "cell_type": "code",
   "execution_count": 186,
   "metadata": {},
   "outputs": [
    {
     "name": "stdout",
     "output_type": "stream",
     "text": [
      "concrete observer1 got notified with the sub change from None to 23\n",
      "\n",
      "concrete observer2 got notified with the sub change from None to 77\n",
      "concrete observer1 got notified with the sub change from 23 to 77\n",
      "\n",
      "concrete observer2 got notified with the sub change from 77 to 88\n",
      "\n"
     ]
    }
   ],
   "source": [
    "# Observer - Behavioral Pattern\n",
    "# Maintain a one-to-many dependency between objects such that whenever subject changes, all the observers \n",
    "# who already subscribed for this change notification are notified and the observers reach accordingly.\n",
    "# This pattern is observed in the bidding process where a new accepted bid is notified to all the bidders/observers\n",
    "class subject():\n",
    "    def __init__(self):\n",
    "        self.sub = None\n",
    "        self.observers = set()\n",
    "    \n",
    "    def attach(self, observer):\n",
    "        self.observers.add(observer)\n",
    "    \n",
    "    def detach(self, observer):\n",
    "        self.observers.discard(observer)\n",
    "    \n",
    "    def set_subject(self, sub):\n",
    "        self.sub = sub\n",
    "        self.notify()\n",
    "    \n",
    "    def notify(self):\n",
    "        for ob in self.observers:\n",
    "            ob.update(self.sub)\n",
    "        print()\n",
    "\n",
    "class observer_base_class():\n",
    "    def __init__(self):\n",
    "        raise Exception('Cannot instantiate Abstract Base Class ...')\n",
    "\n",
    "    def update(self, sub):\n",
    "        raise Exception('This is an Abstract Method. Define in it in Derived Classes ...')\n",
    "\n",
    "class concrete_observer1(observer_base_class):\n",
    "    def __init__(self):\n",
    "        self.sub = None\n",
    "    \n",
    "    def update(self, sub):\n",
    "        print('concrete observer1 got notified with the sub change from {} to {}'.format(self.sub, sub))\n",
    "        self.sub = sub\n",
    "\n",
    "class concrete_observer2(observer_base_class):\n",
    "    def __init__(self):\n",
    "        self.sub = None\n",
    "    \n",
    "    def update(self, sub):\n",
    "        print('concrete observer2 got notified with the sub change from {} to {}'.format(self.sub, sub))\n",
    "        self.sub = sub\n",
    "\n",
    "s = subject()\n",
    "ob1 = concrete_observer1()\n",
    "s.attach(ob1)\n",
    "s.set_subject(23)\n",
    "ob2 = concrete_observer2()\n",
    "s.attach(ob2)\n",
    "s.set_subject(77)\n",
    "s.detach(ob1)\n",
    "s.set_subject(88)"
   ]
  },
  {
   "cell_type": "code",
   "execution_count": 177,
   "metadata": {},
   "outputs": [
    {
     "name": "stdout",
     "output_type": "stream",
     "text": [
      "In Base class ...\n",
      "In Derived class ...\n",
      "In Derived class ...\n",
      "[[1, 2, 3], [4, 5], [6, 7, [8, 9]]]\n",
      "[[1, 2, 3], [4, 5], [6, 7, [8, 9]]]\n",
      "23\n",
      "[[1, 2, 3], [4, 5], [6, 7, [8, 9]]]\n"
     ]
    }
   ],
   "source": [
    "# Dynamic Binding\n",
    "class base():\n",
    "    def _print_helper(self):\n",
    "        print('In Base class ...')\n",
    "\n",
    "    def print_info(self):\n",
    "        self._print_helper()\n",
    "\n",
    "class derived(base):\n",
    "    def _print_helper(self):\n",
    "        print('In Derived class ...')\n",
    "\n",
    "b = base()\n",
    "d = derived()\n",
    "b.print_info()\n",
    "d.print_info()\n",
    "import copy\n",
    "d1 = copy.deepcopy(d)\n",
    "d1.print_info()\n",
    "l = [[1,2,3],[4,5],[6,7,[8,9]]]\n",
    "l1 = copy.deepcopy(l)\n",
    "print(l)\n",
    "print(l1)\n",
    "l = 23\n",
    "print(l)\n",
    "print(l1)"
   ]
  },
  {
   "cell_type": "code",
   "execution_count": 202,
   "metadata": {},
   "outputs": [
    {
     "name": "stdout",
     "output_type": "stream",
     "text": [
      "In Base class ...\n",
      "In Base class ...\n"
     ]
    }
   ],
   "source": [
    "# Name Mangling\n",
    "class base():\n",
    "    # This will be name mangled to _base__print_helper(self)\n",
    "    def __print_helper(self):\n",
    "        print('In Base class ...')\n",
    "\n",
    "    def print_info(self):\n",
    "        # This will be name mangled to _base__print_helper()\n",
    "        self.__print_helper()\n",
    "\n",
    "class derived(base):\n",
    "    # This will be name mangled to _derived__print_helper(self)\n",
    "    def __print_helper(self):\n",
    "        print('In Derived class ...')\n",
    "\n",
    "b = base()\n",
    "d = derived()\n",
    "b.print_info()\n",
    "d.print_info()"
   ]
  },
  {
   "cell_type": "code",
   "execution_count": 28,
   "metadata": {},
   "outputs": [
    {
     "name": "stdout",
     "output_type": "stream",
     "text": [
      "12\n",
      "12\n",
      "23\n",
      "23\n"
     ]
    }
   ],
   "source": [
    "print(min(23,12))\n",
    "print(min([23,12]))\n",
    "print(max(23,12))\n",
    "print(max([23,12]))"
   ]
  },
  {
   "cell_type": "code",
   "execution_count": 59,
   "metadata": {},
   "outputs": [
    {
     "name": "stdout",
     "output_type": "stream",
     "text": [
      "asenag\n",
      "-1\n",
      "3\n",
      "{'a', 'n', 'e', 'g', 's'}\n",
      "{'a', 'n', 'e', 'g', 's'}\n"
     ]
    },
    {
     "ename": "KeyError",
     "evalue": "'v'",
     "output_type": "error",
     "traceback": [
      "\u001b[1;31m---------------------------------------------------------------------------\u001b[0m",
      "\u001b[1;31mKeyError\u001b[0m                                  Traceback (most recent call last)",
      "\u001b[1;32m<ipython-input-59-a5ae273b5436>\u001b[0m in \u001b[0;36m<module>\u001b[1;34m\u001b[0m\n\u001b[0;32m      7\u001b[0m \u001b[0ms\u001b[0m\u001b[1;33m.\u001b[0m\u001b[0mdiscard\u001b[0m\u001b[1;33m(\u001b[0m\u001b[1;34m'v'\u001b[0m\u001b[1;33m)\u001b[0m\u001b[1;33m\u001b[0m\u001b[1;33m\u001b[0m\u001b[0m\n\u001b[0;32m      8\u001b[0m \u001b[0mprint\u001b[0m\u001b[1;33m(\u001b[0m\u001b[0ms\u001b[0m\u001b[1;33m)\u001b[0m\u001b[1;33m\u001b[0m\u001b[1;33m\u001b[0m\u001b[0m\n\u001b[1;32m----> 9\u001b[1;33m \u001b[0ms\u001b[0m\u001b[1;33m.\u001b[0m\u001b[0mremove\u001b[0m\u001b[1;33m(\u001b[0m\u001b[1;34m'v'\u001b[0m\u001b[1;33m)\u001b[0m\u001b[1;33m\u001b[0m\u001b[1;33m\u001b[0m\u001b[0m\n\u001b[0m",
      "\u001b[1;31mKeyError\u001b[0m: 'v'"
     ]
    }
   ],
   "source": [
    "s = 'ganesa'\n",
    "print(s[-1::-1])\n",
    "print(s.find('asa'))\n",
    "print(s.index('esa'))\n",
    "s = set('ganesa')\n",
    "print(s)\n",
    "s.discard('v')\n",
    "print(s)\n",
    "s.remove('v')"
   ]
  },
  {
   "cell_type": "code",
   "execution_count": 44,
   "metadata": {},
   "outputs": [
    {
     "name": "stdout",
     "output_type": "stream",
     "text": [
      "None\n",
      "0\n",
      "{'abc': 100, 'xyz': 300, 'asf': 0}\n",
      "abc\n",
      "xyz\n"
     ]
    }
   ],
   "source": [
    "d = {'abc': 100, 'xyz': 300}\n",
    "print(d.get('asf'))\n",
    "print(d.setdefault('asf', 0))\n",
    "print(d)\n",
    "d = iter(d)\n",
    "print(next(d))\n",
    "print(next(d))"
   ]
  },
  {
   "cell_type": "code",
   "execution_count": 53,
   "metadata": {},
   "outputs": [
    {
     "name": "stdout",
     "output_type": "stream",
     "text": [
      "deque([10, 20, 30])\n",
      "10\n",
      "deque([2, 20, 30])\n",
      "deque([4, 3, 1, 2, 20, 30])\n"
     ]
    }
   ],
   "source": [
    "from collections import deque\n",
    "d = deque([10,20,30])\n",
    "print(d)\n",
    "print(d.popleft())\n",
    "d.appendleft(2)\n",
    "print(d)\n",
    "d.extendleft([1,3,4])\n",
    "print(d)"
   ]
  },
  {
   "cell_type": "code",
   "execution_count": 64,
   "metadata": {},
   "outputs": [
    {
     "name": "stdout",
     "output_type": "stream",
     "text": [
      "<class 'bool'>\n",
      "False\n"
     ]
    }
   ],
   "source": [
    "b = bool()\n",
    "print(type(b))\n",
    "print(b)"
   ]
  },
  {
   "cell_type": "code",
   "execution_count": 80,
   "metadata": {},
   "outputs": [
    {
     "name": "stdout",
     "output_type": "stream",
     "text": [
      "ganesh is the pratham pujya\n",
      "ganesh is the pratham pujya\n",
      "ganesh is the pratham pujya\n",
      "\n"
     ]
    }
   ],
   "source": [
    "with open('test.txt', 'r+') as fh:\n",
    "    fh.seek(0, 2)\n",
    "    fh.write('ganesh is the pratham pujya\\n')\n",
    "    fh.seek(0,0)\n",
    "    print(fh.read())"
   ]
  },
  {
   "cell_type": "code",
   "execution_count": 242,
   "metadata": {},
   "outputs": [
    {
     "name": "stdout",
     "output_type": "stream",
     "text": [
      "True\n",
      "vinayak is the pratham pujya\n",
      "vinayak is the pratham pujya\n",
      "\n"
     ]
    }
   ],
   "source": [
    "import os\n",
    "#if os.path.exists('trtr.txt'): os.unlink('trtr.txt')\n",
    "print(os.path.exists('trtr.txt'))\n",
    "with open('trtr.txt', 'a') as fa:\n",
    "    fa.write('vinayak is the pratham pujya\\n')\n",
    "with open('trtr.txt', 'r') as fh:\n",
    "    print(fh.read())"
   ]
  },
  {
   "cell_type": "code",
   "execution_count": 96,
   "metadata": {},
   "outputs": [
    {
     "name": "stdout",
     "output_type": "stream",
     "text": [
      "26\n",
      "[(1, 4), (2, 5), (3, 6)]\n",
      "[(1, 2, 3), (4, 5, 6)]\n"
     ]
    }
   ],
   "source": [
    "print(sum((1,2,3), 20))\n",
    "print(list(zip([1,2,3],[4,5,6])))\n",
    "print(list(zip(*list(zip([1,2,3],[4,5,6])))))"
   ]
  },
  {
   "cell_type": "code",
   "execution_count": 109,
   "metadata": {},
   "outputs": [
    {
     "name": "stdout",
     "output_type": "stream",
     "text": [
      "[2, 5, 3, 4, 1]\n",
      "12\n",
      "[2, 20, 2000, 4, 40, 4000, 6, 60, 6000]\n"
     ]
    }
   ],
   "source": [
    "from random import randint, shuffle\n",
    "l = [1,2,3,4,5]\n",
    "shuffle(l)\n",
    "print(l)\n",
    "print(randint(1,20))\n",
    "result = [ x*y for x in [2,4,6] for y in [1,10,1000] ]\n",
    "print(result)"
   ]
  },
  {
   "cell_type": "code",
   "execution_count": 249,
   "metadata": {},
   "outputs": [
    {
     "name": "stdout",
     "output_type": "stream",
     "text": [
      "23\n",
      "123\n",
      "124\n",
      "23\n"
     ]
    }
   ],
   "source": [
    "# Namespaces\n",
    "a = 23\n",
    "def func():\n",
    "    a = 123\n",
    "    def inner_func():\n",
    "        #global a\n",
    "        print(a)\n",
    "        b = a + 1\n",
    "        print(b)\n",
    "    inner_func()\n",
    "\n",
    "print(a)\n",
    "func()\n",
    "print(a)"
   ]
  },
  {
   "cell_type": "code",
   "execution_count": 132,
   "metadata": {},
   "outputs": [
    {
     "name": "stdout",
     "output_type": "stream",
     "text": [
      "abcdefghijklmnopqrstuvwxyz\n",
      "<class 'str'>\n",
      "ABCDEFGHIJKLMNOPQRSTUVWXYZ\n",
      "abcdefghijklmnopqrstuvwxyzABCDEFGHIJKLMNOPQRSTUVWXYZ\n"
     ]
    }
   ],
   "source": [
    "import string\n",
    "print(string.ascii_lowercase)\n",
    "print(type(string.ascii_lowercase))\n",
    "print(string.ascii_uppercase)\n",
    "print(string.ascii_letters)"
   ]
  },
  {
   "cell_type": "code",
   "execution_count": 138,
   "metadata": {},
   "outputs": [
    {
     "name": "stdout",
     "output_type": "stream",
     "text": [
      "1\n"
     ]
    }
   ],
   "source": [
    "from functools import reduce\n",
    "import operator\n",
    "print(reduce(operator.mul, [], 1))"
   ]
  },
  {
   "cell_type": "code",
   "execution_count": 140,
   "metadata": {},
   "outputs": [
    {
     "name": "stdout",
     "output_type": "stream",
     "text": [
      "some text in green\n"
     ]
    }
   ],
   "source": [
    "from colorama import init\n",
    "init()\n",
    "from colorama import Fore\n",
    "print(Fore.GREEN + \"some text in green\")"
   ]
  },
  {
   "cell_type": "code",
   "execution_count": 146,
   "metadata": {},
   "outputs": [
    {
     "name": "stdout",
     "output_type": "stream",
     "text": [
      "ganesh\n",
      "lalithamba\n"
     ]
    }
   ],
   "source": [
    "class A():\n",
    "    class B():\n",
    "        # Class Method .. That's why it is not taking 'self' argument\n",
    "        def myfunc():\n",
    "            print(\"ganesh\")\n",
    "        \n",
    "        def myfunc1(self):\n",
    "            print('lalithamba')\n",
    "\n",
    "A.B.myfunc()\n",
    "obj = A.B()\n",
    "obj.myfunc1()"
   ]
  },
  {
   "cell_type": "code",
   "execution_count": 201,
   "metadata": {},
   "outputs": [
    {
     "name": "stdout",
     "output_type": "stream",
     "text": [
      "20\n",
      "30\n",
      "40\n",
      "40\n"
     ]
    },
    {
     "ename": "AttributeError",
     "evalue": "'der' object has no attribute '_der__c'",
     "output_type": "error",
     "traceback": [
      "\u001b[1;31m---------------------------------------------------------------------------\u001b[0m",
      "\u001b[1;31mAttributeError\u001b[0m                            Traceback (most recent call last)",
      "\u001b[1;32m<ipython-input-201-e32b6669ae89>\u001b[0m in \u001b[0;36m<module>\u001b[1;34m\u001b[0m\n\u001b[0;32m     19\u001b[0m \u001b[0md\u001b[0m\u001b[1;33m.\u001b[0m\u001b[0mprint_\u001b[0m\u001b[1;33m(\u001b[0m\u001b[1;33m)\u001b[0m\u001b[1;33m\u001b[0m\u001b[1;33m\u001b[0m\u001b[0m\n\u001b[0;32m     20\u001b[0m \u001b[0mprint\u001b[0m\u001b[1;33m(\u001b[0m\u001b[0md\u001b[0m\u001b[1;33m.\u001b[0m\u001b[0m_base__c\u001b[0m\u001b[1;33m)\u001b[0m\u001b[1;33m\u001b[0m\u001b[1;33m\u001b[0m\u001b[0m\n\u001b[1;32m---> 21\u001b[1;33m \u001b[0mprint\u001b[0m\u001b[1;33m(\u001b[0m\u001b[0md\u001b[0m\u001b[1;33m.\u001b[0m\u001b[0m_der__c\u001b[0m\u001b[1;33m)\u001b[0m\u001b[1;33m\u001b[0m\u001b[1;33m\u001b[0m\u001b[0m\n\u001b[0m",
      "\u001b[1;31mAttributeError\u001b[0m: 'der' object has no attribute '_der__c'"
     ]
    }
   ],
   "source": [
    "# Name Mangling - playing with data\n",
    "class base():\n",
    "    def __init__(self):\n",
    "        self.a = 20\n",
    "        self._b = 30\n",
    "        # __c will be name mangled before runtime as _base__c\n",
    "        self.__c = 40\n",
    "    \n",
    "    def print_(self):\n",
    "        print(self.a)\n",
    "        print(self._b)\n",
    "        # This is converted by interpreter as self._base__c before runtime\n",
    "        # So, even though you call this method with derived object, it will print __c value of base\n",
    "        print(self.__c)\n",
    "\n",
    "class der(base):\n",
    "    pass\n",
    "\n",
    "b = base()\n",
    "d = der()\n",
    "d.print_()\n",
    "print(d._base__c)\n",
    "print(d._der__c)"
   ]
  },
  {
   "cell_type": "code",
   "execution_count": 220,
   "metadata": {},
   "outputs": [
    {
     "name": "stdout",
     "output_type": "stream",
     "text": [
      "In Base class ...\n",
      "In Base class ...\n",
      "In Base class ...\n",
      "In Derived class ...\n",
      "vinayak\n",
      "vinayak\n",
      "vinayak\n",
      "vinayak\n"
     ]
    },
    {
     "ename": "AttributeError",
     "evalue": "'derived' object has no attribute '_derived__ghi'",
     "output_type": "error",
     "traceback": [
      "\u001b[1;31m---------------------------------------------------------------------------\u001b[0m",
      "\u001b[1;31mAttributeError\u001b[0m                            Traceback (most recent call last)",
      "\u001b[1;32m<ipython-input-220-3e65a97f4253>\u001b[0m in \u001b[0;36m<module>\u001b[1;34m\u001b[0m\n\u001b[0;32m     26\u001b[0m \u001b[0mprint\u001b[0m\u001b[1;33m(\u001b[0m\u001b[0mbase\u001b[0m\u001b[1;33m.\u001b[0m\u001b[0m_base__ghi\u001b[0m\u001b[1;33m)\u001b[0m\u001b[1;33m\u001b[0m\u001b[1;33m\u001b[0m\u001b[0m\n\u001b[0;32m     27\u001b[0m \u001b[0mprint\u001b[0m\u001b[1;33m(\u001b[0m\u001b[0mderived\u001b[0m\u001b[1;33m.\u001b[0m\u001b[0m_base__ghi\u001b[0m\u001b[1;33m)\u001b[0m\u001b[1;33m\u001b[0m\u001b[1;33m\u001b[0m\u001b[0m\n\u001b[1;32m---> 28\u001b[1;33m \u001b[0mprint\u001b[0m\u001b[1;33m(\u001b[0m\u001b[0md\u001b[0m\u001b[1;33m.\u001b[0m\u001b[0m_derived__ghi\u001b[0m\u001b[1;33m)\u001b[0m\u001b[1;33m\u001b[0m\u001b[1;33m\u001b[0m\u001b[0m\n\u001b[0m",
      "\u001b[1;31mAttributeError\u001b[0m: 'derived' object has no attribute '_derived__ghi'"
     ]
    }
   ],
   "source": [
    "# Name Mangling - Playing with methods\n",
    "class base():\n",
    "    # This will be name mangled to _base__ghi and this will be reflected in derived objects as _base__ghi\n",
    "    __ghi = 'vinayak'\n",
    "    # This will be name mangled to _base__print_helper(self) before runtime\n",
    "    def __print_helper(self):\n",
    "        print('In Base class ...')\n",
    "\n",
    "    def print_info(self):\n",
    "        # This will be name mangled to _base__print_helper() before runtime\n",
    "        self.__print_helper()\n",
    "\n",
    "class derived(base):\n",
    "    # This will be name mangled to _derived__print_helper(self)\n",
    "    def __print_helper(self):\n",
    "        print('In Derived class ...')\n",
    "\n",
    "b = base()\n",
    "d = derived()\n",
    "b.print_info()\n",
    "d.print_info()\n",
    "d._base__print_helper()\n",
    "d._derived__print_helper()\n",
    "print(b._base__ghi)\n",
    "print(d._base__ghi)\n",
    "print(base._base__ghi)\n",
    "print(derived._base__ghi)\n",
    "print(d._derived__ghi)"
   ]
  },
  {
   "cell_type": "code",
   "execution_count": 234,
   "metadata": {},
   "outputs": [
    {
     "name": "stdout",
     "output_type": "stream",
     "text": [
      "14930352\n",
      "CacheInfo(hits=34, misses=37, maxsize=128, currsize=37)\n",
      "1.5110126696527004e-06\n"
     ]
    }
   ],
   "source": [
    "# Memoization\n",
    "import functools\n",
    "\n",
    "@functools.lru_cache(maxsize=128)\n",
    "def fibonacci(n):\n",
    "    if n == 0:\n",
    "        return 0\n",
    "    elif n == 1:\n",
    "        return 1\n",
    "    return fibonacci(n - 1) + fibonacci(n - 2)\n",
    "\n",
    "print(fibonacci(36))\n",
    "print(fibonacci.cache_info())\n",
    "import timeit\n",
    "print(timeit.timeit('fibonacci(35)', setup='from __main__ import fibonacci', number = 1))"
   ]
  },
  {
   "cell_type": "code",
   "execution_count": 236,
   "metadata": {},
   "outputs": [
    {
     "name": "stdout",
     "output_type": "stream",
     "text": [
      "28657\n",
      "CacheInfo(hits=37, misses=37, maxsize=128, currsize=37)\n"
     ]
    }
   ],
   "source": [
    "print(fibonacci(23))\n",
    "print(fibonacci.cache_info())"
   ]
  },
  {
   "cell_type": "code",
   "execution_count": 239,
   "metadata": {},
   "outputs": [
    {
     "name": "stdout",
     "output_type": "stream",
     "text": [
      "1.5100231394171715e-06\n"
     ]
    }
   ],
   "source": [
    "print(timeit.timeit('fibonacci(12)', setup='from __main__ import fibonacci', number = 1))"
   ]
  },
  {
   "cell_type": "code",
   "execution_count": 240,
   "metadata": {},
   "outputs": [
    {
     "name": "stdout",
     "output_type": "stream",
     "text": [
      "CacheInfo(hits=39, misses=37, maxsize=128, currsize=37)\n"
     ]
    }
   ],
   "source": [
    "print(fibonacci.cache_info())"
   ]
  },
  {
   "cell_type": "code",
   "execution_count": 252,
   "metadata": {},
   "outputs": [
    {
     "name": "stdout",
     "output_type": "stream",
     "text": [
      "<class 'generator'>\n",
      "0\n",
      "1\n",
      "2\n"
     ]
    }
   ],
   "source": [
    "# Generator Comprehensions\n",
    "g = (item for item in range(5))\n",
    "print(type(g))\n",
    "print(next(g))\n",
    "print(next(g))\n",
    "print(next(g))"
   ]
  },
  {
   "cell_type": "code",
   "execution_count": 258,
   "metadata": {},
   "outputs": [
    {
     "name": "stdout",
     "output_type": "stream",
     "text": [
      "[(1, 3), (4, 3), (2, 2), (3, 1)]\n",
      "[(3, 1)]\n"
     ]
    }
   ],
   "source": [
    "from collections import Counter\n",
    "l = [1,1,1,2,2,4,4,4,3]\n",
    "c = Counter(l)\n",
    "print(c.most_common())\n",
    "print(c.most_common()[:-2:-1])"
   ]
  },
  {
   "cell_type": "code",
   "execution_count": 264,
   "metadata": {},
   "outputs": [
    {
     "name": "stdout",
     "output_type": "stream",
     "text": [
      "45\n",
      "[]\n",
      "defaultdict(<function <lambda> at 0x000001F791B326A8>, {'abc': 45, 'bc': []})\n"
     ]
    }
   ],
   "source": [
    "from collections import defaultdict\n",
    "d = defaultdict(lambda: [])\n",
    "d['abc'] = 45\n",
    "print(d['abc'])\n",
    "print(d['bc'])\n",
    "print(d)"
   ]
  },
  {
   "cell_type": "code",
   "execution_count": 266,
   "metadata": {},
   "outputs": [
    {
     "name": "stdout",
     "output_type": "stream",
     "text": [
      "<class 'str'>\n",
      "<class 'bytes'>\n",
      "<class 'str'>\n",
      "ganesa\n"
     ]
    }
   ],
   "source": [
    "s = 'ganesa'\n",
    "print(type(s))\n",
    "sb = s.encode('ascii')\n",
    "print(type(sb))\n",
    "s = sb.decode('ascii')\n",
    "print(type(s))\n",
    "print(s)"
   ]
  },
  {
   "cell_type": "code",
   "execution_count": 284,
   "metadata": {},
   "outputs": [
    {
     "name": "stdout",
     "output_type": "stream",
     "text": [
      "ganesh is the pratham pujya\n",
      "Lalithamba is my guide\n",
      "ganesh is the pratham pujya\n",
      "<class 'bytes'>\n",
      "b'ganesh is the pratham pujya'\n",
      "b'ganesh is the pratham pujya\\nlalithamba'\n",
      "<class 'str'>\n",
      "ganesh is the pratham pujya\n",
      "lalithamba\n"
     ]
    }
   ],
   "source": [
    "import io\n",
    "s = 'ganesh is the pratham pujya'\n",
    "fh = io.StringIO(s)\n",
    "fh.seek(0, 2)\n",
    "fh.write('\\nLalithamba is my guide')\n",
    "fh.seek(0,0)\n",
    "print(fh.read())\n",
    "io.StringIO.close(fh)\n",
    "print(s)\n",
    "\n",
    "b = s.encode('ascii')\n",
    "print(type(b))\n",
    "print(b)\n",
    "fb = io.BytesIO(b)\n",
    "fb.seek(0, 2)\n",
    "fb.write(b'\\nlalithamba')\n",
    "fb.seek(0,0)\n",
    "print(fb.read())\n",
    "fb.seek(0,0)\n",
    "s = fb.read().decode('ascii')\n",
    "io.BytesIO.close(fb)\n",
    "print(type(s))\n",
    "print(s)"
   ]
  },
  {
   "cell_type": "code",
   "execution_count": 277,
   "metadata": {},
   "outputs": [
    {
     "name": "stdout",
     "output_type": "stream",
     "text": [
      "<class 'list'>\n",
      "[1, 2, 3]\n",
      "<class 'str'>\n",
      "[1, 2, 3]\n",
      "<class 'list'>\n",
      "[1, 2, 3]\n",
      "True\n",
      "True\n"
     ]
    }
   ],
   "source": [
    "import json\n",
    "l = [1,2,3]\n",
    "print(type(l))\n",
    "print(l)\n",
    "s = json.dumps(l)\n",
    "print(type(s))\n",
    "print(s)\n",
    "l1 = json.loads(s)\n",
    "print(type(l1))\n",
    "print(l1)\n",
    "print(l == l1)\n",
    "d = {'abc': 123, 'def': 456}\n",
    "d1 = {'def': 456, 'abc': 123}\n",
    "print(d == d1)"
   ]
  },
  {
   "cell_type": "code",
   "execution_count": 289,
   "metadata": {},
   "outputs": [
    {
     "name": "stdout",
     "output_type": "stream",
     "text": [
      "123\n"
     ]
    }
   ],
   "source": [
    "print(int(hex(123), base=16))"
   ]
  },
  {
   "cell_type": "code",
   "execution_count": 299,
   "metadata": {},
   "outputs": [
    {
     "name": "stdout",
     "output_type": "stream",
     "text": [
      "1\n",
      "8\n",
      "('HE', 'LL', 'O')\n",
      "['HE', 'O']\n"
     ]
    }
   ],
   "source": [
    "s = 'he is a good man. he is also a great character'\n",
    "print(s.count('good'))\n",
    "print(s.find('good'))\n",
    "print('HELLO'.partition('LL'))\n",
    "print('HELLO'.split('LL'))"
   ]
  },
  {
   "cell_type": "code",
   "execution_count": null,
   "metadata": {},
   "outputs": [],
   "source": []
  }
 ],
 "metadata": {
  "kernelspec": {
   "display_name": "Python 3",
   "language": "python",
   "name": "python3"
  },
  "language_info": {
   "codemirror_mode": {
    "name": "ipython",
    "version": 3
   },
   "file_extension": ".py",
   "mimetype": "text/x-python",
   "name": "python",
   "nbconvert_exporter": "python",
   "pygments_lexer": "ipython3",
   "version": "3.7.3"
  }
 },
 "nbformat": 4,
 "nbformat_minor": 2
}
