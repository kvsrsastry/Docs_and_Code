{
 "cells": [
  {
   "cell_type": "code",
   "execution_count": 1,
   "metadata": {},
   "outputs": [],
   "source": [
    "#omgamganapathayenamaha\n",
    "#omgamganapathayenamaha\n",
    "#omgamganapathayenamaha\n",
    "#omgamganapathayenamaha"
   ]
  },
  {
   "cell_type": "code",
   "execution_count": 4,
   "metadata": {},
   "outputs": [
    {
     "name": "stdout",
     "output_type": "stream",
     "text": [
      "Moving disk 1 from a to c\n",
      "Moving disk 2 from a to b\n",
      "Moving disk 1 from c to b\n",
      "Moving disk 3 from a to c\n",
      "Moving disk 1 from b to a\n",
      "Moving disk 2 from b to c\n",
      "Moving disk 1 from a to c\n"
     ]
    }
   ],
   "source": [
    "# Towers of Hanoi\n",
    "# 3 Towers, n disks\n",
    "# T(n) = 2 * T(n-1) + c\n",
    "# O(2 ^ n)\n",
    "def toh(n, a, b, c):\n",
    "    if n > 0:\n",
    "        toh(n-1, a, c, b)\n",
    "        print('Moving disk {} from {} to {}'.format(n, a, c))\n",
    "        toh(n-1, b, a, c)\n",
    "toh(3, 'a', 'b', 'c')"
   ]
  },
  {
   "cell_type": "code",
   "execution_count": 22,
   "metadata": {},
   "outputs": [
    {
     "name": "stdout",
     "output_type": "stream",
     "text": [
      "['0000', '0001', '0010', '0011', '0100', '0101', '0110', '0111', '1000', '1001', '1010', '1011', '1100', '1101', '1110', '1111']\n"
     ]
    }
   ],
   "source": [
    "# Generating Binary Strings of length 'n'\n",
    "# T(n) = 2 * T(n-1) + c\n",
    "# O(2 ^ n)\n",
    "def gen_bin_strings(n):\n",
    "    if n <= 0:\n",
    "        return []\n",
    "    elif n == 1:\n",
    "        return ['0', '1']\n",
    "    else:\n",
    "        l = []\n",
    "        for k in ['0', '1']:\n",
    "            for ele in gen_bin_strings(n-1):\n",
    "                l.append(k + ele)\n",
    "        return l\n",
    "n = 4\n",
    "print(gen_bin_strings(n))"
   ]
  },
  {
   "cell_type": "code",
   "execution_count": 27,
   "metadata": {},
   "outputs": [
    {
     "name": "stdout",
     "output_type": "stream",
     "text": [
      "27\n",
      "['000', '001', '002', '010', '011', '012', '020', '021', '022', '100', '101', '102', '110', '111', '112', '120', '121', '122', '200', '201', '202', '210', '211', '212', '220', '221', '222']\n"
     ]
    }
   ],
   "source": [
    "# Generating k-ary Strings\n",
    "# T(n) = k * T(n-1) + c\n",
    "# O(k ^ n)\n",
    "def gen_kary_strings(n, k):\n",
    "    if n <= 0:\n",
    "        return []\n",
    "    elif n == 1:\n",
    "        return [ele for ele in k]\n",
    "    else:\n",
    "        l = []\n",
    "        for ele in k:\n",
    "            for item in gen_kary_strings(n-1, k):\n",
    "                l.append(ele + item)\n",
    "        return l\n",
    "\n",
    "k = ['0', '1', '2']\n",
    "n = 3\n",
    "res = gen_kary_strings(n, k)\n",
    "print(len(res))\n",
    "print(res)"
   ]
  },
  {
   "cell_type": "code",
   "execution_count": 43,
   "metadata": {},
   "outputs": [
    {
     "name": "stdout",
     "output_type": "stream",
     "text": [
      "120\n",
      "['abcde', 'abced', 'abdce', 'abdec', 'abedc', 'abecd', 'acbde', 'acbed', 'acdbe', 'acdeb', 'acedb', 'acebd', 'adcbe', 'adceb', 'adbce', 'adbec', 'adebc', 'adecb', 'aecdb', 'aecbd', 'aedcb', 'aedbc', 'aebdc', 'aebcd', 'bacde', 'baced', 'badce', 'badec', 'baedc', 'baecd', 'bcade', 'bcaed', 'bcdae', 'bcdea', 'bceda', 'bcead', 'bdcae', 'bdcea', 'bdace', 'bdaec', 'bdeac', 'bdeca', 'becda', 'becad', 'bedca', 'bedac', 'beadc', 'beacd', 'cbade', 'cbaed', 'cbdae', 'cbdea', 'cbeda', 'cbead', 'cabde', 'cabed', 'cadbe', 'cadeb', 'caedb', 'caebd', 'cdabe', 'cdaeb', 'cdbae', 'cdbea', 'cdeba', 'cdeab', 'ceadb', 'ceabd', 'cedab', 'cedba', 'cebda', 'cebad', 'dbcae', 'dbcea', 'dbace', 'dbaec', 'dbeac', 'dbeca', 'dcbae', 'dcbea', 'dcabe', 'dcaeb', 'dceab', 'dceba', 'dacbe', 'daceb', 'dabce', 'dabec', 'daebc', 'daecb', 'decab', 'decba', 'deacb', 'deabc', 'debac', 'debca', 'ebcda', 'ebcad', 'ebdca', 'ebdac', 'ebadc', 'ebacd', 'ecbda', 'ecbad', 'ecdba', 'ecdab', 'ecadb', 'ecabd', 'edcba', 'edcab', 'edbca', 'edbac', 'edabc', 'edacb', 'eacdb', 'eacbd', 'eadcb', 'eadbc', 'eabdc', 'eabcd']\n"
     ]
    }
   ],
   "source": [
    "# Permutations of a String\n",
    "# npn = (n!) / (n-n)! = n!\n",
    "# O(n!)\n",
    "def perm_helper(a, i, n):\n",
    "    if i == n:\n",
    "        res.append(''.join(a))\n",
    "    else:\n",
    "        for k in range(i, n):\n",
    "            a[k], a[i] = a[i], a[k]\n",
    "            perm_helper(a, i+1, n)\n",
    "            a[k], a[i] = a[i], a[k]\n",
    "\n",
    "def perm(a):\n",
    "    i = 0\n",
    "    n = len(a)\n",
    "    a = list(a)\n",
    "    perm_helper(a, i, n)\n",
    "\n",
    "a = 'abcde'\n",
    "res = []\n",
    "perm(a)\n",
    "print(len(res))\n",
    "print(res)"
   ]
  },
  {
   "cell_type": "code",
   "execution_count": 51,
   "metadata": {},
   "outputs": [
    {
     "name": "stdout",
     "output_type": "stream",
     "text": [
      "3\n",
      "['a', 'b', 'c']\n",
      "3\n",
      "['c', 'b', 'a']\n"
     ]
    }
   ],
   "source": [
    "# Permutations of a String\n",
    "# npr = (n!) / (n-r)!\n",
    "# O( (n!)/(n-r)! )\n",
    "def perm_helper(a, i, n, r):\n",
    "    if i == r:\n",
    "        res.append(''.join(a[:r]))\n",
    "    else:\n",
    "        for k in range(i, n):\n",
    "            a[k], a[i] = a[i], a[k]\n",
    "            perm_helper(a, i+1, n, r)\n",
    "            a[k], a[i] = a[i], a[k]\n",
    "\n",
    "def perm(a, r):\n",
    "    i = 0\n",
    "    n = len(a)\n",
    "    a = list(a)\n",
    "    perm_helper(a, i, n, r)\n",
    "\n",
    "a = 'abc'\n",
    "r = 1\n",
    "res = []\n",
    "perm(a, r)\n",
    "print(len(res))\n",
    "print(res)\n",
    "res = list(set(res))\n",
    "print(len(res))\n",
    "print(res)"
   ]
  },
  {
   "cell_type": "code",
   "execution_count": 61,
   "metadata": {},
   "outputs": [
    {
     "name": "stdout",
     "output_type": "stream",
     "text": [
      "15\n",
      "['a', 'ab', 'abc', 'abcd', 'abd', 'ac', 'acd', 'ad', 'b', 'bc', 'bcd', 'bd', 'c', 'cd', 'd']\n"
     ]
    }
   ],
   "source": [
    "# Combinations of a String\n",
    "# ncr = (n!) / ((r!) * (n-r)!)\n",
    "# nc1 + nc2 + nc3 + ... + ncn = (2 ^ n) - 1\n",
    "# O(2 ^ n)\n",
    "def comb_helper(a, s, idx):\n",
    "    for i in range(idx, len(a)):\n",
    "        s = s + a[i]\n",
    "        res.append(s)\n",
    "        comb_helper(a, s, i+1)\n",
    "        s = s[0:-1]\n",
    "\n",
    "def comb(a):\n",
    "    comb_helper(a, '', 0)\n",
    "\n",
    "a = 'abcd'\n",
    "res = []\n",
    "comb(a)\n",
    "print(len(res))\n",
    "print(res)"
   ]
  },
  {
   "cell_type": "code",
   "execution_count": 66,
   "metadata": {},
   "outputs": [
    {
     "name": "stdout",
     "output_type": "stream",
     "text": [
      "3\n",
      "['ab', 'ac', 'bc']\n"
     ]
    }
   ],
   "source": [
    "# Combinations of a String\n",
    "# ncr = (n!) / ((r!) * (n-r)!)\n",
    "# O((n!) / ((r!) * (n-r)!))\n",
    "def comb_helper(a, s, idx, r):\n",
    "    for i in range(idx, len(a)):\n",
    "        s = s + a[i]\n",
    "        if(len(s) == r): res.append(s)\n",
    "        comb_helper(a, s, i+1, r)\n",
    "        s = s[0:-1]\n",
    "\n",
    "def comb(a, r):\n",
    "    comb_helper(a, '', 0, r)\n",
    "\n",
    "a = 'abc'\n",
    "r = 2\n",
    "res = []\n",
    "comb(a, r)\n",
    "print(len(res))\n",
    "print(res)"
   ]
  },
  {
   "cell_type": "code",
   "execution_count": 70,
   "metadata": {},
   "outputs": [
    {
     "name": "stdout",
     "output_type": "stream",
     "text": [
      "2\n",
      "-1\n"
     ]
    }
   ],
   "source": [
    "# Linear Search\n",
    "# O(n)\n",
    "def linear_search(a, item):\n",
    "    for i in range(0, len(a)):\n",
    "        if a[i] == item:\n",
    "            return i\n",
    "    return -1\n",
    "\n",
    "a = [5,2,4,3,1]\n",
    "print(linear_search(a, 4))\n",
    "print(linear_search(a, 33))"
   ]
  },
  {
   "cell_type": "code",
   "execution_count": 75,
   "metadata": {},
   "outputs": [
    {
     "name": "stdout",
     "output_type": "stream",
     "text": [
      "3\n",
      "-1\n",
      "-1\n",
      "0\n",
      "4\n"
     ]
    }
   ],
   "source": [
    "# Binary Search - Iterative\n",
    "# O(log n)\n",
    "def binary_search(a, item):\n",
    "    low = 0\n",
    "    high = len(a) - 1\n",
    "    while(low <= high):\n",
    "        mid = (low + high) // 2\n",
    "        if a[mid] == item:\n",
    "            return mid\n",
    "        elif item < a[mid]:\n",
    "            high = mid - 1\n",
    "        else:\n",
    "            low = mid + 1\n",
    "    return -1\n",
    "\n",
    "a = [1,2,3,4,5]\n",
    "print(binary_search(a, 4))\n",
    "print(binary_search(a, 44))\n",
    "print(binary_search(a, -4))\n",
    "print(binary_search(a, 1))\n",
    "print(binary_search(a, 5))"
   ]
  },
  {
   "cell_type": "code",
   "execution_count": 79,
   "metadata": {},
   "outputs": [
    {
     "name": "stdout",
     "output_type": "stream",
     "text": [
      "3\n",
      "-1\n",
      "-1\n",
      "0\n",
      "4\n"
     ]
    }
   ],
   "source": [
    "# Binary Search - Recursive\n",
    "# O(log n)\n",
    "def binary_search_recursive_helper(a, low, high, item):\n",
    "    if low <= high:\n",
    "        mid = (low + high) // 2\n",
    "        if a[mid] == item:\n",
    "            return mid\n",
    "        elif item < a[mid]:\n",
    "            return binary_search_recursive_helper(a, low, mid - 1, item)\n",
    "        else:\n",
    "            return binary_search_recursive_helper(a, mid + 1, high, item)\n",
    "    else:\n",
    "        return -1\n",
    "\n",
    "def binary_search_recursive(a, item):\n",
    "    return binary_search_recursive_helper(a, 0, len(a) - 1, item)\n",
    "\n",
    "a = [1,2,3,4,5]\n",
    "print(binary_search_recursive(a, 4))\n",
    "print(binary_search_recursive(a, 44))\n",
    "print(binary_search_recursive(a, -4))\n",
    "print(binary_search_recursive(a, 1))\n",
    "print(binary_search_recursive(a, 5))"
   ]
  },
  {
   "cell_type": "code",
   "execution_count": 89,
   "metadata": {},
   "outputs": [
    {
     "name": "stdout",
     "output_type": "stream",
     "text": [
      "1024\n",
      "59049\n",
      "1024\n"
     ]
    }
   ],
   "source": [
    "# Power\n",
    "# power_optimized = O(log n)\n",
    "# power = O(n)\n",
    "def power_optimized(k, n):\n",
    "    if n == 0: return 1\n",
    "    x = power_optimized(k, n // 2)\n",
    "    if n % 2 == 1: return x * x * k\n",
    "    else: return x * x\n",
    "\n",
    "def power(k, n):\n",
    "    prod = 1\n",
    "    for i in range(n):\n",
    "        prod = prod * k\n",
    "    return prod\n",
    "\n",
    "print(power(2, 10))\n",
    "print(power_optimized(3, 10))\n",
    "print(power_optimized(2, 10))"
   ]
  },
  {
   "cell_type": "code",
   "execution_count": 90,
   "metadata": {},
   "outputs": [],
   "source": [
    "# Node Class\n",
    "class node():\n",
    "    def __init__(self, data=None, nxt=None):\n",
    "        self.data = data\n",
    "        self.next = nxt\n",
    "    def set_data(self, data):\n",
    "        self.data = data\n",
    "    def set_next(self, nxt):\n",
    "        self.nxt = nxt\n",
    "    def get_data(self):\n",
    "        return self.data\n",
    "    def get_next(self):\n",
    "        return self.nxt"
   ]
  },
  {
   "cell_type": "code",
   "execution_count": 115,
   "metadata": {},
   "outputs": [
    {
     "name": "stdout",
     "output_type": "stream",
     "text": [
      "1\t\n",
      "1\t2\t\n",
      "1\t2\t3\t\n",
      "1\t2\t3\t4\t\n",
      "0\t1\t2\t3\t4\t\n",
      "0\t1\t2\t33\t3\t4\t\n",
      "0\t1\t2\t33\t3\t4\t55\t\n",
      "0\t1\t2\t33\t4\t55\t\n",
      "1\t2\t33\t4\t55\t\n",
      "1\t2\t33\t4\t\n"
     ]
    }
   ],
   "source": [
    "# Singly Linked List\n",
    "class sll():\n",
    "    def __init__(self, head=None):\n",
    "        self.head = head\n",
    "    def insert_at_beg(self, data):\n",
    "        nnode = node(data)\n",
    "        nnode.set_next(self.head)\n",
    "        self.head = nnode\n",
    "    def insert_at_end(self, data):\n",
    "        if self.head == None:\n",
    "            self.insert_at_beg(data)\n",
    "        else:\n",
    "            tmp = self.head\n",
    "            while(tmp.get_next() != None):\n",
    "                tmp = tmp.get_next()\n",
    "            nnode = node(data)\n",
    "            tmp.set_next(nnode)\n",
    "    def insert(self, pos, data):\n",
    "        if pos < 0:\n",
    "            return\n",
    "        elif pos == 0:\n",
    "            self.insert_at_beg(data)\n",
    "        else:\n",
    "            cnt = 0\n",
    "            tmp = self.head\n",
    "            while cnt < pos - 1:\n",
    "                if tmp != None:\n",
    "                    tmp = tmp.get_next()\n",
    "                else:\n",
    "                    break\n",
    "                cnt += 1\n",
    "            if tmp == None:\n",
    "                print('SLL Out of Index ... Cannot insert at pos {}'.format(pos))\n",
    "                return\n",
    "            else:\n",
    "                nnode = node(data)\n",
    "                nnode.set_next(tmp.get_next())\n",
    "                tmp.set_next(nnode)\n",
    "    def delete_at_beg(self):\n",
    "        self.head\n",
    "        if self.head == None:\n",
    "            print('SLL Index Error ... Cannot delete')\n",
    "        else:\n",
    "            self.head = self.head.get_next() # First node will be garbage collected as there are no references\n",
    "    def delete(self, pos):\n",
    "        if pos < 0:\n",
    "            print('Position cannot be Negative')\n",
    "            return\n",
    "        elif pos == 0:\n",
    "            self.delete_at_beg()\n",
    "        else:\n",
    "            cnt = 0\n",
    "            tmp = self.head\n",
    "            while(cnt < pos - 1):\n",
    "                if tmp != None:\n",
    "                    tmp = tmp.get_next()\n",
    "                else:\n",
    "                    print('SLL Index Error')\n",
    "                    return\n",
    "                cnt += 1\n",
    "            node_tobe = tmp.get_next()\n",
    "            if node_tobe == None:\n",
    "                print('SLL Index Error')\n",
    "                return\n",
    "            else:\n",
    "                tmp.set_next(tmp.get_next().get_next())\n",
    "                \n",
    "    def print_sll(self):\n",
    "        tmp = self.head\n",
    "        while(tmp != None):\n",
    "            print(tmp.get_data(), end = '\\t')\n",
    "            tmp = tmp.get_next()\n",
    "        print()\n",
    "\n",
    "list1 = sll()\n",
    "for i in range(1,5):\n",
    "    list1.insert(i-1, i)\n",
    "    list1.print_sll()\n",
    "list1.insert(0, 0)\n",
    "list1.print_sll()\n",
    "list1.insert(3, 33)\n",
    "list1.print_sll()\n",
    "list1.insert(6, 55)\n",
    "list1.print_sll()\n",
    "list1.delete(4)\n",
    "list1.print_sll()\n",
    "list1.delete(0)\n",
    "list1.print_sll()\n",
    "list1.delete(4)\n",
    "list1.print_sll()"
   ]
  },
  {
   "cell_type": "code",
   "execution_count": 120,
   "metadata": {},
   "outputs": [
    {
     "name": "stdout",
     "output_type": "stream",
     "text": [
      "Stack Empty\n",
      "11\n",
      "11\n",
      "22\n",
      "22\n",
      "33\n",
      "33\n",
      "Stack Empty\n",
      "None\n",
      "True\n"
     ]
    }
   ],
   "source": [
    "# Stack\n",
    "class stack():\n",
    "    def __init__(self, head=None):\n",
    "        self.head=head\n",
    "    def push(self,data):\n",
    "        nnode = node(data)\n",
    "        nnode.set_next(self.head)\n",
    "        self.head = nnode\n",
    "    def pop(self):\n",
    "        if self.head == None:\n",
    "            print('Stack Empty')\n",
    "            return None\n",
    "        else:\n",
    "            dat = self.head.get_data()\n",
    "            self.head = self.head.get_next()\n",
    "            return dat\n",
    "    def top(self):\n",
    "        if self.head == None:\n",
    "            print('Stack Empty')\n",
    "            return None\n",
    "        else:\n",
    "            return self.head.get_data()\n",
    "    def is_empty(self):\n",
    "        return self.head == None\n",
    "\n",
    "s = stack()\n",
    "s.pop()\n",
    "s.push(33)\n",
    "s.push(22)\n",
    "s.push(11)\n",
    "print(s.top())\n",
    "print(s.pop())\n",
    "print(s.top())\n",
    "print(s.pop())\n",
    "print(s.top())\n",
    "print(s.pop())\n",
    "print(s.pop())\n",
    "print(s.is_empty())"
   ]
  },
  {
   "cell_type": "code",
   "execution_count": 122,
   "metadata": {},
   "outputs": [
    {
     "name": "stdout",
     "output_type": "stream",
     "text": [
      "Queue Empty\n",
      "11\n",
      "33\n",
      "22\n",
      "True\n"
     ]
    }
   ],
   "source": [
    "# Queue\n",
    "class queue():\n",
    "    def __init__(self, front=None, rear=None):\n",
    "        self.front = front\n",
    "        self.rear = rear\n",
    "    def enqueue(self, data):\n",
    "        nnode = node(data)\n",
    "        if self.front == None:\n",
    "            self.front = self.rear = nnode\n",
    "        else:\n",
    "            self.front.set_next(nnode)\n",
    "            self.front = nnode\n",
    "    def dequeue(self):\n",
    "        if self.front == None:\n",
    "            print('Queue Empty')\n",
    "            return None\n",
    "        else:\n",
    "            dat = self.rear.get_data()\n",
    "            if self.front == self.rear:\n",
    "                self.front = self.resr = None\n",
    "            else:\n",
    "                self.rear = self.rear.get_next()\n",
    "            return dat\n",
    "    def is_empty(self):\n",
    "        return self.front == None\n",
    "\n",
    "q = queue()\n",
    "q.dequeue()\n",
    "q.enqueue(11)\n",
    "q.enqueue(33)\n",
    "q.enqueue(22)\n",
    "while(not q.is_empty()):\n",
    "    print(q.dequeue())\n",
    "print(q.is_empty())"
   ]
  },
  {
   "cell_type": "code",
   "execution_count": 2,
   "metadata": {},
   "outputs": [
    {
     "name": "stdout",
     "output_type": "stream",
     "text": [
      "3\n",
      "100\n",
      "200\n",
      "300\n",
      "True\n"
     ]
    }
   ],
   "source": [
    "# Python Queue Class\n",
    "from queue import Queue\n",
    "q = Queue()\n",
    "q.put(100)\n",
    "q.put(200)\n",
    "q.put(300)\n",
    "print(q.qsize())\n",
    "while(not q.empty()):\n",
    "    print(q.get())\n",
    "print(q.empty())"
   ]
  },
  {
   "cell_type": "code",
   "execution_count": 13,
   "metadata": {},
   "outputs": [
    {
     "name": "stdout",
     "output_type": "stream",
     "text": [
      "11\n",
      "[10, 22, 33]\n",
      "[99, 88, 77]\n"
     ]
    }
   ],
   "source": [
    "# Python Heap Class - MIN HEAP\n",
    "import heapq\n",
    "l = [33,22,44,88,99,11,77]\n",
    "heapq.heapify(l)       # Build Min-Heap in O(n)\n",
    "print(heapq.heappop(l)) # Delete Min element in O(log n)\n",
    "heapq.heappush(l, 10)\n",
    "print(heapq.nsmallest(3, l))\n",
    "print(heapq.nlargest(3, l))"
   ]
  },
  {
   "cell_type": "code",
   "execution_count": 21,
   "metadata": {},
   "outputs": [
    {
     "name": "stdout",
     "output_type": "stream",
     "text": [
      "100\n",
      "99\n",
      "88\n",
      "77\n",
      "44\n",
      "33\n",
      "22\n",
      "11\n"
     ]
    }
   ],
   "source": [
    "# Python Heap Class - MAX HEAP\n",
    "import heapq\n",
    "l = [33,22,44,88,99,11,77]\n",
    "l = [item*-1 for item in l]\n",
    "heapq.heapify(l)\n",
    "heapq.heappush(l, -100)\n",
    "while(len(l) > 0):\n",
    "    print(heapq.heappop(l) * -1)"
   ]
  },
  {
   "cell_type": "code",
   "execution_count": 59,
   "metadata": {},
   "outputs": [
    {
     "name": "stdout",
     "output_type": "stream",
     "text": [
      "10\t11\t12\t13\t-77\t-44\t15\t\n",
      "[[10, 11, 12], [10, 13, -77, -44], [10, 13, 15]]\n",
      "['101112', '1013-77-44', '101315']\n",
      "38\n",
      "1\n"
     ]
    }
   ],
   "source": [
    "# Binary Trees\n",
    "class tnode():\n",
    "    def __init__(self, data=None):\n",
    "        self.data = data\n",
    "        self.left = None\n",
    "        self.right = None\n",
    "\n",
    "root = tnode(10)\n",
    "t1 = tnode(11)\n",
    "t2 = tnode(12)\n",
    "t3 = tnode(13)\n",
    "t4 = tnode(15)\n",
    "t5 = tnode(-77)\n",
    "t6 = tnode(-44)\n",
    "\n",
    "root.left = t1\n",
    "root.right = t3\n",
    "t1.left = t2\n",
    "t3.right = t4\n",
    "t3.left = t5\n",
    "t5.right = t6\n",
    "\n",
    "# inorder traversal\n",
    "def preorder(t):\n",
    "    if(t):\n",
    "        print(t.data, end = '\\t')\n",
    "        preorder(t.left)\n",
    "        preorder(t.right)\n",
    "\n",
    "preorder(root)\n",
    "print()\n",
    "# Print root-to-leaf node paths\n",
    "def get_root_to_leaf_node_path(root, path, paths):\n",
    "    if root == None:\n",
    "        return\n",
    "\n",
    "    path = path + [root.data]\n",
    "    if root.left == None and root.right == None:\n",
    "        paths.append(path)\n",
    "    get_root_to_leaf_node_path(root.left, path, paths)\n",
    "    get_root_to_leaf_node_path(root.right, path, paths)\n",
    "\n",
    "paths = []\n",
    "get_root_to_leaf_node_path(root, [], paths)\n",
    "print(paths)\n",
    "\n",
    "# Print Path Concatenations\n",
    "def get_path_concatenation(root, path, paths):\n",
    "    if root == None:\n",
    "        return\n",
    "    \n",
    "    path = path + str(root.data)\n",
    "    if root.left == None and root.right == None:\n",
    "        paths.append(path)\n",
    "    get_path_concatenation(root.left, path, paths)\n",
    "    get_path_concatenation(root.right, path, paths)\n",
    "\n",
    "paths = []\n",
    "get_path_concatenation(root, '', paths)\n",
    "print(paths)\n",
    "\n",
    "# get max sum path\n",
    "def get_max_sum_path(root, path):\n",
    "    global maxsum\n",
    "    if root == None:\n",
    "        return 0\n",
    "    \n",
    "    path = path + root.data\n",
    "    if path > maxsum:\n",
    "        maxsum = path\n",
    "    get_max_sum_path(root.left, path)\n",
    "    get_max_sum_path(root.right, path)\n",
    "\n",
    "maxsum = float(\"-infinity\")\n",
    "get_max_sum_path(root, 0)\n",
    "print(maxsum)\n",
    "\n",
    "# get max sum path\n",
    "def path_exists(root, path, val):\n",
    "    if root == None:\n",
    "        return 0\n",
    "    \n",
    "    path = path + root.data\n",
    "    if path == val:\n",
    "        return 1\n",
    "    return (path_exists(root.left, path, val) or path_exists(root.right, path, val))\n",
    "\n",
    "val = -98\n",
    "print(path_exists(root, 0, val))"
   ]
  },
  {
   "cell_type": "code",
   "execution_count": 39,
   "metadata": {},
   "outputs": [
    {
     "name": "stdout",
     "output_type": "stream",
     "text": [
      "-inf\n",
      "inf\n"
     ]
    }
   ],
   "source": [
    "maxsum = float(\"-infinity\")\n",
    "print(maxsum)\n",
    "maxsum = float(\"infinity\")\n",
    "print(maxsum)"
   ]
  },
  {
   "cell_type": "code",
   "execution_count": null,
   "metadata": {},
   "outputs": [],
   "source": []
  }
 ],
 "metadata": {
  "kernelspec": {
   "display_name": "Python 3",
   "language": "python",
   "name": "python3"
  },
  "language_info": {
   "codemirror_mode": {
    "name": "ipython",
    "version": 3
   },
   "file_extension": ".py",
   "mimetype": "text/x-python",
   "name": "python",
   "nbconvert_exporter": "python",
   "pygments_lexer": "ipython3",
   "version": "3.7.1"
  }
 },
 "nbformat": 4,
 "nbformat_minor": 2
}
