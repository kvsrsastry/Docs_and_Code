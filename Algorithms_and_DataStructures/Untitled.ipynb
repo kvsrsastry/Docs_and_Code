{
 "cells": [
  {
   "cell_type": "code",
   "execution_count": 1,
   "metadata": {},
   "outputs": [],
   "source": [
    "l = [1,1,1,1,2,2,3,3,3]"
   ]
  },
  {
   "cell_type": "code",
   "execution_count": 22,
   "metadata": {},
   "outputs": [
    {
     "name": "stdout",
     "output_type": "stream",
     "text": [
      "[(1, 4)]\n",
      "Counter({1: 4, 3: 3, 2: 2})\n",
      "dict_values([4, 2, 3])\n"
     ]
    },
    {
     "data": {
      "text/plain": [
       "Counter()"
      ]
     },
     "execution_count": 22,
     "metadata": {},
     "output_type": "execute_result"
    }
   ],
   "source": [
    "from collections import Counter\n",
    "c = Counter(l)\n",
    "print(c.most_common(1))\n",
    "print(c)\n",
    "print(c.values())\n",
    "c.clear()\n",
    "c"
   ]
  },
  {
   "cell_type": "code",
   "execution_count": 12,
   "metadata": {},
   "outputs": [
    {
     "data": {
      "text/plain": [
       "{1: 4, 2: 2, 3: 3}"
      ]
     },
     "execution_count": 12,
     "metadata": {},
     "output_type": "execute_result"
    }
   ],
   "source": [
    "d = dict(c)\n",
    "type(d)\n",
    "d"
   ]
  },
  {
   "cell_type": "code",
   "execution_count": 25,
   "metadata": {},
   "outputs": [
    {
     "data": {
      "text/plain": [
       "'0-1-2-3-4-5-6-7-8-9-10-11-12-13-14-15-16-17-18-19-20-21-22-23-24-25-26-27-28-29-30-31-32-33-34-35-36-37-38-39-40-41-42-43-44-45-46-47-48-49-50-51-52-53-54-55-56-57-58-59-60-61-62-63-64-65-66-67-68-69-70-71-72-73-74-75-76-77-78-79-80-81-82-83-84-85-86-87-88-89-90-91-92-93-94-95-96-97-98-99'"
      ]
     },
     "execution_count": 25,
     "metadata": {},
     "output_type": "execute_result"
    }
   ],
   "source": [
    "'-'.join(str(n) for n in range(0,100))"
   ]
  },
  {
   "cell_type": "code",
   "execution_count": 26,
   "metadata": {},
   "outputs": [
    {
     "data": {
      "text/plain": [
       "range"
      ]
     },
     "execution_count": 26,
     "metadata": {},
     "output_type": "execute_result"
    }
   ],
   "source": [
    "range"
   ]
  },
  {
   "cell_type": "code",
   "execution_count": 28,
   "metadata": {},
   "outputs": [
    {
     "data": {
      "text/plain": [
       "range"
      ]
     },
     "execution_count": 28,
     "metadata": {},
     "output_type": "execute_result"
    }
   ],
   "source": [
    "type(range(100))"
   ]
  },
  {
   "cell_type": "code",
   "execution_count": 29,
   "metadata": {},
   "outputs": [],
   "source": [
    "g = range(10)"
   ]
  },
  {
   "cell_type": "code",
   "execution_count": 35,
   "metadata": {},
   "outputs": [],
   "source": [
    "g = iter(g)"
   ]
  },
  {
   "cell_type": "code",
   "execution_count": 36,
   "metadata": {},
   "outputs": [
    {
     "data": {
      "text/plain": [
       "0"
      ]
     },
     "execution_count": 36,
     "metadata": {},
     "output_type": "execute_result"
    }
   ],
   "source": [
    "next(g)"
   ]
  },
  {
   "cell_type": "code",
   "execution_count": 52,
   "metadata": {},
   "outputs": [
    {
     "data": {
      "text/plain": [
       "0.468653418996837"
      ]
     },
     "execution_count": 52,
     "metadata": {},
     "output_type": "execute_result"
    }
   ],
   "source": [
    "import timeit\n",
    "timeit.timeit('\"-\".join(map(lambda x: str(x), range(100)))', number=10000)"
   ]
  },
  {
   "cell_type": "code",
   "execution_count": 53,
   "metadata": {},
   "outputs": [
    {
     "data": {
      "text/plain": [
       "0.36402440699748695"
      ]
     },
     "execution_count": 53,
     "metadata": {},
     "output_type": "execute_result"
    }
   ],
   "source": [
    "import timeit\n",
    "timeit.timeit('\"-\".join([str(x) for x in range(100)])', number=10000)"
   ]
  },
  {
   "cell_type": "code",
   "execution_count": 56,
   "metadata": {},
   "outputs": [
    {
     "data": {
      "text/plain": [
       "0.28902342099900125"
      ]
     },
     "execution_count": 56,
     "metadata": {},
     "output_type": "execute_result"
    }
   ],
   "source": [
    "import timeit\n",
    "timeit.timeit('\"-\".join([str(x) for x in range(100)])', number=10000)"
   ]
  },
  {
   "cell_type": "code",
   "execution_count": 108,
   "metadata": {},
   "outputs": [
    {
     "data": {
      "text/plain": [
       "['abc', 'def', 'ghi123']"
      ]
     },
     "execution_count": 108,
     "metadata": {},
     "output_type": "execute_result"
    }
   ],
   "source": [
    "import re\n",
    "s = 'abc@@@def@@ghi123'\n",
    "re.split('@+', s)"
   ]
  },
  {
   "cell_type": "code",
   "execution_count": 109,
   "metadata": {},
   "outputs": [
    {
     "data": {
      "text/plain": [
       "'abc@@@def@@ghi123'"
      ]
     },
     "execution_count": 109,
     "metadata": {},
     "output_type": "execute_result"
    }
   ],
   "source": [
    "s"
   ]
  },
  {
   "cell_type": "code",
   "execution_count": 110,
   "metadata": {},
   "outputs": [
    {
     "data": {
      "text/plain": [
       "['abc', '@def', 'ghi123']"
      ]
     },
     "execution_count": 110,
     "metadata": {},
     "output_type": "execute_result"
    }
   ],
   "source": [
    "s.split('@@')"
   ]
  },
  {
   "cell_type": "code",
   "execution_count": 111,
   "metadata": {},
   "outputs": [
    {
     "data": {
      "text/plain": [
       "'abc@@@def@@ghi123'"
      ]
     },
     "execution_count": 111,
     "metadata": {},
     "output_type": "execute_result"
    }
   ],
   "source": [
    "s"
   ]
  },
  {
   "cell_type": "code",
   "execution_count": 112,
   "metadata": {},
   "outputs": [
    {
     "data": {
      "text/plain": [
       "['',\n",
       " 'a',\n",
       " 'b',\n",
       " 'c',\n",
       " '@',\n",
       " '@',\n",
       " '@',\n",
       " 'd',\n",
       " 'e',\n",
       " 'f',\n",
       " '@',\n",
       " '@',\n",
       " 'g',\n",
       " 'h',\n",
       " 'i',\n",
       " '1',\n",
       " '2',\n",
       " '3',\n",
       " '']"
      ]
     },
     "execution_count": 112,
     "metadata": {},
     "output_type": "execute_result"
    }
   ],
   "source": [
    "re.split('', s)"
   ]
  },
  {
   "cell_type": "code",
   "execution_count": 113,
   "metadata": {},
   "outputs": [
    {
     "data": {
      "text/plain": [
       "['a',\n",
       " 'b',\n",
       " 'c',\n",
       " '@',\n",
       " '@',\n",
       " '@',\n",
       " 'd',\n",
       " 'e',\n",
       " 'f',\n",
       " '@',\n",
       " '@',\n",
       " 'g',\n",
       " 'h',\n",
       " 'i',\n",
       " '1',\n",
       " '2',\n",
       " '3']"
      ]
     },
     "execution_count": 113,
     "metadata": {},
     "output_type": "execute_result"
    }
   ],
   "source": [
    "re.findall('[\\w\\W]', s)"
   ]
  },
  {
   "cell_type": "code",
   "execution_count": 86,
   "metadata": {},
   "outputs": [
    {
     "data": {
      "text/plain": [
       "'abc@@@def@@ghi'"
      ]
     },
     "execution_count": 86,
     "metadata": {},
     "output_type": "execute_result"
    }
   ],
   "source": [
    "s"
   ]
  },
  {
   "cell_type": "code",
   "execution_count": 90,
   "metadata": {},
   "outputs": [],
   "source": [
    "m = re.search('@@',s)"
   ]
  },
  {
   "cell_type": "code",
   "execution_count": 91,
   "metadata": {},
   "outputs": [
    {
     "data": {
      "text/plain": [
       "(3, 5)"
      ]
     },
     "execution_count": 91,
     "metadata": {},
     "output_type": "execute_result"
    }
   ],
   "source": [
    "m.span()"
   ]
  },
  {
   "cell_type": "code",
   "execution_count": 95,
   "metadata": {},
   "outputs": [
    {
     "ename": "ModuleNotFoundError",
     "evalue": "No module named 'StringIO'",
     "output_type": "error",
     "traceback": [
      "\u001b[1;31m---------------------------------------------------------------------------\u001b[0m",
      "\u001b[1;31mModuleNotFoundError\u001b[0m                       Traceback (most recent call last)",
      "\u001b[1;32m<ipython-input-95-3e4825b8299f>\u001b[0m in \u001b[0;36m<module>\u001b[1;34m\u001b[0m\n\u001b[1;32m----> 1\u001b[1;33m \u001b[1;32mimport\u001b[0m \u001b[0mStringIO\u001b[0m\u001b[1;33m\u001b[0m\u001b[1;33m\u001b[0m\u001b[0m\n\u001b[0m",
      "\u001b[1;31mModuleNotFoundError\u001b[0m: No module named 'StringIO'"
     ]
    }
   ],
   "source": [
    "import StringIO"
   ]
  },
  {
   "cell_type": "code",
   "execution_count": 115,
   "metadata": {},
   "outputs": [
    {
     "name": "stdout",
     "output_type": "stream",
     "text": [
      "Ganesh is the pratham pujya\n",
      "Lalithamba is the Supreme Power"
     ]
    }
   ],
   "source": [
    "import io\n",
    "st = 'Ganesh is the pratham pujya'\n",
    "fh = io.StringIO(st)\n",
    "fh.read()\n",
    "fh.write('\\nLalithamba is the Supreme Power')\n",
    "fh.seek(0)\n",
    "for line in fh:\n",
    "    print(line, end='')\n",
    "io.StringIO.close(fh)"
   ]
  },
  {
   "cell_type": "code",
   "execution_count": 99,
   "metadata": {},
   "outputs": [
    {
     "data": {
      "text/plain": [
       "0"
      ]
     },
     "execution_count": 99,
     "metadata": {},
     "output_type": "execute_result"
    }
   ],
   "source": [
    "fh.seek(0)"
   ]
  },
  {
   "cell_type": "code",
   "execution_count": 100,
   "metadata": {},
   "outputs": [
    {
     "name": "stdout",
     "output_type": "stream",
     "text": [
      "Ganesh is the pratham pujya\n"
     ]
    }
   ],
   "source": [
    "for line in fh:\n",
    "    print(line)"
   ]
  },
  {
   "cell_type": "code",
   "execution_count": 101,
   "metadata": {},
   "outputs": [
    {
     "data": {
      "text/plain": [
       "32"
      ]
     },
     "execution_count": 101,
     "metadata": {},
     "output_type": "execute_result"
    }
   ],
   "source": [
    "fh.write('\\nLalithamba is the Supreme Power')"
   ]
  },
  {
   "cell_type": "code",
   "execution_count": 102,
   "metadata": {},
   "outputs": [
    {
     "data": {
      "text/plain": [
       "''"
      ]
     },
     "execution_count": 102,
     "metadata": {},
     "output_type": "execute_result"
    }
   ],
   "source": [
    "fh.read()"
   ]
  },
  {
   "cell_type": "code",
   "execution_count": 104,
   "metadata": {},
   "outputs": [
    {
     "name": "stdout",
     "output_type": "stream",
     "text": [
      "Ganesh is the pratham pujya\n",
      "Lalithamba is the Supreme Power\n"
     ]
    }
   ],
   "source": [
    "fh.seek(0)\n",
    "print(fh.read())"
   ]
  },
  {
   "cell_type": "code",
   "execution_count": 119,
   "metadata": {},
   "outputs": [
    {
     "data": {
      "text/plain": [
       "True"
      ]
     },
     "execution_count": 119,
     "metadata": {},
     "output_type": "execute_result"
    }
   ],
   "source": [
    "'HELLO'.endswith('LLO')"
   ]
  },
  {
   "cell_type": "code",
   "execution_count": 122,
   "metadata": {},
   "outputs": [
    {
     "data": {
      "text/plain": [
       "True"
      ]
     },
     "execution_count": 122,
     "metadata": {},
     "output_type": "execute_result"
    }
   ],
   "source": [
    "'HELLO'.startswith('HE')"
   ]
  },
  {
   "cell_type": "code",
   "execution_count": 125,
   "metadata": {},
   "outputs": [
    {
     "data": {
      "text/plain": [
       "('HELLO', '', '')"
      ]
     },
     "execution_count": 125,
     "metadata": {},
     "output_type": "execute_result"
    }
   ],
   "source": [
    "'HELLO'.partition('G')"
   ]
  },
  {
   "cell_type": "code",
   "execution_count": 126,
   "metadata": {},
   "outputs": [
    {
     "data": {
      "text/plain": [
       "{1: 4, 2: 2, 3: 3}"
      ]
     },
     "execution_count": 126,
     "metadata": {},
     "output_type": "execute_result"
    }
   ],
   "source": [
    "d"
   ]
  },
  {
   "cell_type": "code",
   "execution_count": 127,
   "metadata": {},
   "outputs": [
    {
     "data": {
      "text/plain": [
       "dict_items([(1, 4), (2, 2), (3, 3)])"
      ]
     },
     "execution_count": 127,
     "metadata": {},
     "output_type": "execute_result"
    }
   ],
   "source": [
    "d.items()"
   ]
  },
  {
   "cell_type": "code",
   "execution_count": 128,
   "metadata": {},
   "outputs": [
    {
     "ename": "AttributeError",
     "evalue": "'dict' object has no attribute 'iteritems'",
     "output_type": "error",
     "traceback": [
      "\u001b[1;31m---------------------------------------------------------------------------\u001b[0m",
      "\u001b[1;31mAttributeError\u001b[0m                            Traceback (most recent call last)",
      "\u001b[1;32m<ipython-input-128-8d84036ce0a9>\u001b[0m in \u001b[0;36m<module>\u001b[1;34m\u001b[0m\n\u001b[1;32m----> 1\u001b[1;33m \u001b[0md\u001b[0m\u001b[1;33m.\u001b[0m\u001b[0miteritems\u001b[0m\u001b[1;33m(\u001b[0m\u001b[1;33m)\u001b[0m\u001b[1;33m\u001b[0m\u001b[1;33m\u001b[0m\u001b[0m\n\u001b[0m",
      "\u001b[1;31mAttributeError\u001b[0m: 'dict' object has no attribute 'iteritems'"
     ]
    }
   ],
   "source": [
    "d.iteritems()"
   ]
  },
  {
   "cell_type": "code",
   "execution_count": 129,
   "metadata": {},
   "outputs": [
    {
     "data": {
      "text/plain": [
       "dict_keys([1, 2, 3])"
      ]
     },
     "execution_count": 129,
     "metadata": {},
     "output_type": "execute_result"
    }
   ],
   "source": [
    "d.keys()"
   ]
  },
  {
   "cell_type": "code",
   "execution_count": 130,
   "metadata": {},
   "outputs": [
    {
     "data": {
      "text/plain": [
       "dict_values([4, 2, 3])"
      ]
     },
     "execution_count": 130,
     "metadata": {},
     "output_type": "execute_result"
    }
   ],
   "source": [
    "d.values()"
   ]
  },
  {
   "cell_type": "code",
   "execution_count": 131,
   "metadata": {},
   "outputs": [
    {
     "ename": "AttributeError",
     "evalue": "'dict' object has no attribute 'viewvalues'",
     "output_type": "error",
     "traceback": [
      "\u001b[1;31m---------------------------------------------------------------------------\u001b[0m",
      "\u001b[1;31mAttributeError\u001b[0m                            Traceback (most recent call last)",
      "\u001b[1;32m<ipython-input-131-4d276b6173cc>\u001b[0m in \u001b[0;36m<module>\u001b[1;34m\u001b[0m\n\u001b[1;32m----> 1\u001b[1;33m \u001b[0md\u001b[0m\u001b[1;33m.\u001b[0m\u001b[0mviewvalues\u001b[0m\u001b[1;33m(\u001b[0m\u001b[1;33m)\u001b[0m\u001b[1;33m\u001b[0m\u001b[1;33m\u001b[0m\u001b[0m\n\u001b[0m",
      "\u001b[1;31mAttributeError\u001b[0m: 'dict' object has no attribute 'viewvalues'"
     ]
    }
   ],
   "source": [
    "d.viewvalues()"
   ]
  },
  {
   "cell_type": "code",
   "execution_count": 132,
   "metadata": {},
   "outputs": [],
   "source": [
    "d = {x:x**2 for x in range(8)}"
   ]
  },
  {
   "cell_type": "code",
   "execution_count": 137,
   "metadata": {},
   "outputs": [
    {
     "name": "stdout",
     "output_type": "stream",
     "text": [
      "0 0\n",
      "1 1\n",
      "2 4\n",
      "3 9\n",
      "4 16\n",
      "5 25\n",
      "6 36\n",
      "7 49\n"
     ]
    }
   ],
   "source": [
    "for k,v in d.items():\n",
    "    print(k,v)"
   ]
  },
  {
   "cell_type": "code",
   "execution_count": 138,
   "metadata": {},
   "outputs": [
    {
     "data": {
      "text/plain": [
       "[1, 1, 1, 1, 2, 2, 3, 3, 3]"
      ]
     },
     "execution_count": 138,
     "metadata": {},
     "output_type": "execute_result"
    }
   ],
   "source": [
    "l"
   ]
  },
  {
   "cell_type": "code",
   "execution_count": 139,
   "metadata": {},
   "outputs": [],
   "source": [
    "del l[2]"
   ]
  },
  {
   "cell_type": "code",
   "execution_count": 140,
   "metadata": {},
   "outputs": [
    {
     "data": {
      "text/plain": [
       "[1, 1, 1, 2, 2, 3, 3, 3]"
      ]
     },
     "execution_count": 140,
     "metadata": {},
     "output_type": "execute_result"
    }
   ],
   "source": [
    "l"
   ]
  },
  {
   "cell_type": "code",
   "execution_count": 141,
   "metadata": {},
   "outputs": [],
   "source": [
    "l.remove(1)"
   ]
  },
  {
   "cell_type": "code",
   "execution_count": 142,
   "metadata": {},
   "outputs": [
    {
     "data": {
      "text/plain": [
       "[1, 1, 2, 2, 3, 3, 3]"
      ]
     },
     "execution_count": 142,
     "metadata": {},
     "output_type": "execute_result"
    }
   ],
   "source": [
    "l"
   ]
  },
  {
   "cell_type": "code",
   "execution_count": 143,
   "metadata": {},
   "outputs": [],
   "source": [
    "while l.count(1) > 0: l.remove(1)"
   ]
  },
  {
   "cell_type": "code",
   "execution_count": 144,
   "metadata": {},
   "outputs": [
    {
     "data": {
      "text/plain": [
       "[2, 2, 3, 3, 3]"
      ]
     },
     "execution_count": 144,
     "metadata": {},
     "output_type": "execute_result"
    }
   ],
   "source": [
    "l"
   ]
  },
  {
   "cell_type": "code",
   "execution_count": 21,
   "metadata": {},
   "outputs": [
    {
     "name": "stdout",
     "output_type": "stream",
     "text": [
      "g\n",
      "h\n",
      "1\n",
      "2\n",
      "3\n"
     ]
    }
   ],
   "source": [
    "s = 'ganesh'\n",
    "si = iter(s)\n",
    "print(si.__next__())\n",
    "siter = reversed(s)\n",
    "print(siter.__next__())\n",
    "\n",
    "l = [1,2,3]\n",
    "liter = iter(l)\n",
    "print(liter.__next__())\n",
    "print(liter.__next__())\n",
    "print(liter.__next__())"
   ]
  },
  {
   "cell_type": "code",
   "execution_count": 40,
   "metadata": {},
   "outputs": [
    {
     "name": "stdout",
     "output_type": "stream",
     "text": [
      "ayjup mahtarp eht si hsenag\n",
      "pujya pratham the is ganesh\n",
      "pujya pratham the is ganesh\n",
      "['a', 'b', 'c']\n",
      "{'b', 'c', 'a'}\n",
      "[0, 1, 2, 3]\n",
      "[(0, 2), (0, 3), (1, 2), (1, 3)]\n"
     ]
    }
   ],
   "source": [
    "s = 'ganesh is the pratham pujya'\n",
    "print(''.join(list(reversed(s))))\n",
    "l = s.split()\n",
    "print(' '.join(list(reversed(l))))\n",
    "print(' '.join(reversed(l)))\n",
    "print(list(\"abc\"))\n",
    "print(set(\"abc\"))\n",
    "print([0,1] + [2,3])\n",
    "import itertools\n",
    "print(list(itertools.product([0,1], [2,3])))"
   ]
  },
  {
   "cell_type": "code",
   "execution_count": 35,
   "metadata": {},
   "outputs": [
    {
     "name": "stdout",
     "output_type": "stream",
     "text": [
      "abc\n",
      "acb\n",
      "bac\n",
      "bca\n",
      "cba\n",
      "cab\n"
     ]
    }
   ],
   "source": [
    "def perm(a, i, n):\n",
    "    if i == n:\n",
    "        print(''.join(a))\n",
    "    else:\n",
    "        for k in range(i, n):\n",
    "            a[k], a[i] = a[i], a[k]\n",
    "            perm(a, i+1, n)\n",
    "            a[k], a[i] = a[i], a[k]\n",
    "\n",
    "perm(list(\"abc\"), 0, 3)"
   ]
  },
  {
   "cell_type": "code",
   "execution_count": 41,
   "metadata": {},
   "outputs": [
    {
     "name": "stdout",
     "output_type": "stream",
     "text": [
      "abc\n",
      "ab\n"
     ]
    }
   ],
   "source": [
    "s = 'abc'\n",
    "print(s)\n",
    "s = s[0:-1]\n",
    "print(s)"
   ]
  },
  {
   "cell_type": "code",
   "execution_count": 42,
   "metadata": {},
   "outputs": [
    {
     "name": "stdout",
     "output_type": "stream",
     "text": [
      "['a', 'ab', 'abc', 'ac', 'b', 'bc', 'c']\n"
     ]
    }
   ],
   "source": [
    "def comb(a, s, idx, li):\n",
    "    for i in range(idx, len(a)):\n",
    "        s = s + a[i]\n",
    "        li.append(s)\n",
    "        comb(a, s, i+1, li)\n",
    "        s = s[0:-1]\n",
    "\n",
    "res = []\n",
    "comb(\"abc\", \"\", 0, res)\n",
    "print(res)"
   ]
  },
  {
   "cell_type": "code",
   "execution_count": 58,
   "metadata": {},
   "outputs": [
    {
     "name": "stdout",
     "output_type": "stream",
     "text": [
      "['A', 'C', 'B', 'A']\n",
      "[]\n",
      "['B', 'A']\n",
      "['B']\n"
     ]
    }
   ],
   "source": [
    "def rem_adj(lst):\n",
    "    i = 1\n",
    "    while i < len(lst) and len(lst) > 1:\n",
    "        if lst[i] == lst[i-1]:\n",
    "            lst.pop(i)\n",
    "            lst.pop(i-1)\n",
    "            i = i - 2\n",
    "        i = i + 1\n",
    "    print(lst)\n",
    "rem_adj(list(\"ABCCBCBA\"))\n",
    "rem_adj(list(\"ABCCCCBA\"))\n",
    "rem_adj(list(\"ABCCBABA\"))\n",
    "rem_adj(list(\"ABCCBAB\"))"
   ]
  },
  {
   "cell_type": "code",
   "execution_count": 64,
   "metadata": {},
   "outputs": [
    {
     "name": "stdout",
     "output_type": "stream",
     "text": [
      "ganesh#@#is#@#the#@#pratham#@#pujya\n"
     ]
    }
   ],
   "source": [
    "s = 'ganesh is the pratham pujya'\n",
    "s = s.replace(' ', '#@#')\n",
    "print(s)"
   ]
  },
  {
   "cell_type": "code",
   "execution_count": 68,
   "metadata": {},
   "outputs": [
    {
     "name": "stdout",
     "output_type": "stream",
     "text": [
      "http%3A//www.careermonk.com/sample%20one.html\n",
      "http://www.careermonk.com/sample one.html\n"
     ]
    }
   ],
   "source": [
    "import urllib\n",
    "q_url = urllib.parse.quote('http://www.careermonk.com/sample one.html')\n",
    "print(q_url)\n",
    "print(urllib.parse.unquote(q_url))"
   ]
  },
  {
   "cell_type": "code",
   "execution_count": 121,
   "metadata": {},
   "outputs": [
    {
     "name": "stdout",
     "output_type": "stream",
     "text": [
      "[5, 1, 2, 3, 4]\n",
      "[4, 5, 1, 2, 3]\n",
      "[3, 4, 5, 1, 2]\n",
      "[2, 3, 4, 5, 1]\n",
      "[1, 2, 3, 4, 5]\n",
      "[1, 2, 3, 4, 5, 1, 2, 3, 4, 5]\n",
      "[5, 5, 4, 4, 3, 3, 2, 2, 1, 1]\n",
      "[5, 4, 3, 2, 1, 5, 4, 3, 2, 1]\n",
      "[1, 2, 3, 4, 5, 1, 2, 3, 4, 5]\n",
      "[5, 4, 3, 2, 1, 5, 4, 3, 2, 1]\n",
      "[1, 1, 2, 2, 3, 3, 4, 4, 5, 5]\n",
      "[[0, 0, 0, 0], [0, 0, 0, 0], [0, 0, 0, 0]]\n",
      "[[0, 0, 0, 0], [0, 0, 0, 0], [0, 0, 0, 0]]\n",
      "1\n",
      "1\n",
      "2\n",
      "[1, 2, 3]\n",
      "[2, 3, 33]\n",
      "[2, 3, 33]\n"
     ]
    }
   ],
   "source": [
    "l = [1,2,3,4,5]\n",
    "if l.count(6) > 0: l.remove(6)  # This way, it will not throw exception 'ValueError'. There is no method 'discard'\n",
    "l[::-1]                         # Reverses a list\n",
    "l[-1:-6:-1]                     # Reverse a list\n",
    "l[0:-3:1]                       # Prints first (n - 3) elements\n",
    "l[-1:-3:-1]                     # Prints last 2 elements in the list\n",
    "l[-1:3:-1]                      # Prints last 1 element in this list\n",
    "\n",
    "# Rotate list\n",
    "for i in range(len(l)):\n",
    "    l.insert(0, l.pop())\n",
    "    print(l)\n",
    "\n",
    "l = l + l\n",
    "print(l)\n",
    "print(sorted(l, reverse=True)) # l will not change\n",
    "print(list(reversed(l)))       # l will not change\n",
    "print(l)\n",
    "l.reverse() # In-place\n",
    "print(l)\n",
    "l.sort()\n",
    "print(l)\n",
    "\n",
    "# Create a (m x n) matrix\n",
    "m = 3\n",
    "n = 4\n",
    "print([[0 for _ in range(n)] for _ in range(m)])\n",
    "print([[0] * n for i in range(m)])\n",
    "\n",
    "# List object is not an iterator\n",
    "# Converting it to an iterator using iter function\n",
    "liter = iter(l)\n",
    "print(next(liter))\n",
    "print(next(liter))\n",
    "print(next(liter))\n",
    "\n",
    "# passing lists to a function and changing them in the function\n",
    "def change_list(l):\n",
    "    l.append(33)\n",
    "    l.pop(0)\n",
    "    print(l)\n",
    "\n",
    "ol = [1,2,3]\n",
    "print(ol)\n",
    "change_list(ol)\n",
    "print(ol)"
   ]
  },
  {
   "cell_type": "code",
   "execution_count": 118,
   "metadata": {},
   "outputs": [
    {
     "name": "stdout",
     "output_type": "stream",
     "text": [
      "(1, 2, 3)\n",
      "(1, 2, 3, 1, 2, 3)\n",
      "(1, 2, 3)\n"
     ]
    }
   ],
   "source": [
    "def change_list(l):\n",
    "    l = l + l\n",
    "    print(l)\n",
    "\n",
    "tup = (1,2,3)\n",
    "print(tup)\n",
    "change_list(tup)\n",
    "print(tup)"
   ]
  },
  {
   "cell_type": "code",
   "execution_count": 128,
   "metadata": {},
   "outputs": [
    {
     "name": "stdout",
     "output_type": "stream",
     "text": [
      "dict_keys(['ganesh', 200, 'lalithamba'])\n",
      "ganesh\n",
      "200\n",
      "lalithamba\n",
      "ganesh\n",
      "200\n",
      "lalithamba\n"
     ]
    }
   ],
   "source": [
    "d = {'ganesh':100, 200:300, 'lalithamba': 1000}\n",
    "print(d.keys())\n",
    "for k in d:\n",
    "    print(k)\n",
    "# Dict object is not an iterator .. it is just an iterable\n",
    "# Creating an iterator from iterable using iter function\n",
    "diter = iter(d)\n",
    "print(next(diter))\n",
    "print(next(diter))\n",
    "print(next(diter))"
   ]
  },
  {
   "cell_type": "code",
   "execution_count": 129,
   "metadata": {},
   "outputs": [
    {
     "name": "stdout",
     "output_type": "stream",
     "text": [
      "{'ganesh': 100, 200: 300, 'lalithamba': 1000}\n",
      "{'ganesh': 111, 200: 300, 'lalithamba': 1000, 'kvsr': 100}\n"
     ]
    }
   ],
   "source": [
    "def change_dict(d):\n",
    "    d['ganesh'] = 111\n",
    "    d['kvsr'] = 100\n",
    "\n",
    "d = {'ganesh':100, 200:300, 'lalithamba': 1000}\n",
    "print(d)\n",
    "change_dict(d)\n",
    "print(d)"
   ]
  },
  {
   "cell_type": "code",
   "execution_count": 134,
   "metadata": {},
   "outputs": [
    {
     "data": {
      "text/plain": [
       "[3, 2]"
      ]
     },
     "execution_count": 134,
     "metadata": {},
     "output_type": "execute_result"
    }
   ],
   "source": [
    "l = [1,2,3,4,5]\n",
    "l[2:0:-1]"
   ]
  },
  {
   "cell_type": "code",
   "execution_count": 140,
   "metadata": {},
   "outputs": [
    {
     "data": {
      "text/plain": [
       "[[0, 0], [0, 0], [0, 0]]"
      ]
     },
     "execution_count": 140,
     "metadata": {},
     "output_type": "execute_result"
    }
   ],
   "source": [
    "m = 3\n",
    "n = 2\n",
    "# m x n Matrix = m rows and n columns\n",
    "[[0] * n] * m"
   ]
  },
  {
   "cell_type": "code",
   "execution_count": 147,
   "metadata": {},
   "outputs": [
    {
     "name": "stdout",
     "output_type": "stream",
     "text": [
      "2\n",
      "{1: 2, 3: 4, 5: 6}\n"
     ]
    }
   ],
   "source": [
    "d = {1:2, 3:4, 5:6}\n",
    "newkey = 1\n",
    "if d.get(newkey) == None:\n",
    "    d[newkey] = 33\n",
    "else:\n",
    "    print(d.get(newkey))\n",
    "print(d)"
   ]
  },
  {
   "cell_type": "code",
   "execution_count": 157,
   "metadata": {},
   "outputs": [
    {
     "data": {
      "text/plain": [
       "20"
      ]
     },
     "execution_count": 157,
     "metadata": {},
     "output_type": "execute_result"
    }
   ],
   "source": [
    "# sum\n",
    "from functools import reduce\n",
    "import operator\n",
    "reduce(operator.add, [1,2,3,4], 10)"
   ]
  },
  {
   "cell_type": "code",
   "execution_count": 168,
   "metadata": {},
   "outputs": [
    {
     "name": "stdout",
     "output_type": "stream",
     "text": [
      "[33]\n",
      "[33]\n",
      "[33]\n"
     ]
    }
   ],
   "source": [
    "def list_play(lis = []):\n",
    "    #if len(lis) != 0: lis = []\n",
    "    lis.append(33)\n",
    "    print(lis)\n",
    "\n",
    "list_play()\n",
    "list_play()\n",
    "list_play()"
   ]
  },
  {
   "cell_type": "code",
   "execution_count": 166,
   "metadata": {},
   "outputs": [
    {
     "name": "stdout",
     "output_type": "stream",
     "text": [
      "[33]\n",
      "[33]\n",
      "[33]\n"
     ]
    }
   ],
   "source": [
    "def list_play1(lis):\n",
    "    lis.append(33)\n",
    "    print(lis)\n",
    "    \n",
    "list_play1([])\n",
    "list_play1([])\n",
    "list_play1([])"
   ]
  },
  {
   "cell_type": "code",
   "execution_count": 175,
   "metadata": {},
   "outputs": [
    {
     "name": "stdout",
     "output_type": "stream",
     "text": [
      "[11]\t#\t1\n",
      "[11, 2]\t#\t2\n",
      "[11, 2, 3]\t#\t3\n",
      "[11, 2, 3]\t#\t3\n",
      "[11, 2, 3]\t#\t2\n",
      "[11, 2, 3]\t#\t1\n"
     ]
    }
   ],
   "source": [
    "from random import randint\n",
    "def list_play_recur(lis, i):\n",
    "    if i == 4:\n",
    "        return\n",
    "    lis.append(randint(1,11))\n",
    "    print(lis, i, sep = '\\t#\\t')\n",
    "    list_play_recur(lis, i+1)\n",
    "    print(lis, i, sep = '\\t#\\t')\n",
    "\n",
    "list_play_recur([], 1)"
   ]
  },
  {
   "cell_type": "code",
   "execution_count": 177,
   "metadata": {},
   "outputs": [
    {
     "name": "stdout",
     "output_type": "stream",
     "text": [
      "[]\t#\t1\n",
      "[8]\t#\t2\n",
      "[8, 1]\t#\t3\n",
      "[8, 1]\t#\t3\n",
      "[8]\t#\t2\n",
      "[]\t#\t1\n"
     ]
    }
   ],
   "source": [
    "from random import randint\n",
    "def list_play_recur(lis, i):\n",
    "    if i == 4:\n",
    "        return\n",
    "    tmp = randint(1,11)\n",
    "    print(lis, i, sep = '\\t#\\t')\n",
    "    list_play_recur(lis + [tmp], i+1)\n",
    "    print(lis, i, sep = '\\t#\\t')\n",
    "\n",
    "list_play_recur([], 1)"
   ]
  },
  {
   "cell_type": "code",
   "execution_count": 186,
   "metadata": {},
   "outputs": [
    {
     "name": "stdout",
     "output_type": "stream",
     "text": [
      "ganesh is the pratham pujya\n",
      "b'ganesh is the pratham pujya'\n"
     ]
    }
   ],
   "source": [
    "with open('asdf.txt', 'wb') as fw:\n",
    "    fw.write(b'ganesh is the pratham pujya')\n",
    "\n",
    "with open('asdf.txt', 'rb') as fh:\n",
    "    print(fh.read().decode('ascii'))\n",
    "    fh.seek(0,0)\n",
    "    print(fh.read())"
   ]
  },
  {
   "cell_type": "code",
   "execution_count": 190,
   "metadata": {},
   "outputs": [
    {
     "data": {
      "text/plain": [
       "[[0, 0, 0], [0, 0, 0], [0, 0, 0]]"
      ]
     },
     "execution_count": 190,
     "metadata": {},
     "output_type": "execute_result"
    }
   ],
   "source": [
    "[ [0] * 3 ] * 3"
   ]
  },
  {
   "cell_type": "code",
   "execution_count": 191,
   "metadata": {},
   "outputs": [
    {
     "name": "stdout",
     "output_type": "stream",
     "text": [
      "ganesh is the pratham pujya\n"
     ]
    }
   ],
   "source": [
    "print('ganesh is the pratham pujya')"
   ]
  },
  {
   "cell_type": "code",
   "execution_count": 195,
   "metadata": {},
   "outputs": [
    {
     "name": "stdout",
     "output_type": "stream",
     "text": [
      "NO\n"
     ]
    }
   ],
   "source": [
    "def findnumber(arr, k):\n",
    "    for item in arr:\n",
    "        if k == item:\n",
    "            return \"YES\"\n",
    "    return \"NO\"\n",
    "\n",
    "print(findnumber([2,3,1], 55))"
   ]
  },
  {
   "cell_type": "code",
   "execution_count": 197,
   "metadata": {},
   "outputs": [
    {
     "name": "stdout",
     "output_type": "stream",
     "text": [
      "[11, 13, 15, 17, 19]\n"
     ]
    }
   ],
   "source": [
    "def oddnumbers(l, r):\n",
    "    lis = []\n",
    "    for item in range(l, r+1):\n",
    "        if item % 2 == 1:\n",
    "            lis.append(item)\n",
    "    return lis\n",
    "\n",
    "print(oddnumbers(10, 20))"
   ]
  },
  {
   "cell_type": "code",
   "execution_count": 202,
   "metadata": {},
   "outputs": [
    {
     "name": "stdout",
     "output_type": "stream",
     "text": [
      "1\n",
      "4\n",
      "14\n"
     ]
    }
   ],
   "source": [
    "import math\n",
    "def minSum(num, k):\n",
    "    for move in range(0, k):\n",
    "        maxi = max(num)\n",
    "        maxi_half = math.ceil(maxi / 2)\n",
    "        num.remove(maxi)\n",
    "        num.insert(0, maxi_half)\n",
    "\n",
    "    return sum(num)\n",
    "\n",
    "print(minSum([2], 1))\n",
    "print(minSum([2, 3], 1))\n",
    "print(minSum([10,20,7], 4))"
   ]
  },
  {
   "cell_type": "code",
   "execution_count": 200,
   "metadata": {},
   "outputs": [
    {
     "name": "stdout",
     "output_type": "stream",
     "text": [
      "4\n"
     ]
    }
   ],
   "source": [
    "import math\n",
    "print(math.ceil(3.1))"
   ]
  },
  {
   "cell_type": "code",
   "execution_count": 5,
   "metadata": {},
   "outputs": [
    {
     "name": "stdout",
     "output_type": "stream",
     "text": [
      "1\n",
      "4\n",
      "14\n"
     ]
    }
   ],
   "source": [
    "import math\n",
    "import heapq\n",
    "def minSum(num, k):\n",
    "    num = [ item * -1 for item in num ]\n",
    "    heapq.heapify(num)\n",
    "    for move in range(0, k):\n",
    "        maxi = heapq.heappop(num) * -1\n",
    "        maxi_half = math.ceil(maxi / 2) * -1\n",
    "        heapq.heappush(num, maxi_half)\n",
    "\n",
    "    return sum(num) * -1\n",
    "\n",
    "print(minSum([2], 1))\n",
    "print(minSum([2, 3], 1))\n",
    "print(minSum([10,20,7], 4))"
   ]
  },
  {
   "cell_type": "code",
   "execution_count": 14,
   "metadata": {},
   "outputs": [
    {
     "name": "stdout",
     "output_type": "stream",
     "text": [
      "4.53 µs ± 58.9 ns per loop (mean ± std. dev. of 7 runs, 100000 loops each)\n",
      "3.01 µs ± 224 ns per loop (mean ± std. dev. of 7 runs, 100000 loops each)\n"
     ]
    }
   ],
   "source": [
    "def exam(v):\n",
    "    for i in range(0, len(v)):\n",
    "        if v[i] == 0:\n",
    "            v[i] = -1\n",
    "        \n",
    "    for k in range(0, len(v)):\n",
    "        my_score = sum(v[0:k])\n",
    "        my_friends_score = sum(v[k:])\n",
    "        if my_score > my_friends_score:\n",
    "            return k\n",
    "\n",
    "    return -1\n",
    "\n",
    "%timeit exam([1,1,1,0,1])\n",
    "%timeit exam([1,0,0,1,0])"
   ]
  },
  {
   "cell_type": "code",
   "execution_count": 29,
   "metadata": {},
   "outputs": [
    {
     "name": "stdout",
     "output_type": "stream",
     "text": [
      "3.13 µs ± 160 ns per loop (mean ± std. dev. of 7 runs, 100000 loops each)\n",
      "2.01 µs ± 164 ns per loop (mean ± std. dev. of 7 runs, 100000 loops each)\n"
     ]
    }
   ],
   "source": [
    "def exam2(v):\n",
    "    for i in range(0, len(v)):\n",
    "        if v[i] == 0:\n",
    "            v[i] = -1\n",
    "    \n",
    "    k = 0\n",
    "    my_score = 0\n",
    "    my_friends_score = sum(v[k:])\n",
    "    if my_score > my_friends_score:\n",
    "            return k\n",
    "\n",
    "    for k in range(1, len(v)):\n",
    "        my_score += v[k-1]\n",
    "        my_friends_score -= v[k-1]\n",
    "        if my_score > my_friends_score:\n",
    "            return k\n",
    "\n",
    "    return -1\n",
    "\n",
    "%timeit exam2([1,1,1,0,1])\n",
    "%timeit exam2([1,0,0,1,0])"
   ]
  },
  {
   "cell_type": "code",
   "execution_count": 31,
   "metadata": {},
   "outputs": [
    {
     "name": "stdout",
     "output_type": "stream",
     "text": [
      "0.3577320510012214\n",
      "0.1990311070039752\n"
     ]
    }
   ],
   "source": [
    "def exam1(v):\n",
    "    for i in range(0, len(v)):\n",
    "        if v[i] == 0:\n",
    "            v[i] = -1\n",
    "    \n",
    "    k = 0\n",
    "    my_score = 0\n",
    "    my_friends_score = sum(v[k:])\n",
    "    if my_score > my_friends_score:\n",
    "            return k\n",
    "\n",
    "    for k in range(1, len(v)):\n",
    "        my_score += v[k-1]\n",
    "        my_friends_score -= v[k-1]\n",
    "        if my_score > my_friends_score:\n",
    "            return k\n",
    "\n",
    "    return -1\n",
    "\n",
    "import timeit\n",
    "print(timeit.timeit(\"exam1([1,1,1,0,1])\", setup = \"from __main__ import exam1\", number = 100000))\n",
    "print(timeit.timeit(\"exam1([1,0,0,1,0])\", setup = \"from __main__ import exam1\", number = 100000))"
   ]
  },
  {
   "cell_type": "code",
   "execution_count": null,
   "metadata": {},
   "outputs": [],
   "source": []
  }
 ],
 "metadata": {
  "kernelspec": {
   "display_name": "Python 3",
   "language": "python",
   "name": "python3"
  },
  "language_info": {
   "codemirror_mode": {
    "name": "ipython",
    "version": 3
   },
   "file_extension": ".py",
   "mimetype": "text/x-python",
   "name": "python",
   "nbconvert_exporter": "python",
   "pygments_lexer": "ipython3",
   "version": "3.7.1"
  }
 },
 "nbformat": 4,
 "nbformat_minor": 2
}
